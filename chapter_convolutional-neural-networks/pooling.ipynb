{
 "cells": [
  {
   "cell_type": "markdown",
   "id": "ce3765fa",
   "metadata": {
    "slideshow": {
     "slide_type": "-"
    }
   },
   "source": [
    "# 汇聚层\n",
    "\n",
    "实现汇聚层的前向传播"
   ]
  },
  {
   "cell_type": "code",
   "execution_count": 2,
   "id": "81bce3a7",
   "metadata": {
    "execution": {
     "iopub.execute_input": "2023-08-14T18:59:52.329018Z",
     "iopub.status.busy": "2023-08-14T18:59:52.328618Z",
     "iopub.status.idle": "2023-08-14T18:59:52.334844Z",
     "shell.execute_reply": "2023-08-14T18:59:52.334041Z"
    },
    "origin_pos": 4,
    "tab": [
     "pytorch"
    ]
   },
   "outputs": [],
   "source": [
    "import torch\n",
    "from torch import nn\n",
    "from d2l import torch as d2l\n",
    "\n",
    "def pool2d(X, pool_size, mode='max'):\n",
    "    p_h, p_w = pool_size\n",
    "    Y = torch.zeros((X.shape[0] - p_h + 1, X.shape[1] - p_w + 1))\n",
    "    for i in range(Y.shape[0]):\n",
    "        for j in range(Y.shape[1]):\n",
    "            if mode == 'max':\n",
    "                Y[i, j] = X[i: i + p_h, j: j + p_w].max()\n",
    "            elif mode == 'avg':\n",
    "                Y[i, j] = X[i: i + p_h, j: j + p_w].mean()\n",
    "    return Y"
   ]
  },
  {
   "cell_type": "markdown",
   "id": "7f10f3a0",
   "metadata": {
    "slideshow": {
     "slide_type": "slide"
    }
   },
   "source": [
    "验证二维最大汇聚层的输出"
   ]
  },
  {
   "cell_type": "code",
   "execution_count": 3,
   "id": "31a96e6e",
   "metadata": {
    "execution": {
     "iopub.execute_input": "2023-08-14T18:59:52.338206Z",
     "iopub.status.busy": "2023-08-14T18:59:52.337903Z",
     "iopub.status.idle": "2023-08-14T18:59:52.364396Z",
     "shell.execute_reply": "2023-08-14T18:59:52.363590Z"
    },
    "origin_pos": 7,
    "tab": [
     "pytorch"
    ]
   },
   "outputs": [
    {
     "data": {
      "text/plain": [
       "tensor([[4., 5.],\n",
       "        [7., 8.]])"
      ]
     },
     "execution_count": 3,
     "metadata": {},
     "output_type": "execute_result"
    }
   ],
   "source": [
    "X = torch.tensor([[0.0, 1.0, 2.0], [3.0, 4.0, 5.0], [6.0, 7.0, 8.0]])\n",
    "pool2d(X, (2, 2))"
   ]
  },
  {
   "cell_type": "markdown",
   "id": "d9361c72",
   "metadata": {
    "slideshow": {
     "slide_type": "-"
    }
   },
   "source": [
    "验证平均汇聚层"
   ]
  },
  {
   "cell_type": "code",
   "execution_count": 4,
   "id": "cea4e0bc",
   "metadata": {
    "execution": {
     "iopub.execute_input": "2023-08-14T18:59:52.368082Z",
     "iopub.status.busy": "2023-08-14T18:59:52.367778Z",
     "iopub.status.idle": "2023-08-14T18:59:52.373921Z",
     "shell.execute_reply": "2023-08-14T18:59:52.373110Z"
    },
    "origin_pos": 9,
    "tab": [
     "pytorch"
    ]
   },
   "outputs": [
    {
     "data": {
      "text/plain": [
       "tensor([[2., 3.],\n",
       "        [5., 6.]])"
      ]
     },
     "execution_count": 4,
     "metadata": {},
     "output_type": "execute_result"
    }
   ],
   "source": [
    "pool2d(X, (2, 2), 'avg')"
   ]
  },
  {
   "cell_type": "markdown",
   "id": "3b14654f",
   "metadata": {
    "slideshow": {
     "slide_type": "slide"
    }
   },
   "source": [
    "填充和步幅"
   ]
  },
  {
   "cell_type": "code",
   "execution_count": 5,
   "id": "0d31e989",
   "metadata": {
    "execution": {
     "iopub.execute_input": "2023-08-14T18:59:52.377265Z",
     "iopub.status.busy": "2023-08-14T18:59:52.376962Z",
     "iopub.status.idle": "2023-08-14T18:59:52.383442Z",
     "shell.execute_reply": "2023-08-14T18:59:52.382664Z"
    },
    "origin_pos": 12,
    "tab": [
     "pytorch"
    ]
   },
   "outputs": [
    {
     "data": {
      "text/plain": [
       "tensor([[[[ 0.,  1.,  2.,  3.],\n",
       "          [ 4.,  5.,  6.,  7.],\n",
       "          [ 8.,  9., 10., 11.],\n",
       "          [12., 13., 14., 15.]]]])"
      ]
     },
     "execution_count": 5,
     "metadata": {},
     "output_type": "execute_result"
    }
   ],
   "source": [
    "X = torch.arange(16, dtype=torch.float32).reshape((1, 1, 4, 4))\n",
    "X"
   ]
  },
  {
   "cell_type": "markdown",
   "id": "ad9491ea",
   "metadata": {
    "slideshow": {
     "slide_type": "-"
    }
   },
   "source": [
    "深度学习框架中的步幅与汇聚窗口的大小相同"
   ]
  },
  {
   "cell_type": "code",
   "execution_count": 6,
   "id": "617870c4",
   "metadata": {
    "execution": {
     "iopub.execute_input": "2023-08-14T18:59:52.386734Z",
     "iopub.status.busy": "2023-08-14T18:59:52.386433Z",
     "iopub.status.idle": "2023-08-14T18:59:52.392390Z",
     "shell.execute_reply": "2023-08-14T18:59:52.391598Z"
    },
    "origin_pos": 17,
    "tab": [
     "pytorch"
    ]
   },
   "outputs": [
    {
     "data": {
      "text/plain": [
       "tensor([[[[10.]]]])"
      ]
     },
     "execution_count": 6,
     "metadata": {},
     "output_type": "execute_result"
    }
   ],
   "source": [
    "pool2d = nn.MaxPool2d(3)\n",
    "pool2d(X)"
   ]
  },
  {
   "cell_type": "markdown",
   "id": "dcef2e40",
   "metadata": {
    "slideshow": {
     "slide_type": "slide"
    }
   },
   "source": [
    "填充和步幅可以手动设定"
   ]
  },
  {
   "cell_type": "code",
   "execution_count": 7,
   "id": "67def9ea",
   "metadata": {
    "execution": {
     "iopub.execute_input": "2023-08-14T18:59:52.395799Z",
     "iopub.status.busy": "2023-08-14T18:59:52.395500Z",
     "iopub.status.idle": "2023-08-14T18:59:52.403170Z",
     "shell.execute_reply": "2023-08-14T18:59:52.402074Z"
    },
    "origin_pos": 22,
    "tab": [
     "pytorch"
    ]
   },
   "outputs": [
    {
     "data": {
      "text/plain": [
       "tensor([[[[ 5.,  7.],\n",
       "          [13., 15.]]]])"
      ]
     },
     "execution_count": 7,
     "metadata": {},
     "output_type": "execute_result"
    }
   ],
   "source": [
    "pool2d = nn.MaxPool2d(3, padding=1, stride=2)\n",
    "pool2d(X)"
   ]
  },
  {
   "cell_type": "markdown",
   "id": "c6b4abe0",
   "metadata": {
    "slideshow": {
     "slide_type": "-"
    }
   },
   "source": [
    "设定一个任意大小的矩形汇聚窗口，并分别设定填充和步幅的高度和宽度"
   ]
  },
  {
   "cell_type": "code",
   "execution_count": 8,
   "id": "d5f50437",
   "metadata": {
    "execution": {
     "iopub.execute_input": "2023-08-14T18:59:52.408151Z",
     "iopub.status.busy": "2023-08-14T18:59:52.407456Z",
     "iopub.status.idle": "2023-08-14T18:59:52.415647Z",
     "shell.execute_reply": "2023-08-14T18:59:52.414755Z"
    },
    "origin_pos": 30,
    "tab": [
     "pytorch"
    ]
   },
   "outputs": [
    {
     "data": {
      "text/plain": [
       "tensor([[[[ 5.,  7.],\n",
       "          [13., 15.]]]])"
      ]
     },
     "execution_count": 8,
     "metadata": {},
     "output_type": "execute_result"
    }
   ],
   "source": [
    "pool2d = nn.MaxPool2d((2, 3), stride=(2, 3), padding=(0, 1))\n",
    "pool2d(X)"
   ]
  },
  {
   "cell_type": "markdown",
   "id": "4bdb027d",
   "metadata": {
    "slideshow": {
     "slide_type": "slide"
    }
   },
   "source": [
    "汇聚层在每个输入通道上单独运算"
   ]
  },
  {
   "cell_type": "code",
   "execution_count": 9,
   "id": "e23197e6",
   "metadata": {
    "execution": {
     "iopub.execute_input": "2023-08-14T18:59:52.420640Z",
     "iopub.status.busy": "2023-08-14T18:59:52.419718Z",
     "iopub.status.idle": "2023-08-14T18:59:52.428478Z",
     "shell.execute_reply": "2023-08-14T18:59:52.427566Z"
    },
    "origin_pos": 35,
    "tab": [
     "pytorch"
    ]
   },
   "outputs": [
    {
     "data": {
      "text/plain": [
       "tensor([[[[ 0.,  1.,  2.,  3.],\n",
       "          [ 4.,  5.,  6.,  7.],\n",
       "          [ 8.,  9., 10., 11.],\n",
       "          [12., 13., 14., 15.]],\n",
       "\n",
       "         [[ 1.,  2.,  3.,  4.],\n",
       "          [ 5.,  6.,  7.,  8.],\n",
       "          [ 9., 10., 11., 12.],\n",
       "          [13., 14., 15., 16.]]]])"
      ]
     },
     "execution_count": 9,
     "metadata": {},
     "output_type": "execute_result"
    }
   ],
   "source": [
    "X = torch.cat((X, X + 1), 1)\n",
    "X"
   ]
  },
  {
   "cell_type": "code",
   "execution_count": 10,
   "id": "6a16a0d6",
   "metadata": {
    "execution": {
     "iopub.execute_input": "2023-08-14T18:59:52.433408Z",
     "iopub.status.busy": "2023-08-14T18:59:52.432604Z",
     "iopub.status.idle": "2023-08-14T18:59:52.440862Z",
     "shell.execute_reply": "2023-08-14T18:59:52.439871Z"
    },
    "origin_pos": 39,
    "tab": [
     "pytorch"
    ]
   },
   "outputs": [
    {
     "data": {
      "text/plain": [
       "tensor([[[[ 5.,  7.],\n",
       "          [13., 15.]],\n",
       "\n",
       "         [[ 6.,  8.],\n",
       "          [14., 16.]]]])"
      ]
     },
     "execution_count": 10,
     "metadata": {},
     "output_type": "execute_result"
    }
   ],
   "source": [
    "pool2d = nn.MaxPool2d(3, padding=1, stride=2)\n",
    "pool2d(X)"
   ]
  }
 ],
 "metadata": {
  "celltoolbar": "Slideshow",
  "language_info": {
   "name": "python"
  },
  "required_libs": [],
  "rise": {
   "autolaunch": true,
   "enable_chalkboard": true,
   "overlay": "<div class='my-top-right'><img height=80px src='http://d2l.ai/_static/logo-with-text.png'/></div><div class='my-top-left'></div>",
   "scroll": true
  }
 },
 "nbformat": 4,
 "nbformat_minor": 5
}