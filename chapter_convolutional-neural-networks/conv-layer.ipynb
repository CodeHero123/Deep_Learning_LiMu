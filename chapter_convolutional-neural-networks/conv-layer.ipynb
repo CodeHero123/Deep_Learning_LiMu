{
 "cells": [
  {
   "cell_type": "markdown",
   "id": "ef9ffcd2",
   "metadata": {
    "slideshow": {
     "slide_type": "-"
    }
   },
   "source": [
    "# 图像卷积\n",
    "\n",
    "互相关运算"
   ]
  },
  {
   "cell_type": "code",
   "execution_count": 2,
   "id": "4aec9035",
   "metadata": {
    "execution": {
     "iopub.execute_input": "2022-12-05T07:49:45.875179Z",
     "iopub.status.busy": "2022-12-05T07:49:45.874567Z",
     "iopub.status.idle": "2022-12-05T07:49:45.880990Z",
     "shell.execute_reply": "2022-12-05T07:49:45.879971Z"
    },
    "origin_pos": 4,
    "tab": [
     "pytorch"
    ]
   },
   "outputs": [],
   "source": [
    "import torch\n",
    "from torch import nn\n",
    "from d2l import torch as d2l\n",
    "\n",
    "def corr2d(X, K):  \n",
    "    \"\"\"计算二维互相关运算\"\"\"\n",
    "    h, w = K.shape\n",
    "    Y = torch.zeros((X.shape[0] - h + 1, X.shape[1] - w + 1))\n",
    "    for i in range(Y.shape[0]):\n",
    "        for j in range(Y.shape[1]):\n",
    "            Y[i, j] = (X[i:i + h, j:j + w] * K).sum()\n",
    "    return Y"
   ]
  },
  {
   "cell_type": "markdown",
   "id": "e98b2155",
   "metadata": {
    "slideshow": {
     "slide_type": "slide"
    }
   },
   "source": [
    "验证上述二维互相关运算的输出"
   ]
  },
  {
   "cell_type": "code",
   "execution_count": 3,
   "id": "2f437274",
   "metadata": {
    "execution": {
     "iopub.execute_input": "2022-12-05T07:49:45.884696Z",
     "iopub.status.busy": "2022-12-05T07:49:45.884258Z",
     "iopub.status.idle": "2022-12-05T07:49:45.915284Z",
     "shell.execute_reply": "2022-12-05T07:49:45.914051Z"
    },
    "origin_pos": 7,
    "tab": [
     "pytorch"
    ]
   },
   "outputs": [
    {
     "data": {
      "text/plain": [
       "tensor([[19., 25.],\n",
       "        [37., 43.]])"
      ]
     },
     "execution_count": 3,
     "metadata": {},
     "output_type": "execute_result"
    }
   ],
   "source": [
    "X = torch.tensor([[0.0, 1.0, 2.0], [3.0, 4.0, 5.0], [6.0, 7.0, 8.0]])\n",
    "K = torch.tensor([[0.0, 1.0], [2.0, 3.0]])\n",
    "corr2d(X, K)"
   ]
  },
  {
   "cell_type": "markdown",
   "id": "5dea29fa",
   "metadata": {
    "slideshow": {
     "slide_type": "slide"
    }
   },
   "source": [
    "实现二维卷积层"
   ]
  },
  {
   "cell_type": "code",
   "execution_count": 4,
   "id": "11caa032",
   "metadata": {
    "execution": {
     "iopub.execute_input": "2022-12-05T07:49:45.919293Z",
     "iopub.status.busy": "2022-12-05T07:49:45.918838Z",
     "iopub.status.idle": "2022-12-05T07:49:45.924455Z",
     "shell.execute_reply": "2022-12-05T07:49:45.923441Z"
    },
    "origin_pos": 10,
    "tab": [
     "pytorch"
    ]
   },
   "outputs": [],
   "source": [
    "class Conv2D(nn.Module):\n",
    "    def __init__(self, kernel_size):\n",
    "        super().__init__()\n",
    "        self.weight = nn.Parameter(torch.rand(kernel_size))\n",
    "        self.bias = nn.Parameter(torch.zeros(1))\n",
    "\n",
    "    def forward(self, x):\n",
    "        return corr2d(x, self.weight) + self.bias"
   ]
  },
  {
   "cell_type": "markdown",
   "id": "d4d2a7f0",
   "metadata": {
    "slideshow": {
     "slide_type": "slide"
    }
   },
   "source": [
    "卷积层的一个简单应用：\n",
    "检测图像中不同颜色的边缘"
   ]
  },
  {
   "cell_type": "code",
   "execution_count": 5,
   "id": "f36fd67b",
   "metadata": {
    "execution": {
     "iopub.execute_input": "2022-12-05T07:49:45.928107Z",
     "iopub.status.busy": "2022-12-05T07:49:45.927671Z",
     "iopub.status.idle": "2022-12-05T07:49:45.935604Z",
     "shell.execute_reply": "2022-12-05T07:49:45.934690Z"
    },
    "origin_pos": 14,
    "tab": [
     "pytorch"
    ]
   },
   "outputs": [
    {
     "data": {
      "text/plain": [
       "tensor([[1., 1., 0., 0., 0., 0., 1., 1.],\n",
       "        [1., 1., 0., 0., 0., 0., 1., 1.],\n",
       "        [1., 1., 0., 0., 0., 0., 1., 1.],\n",
       "        [1., 1., 0., 0., 0., 0., 1., 1.],\n",
       "        [1., 1., 0., 0., 0., 0., 1., 1.],\n",
       "        [1., 1., 0., 0., 0., 0., 1., 1.]])"
      ]
     },
     "execution_count": 5,
     "metadata": {},
     "output_type": "execute_result"
    }
   ],
   "source": [
    "X = torch.ones((6, 8))\n",
    "X[:, 2:6] = 0\n",
    "X"
   ]
  },
  {
   "cell_type": "code",
   "execution_count": 6,
   "id": "8c42c39e",
   "metadata": {
    "execution": {
     "iopub.execute_input": "2022-12-05T07:49:45.939300Z",
     "iopub.status.busy": "2022-12-05T07:49:45.938864Z",
     "iopub.status.idle": "2022-12-05T07:49:45.943467Z",
     "shell.execute_reply": "2022-12-05T07:49:45.942381Z"
    },
    "origin_pos": 17,
    "tab": [
     "pytorch"
    ]
   },
   "outputs": [],
   "source": [
    "K = torch.tensor([[1.0, -1.0]])"
   ]
  },
  {
   "cell_type": "markdown",
   "id": "bb909b1c",
   "metadata": {
    "slideshow": {
     "slide_type": "slide"
    }
   },
   "source": [
    "输出`Y`中的1代表从白色到黑色的边缘，-1代表从黑色到白色的边缘"
   ]
  },
  {
   "cell_type": "code",
   "execution_count": 7,
   "id": "2b4b1890",
   "metadata": {
    "execution": {
     "iopub.execute_input": "2022-12-05T07:49:45.947112Z",
     "iopub.status.busy": "2022-12-05T07:49:45.946622Z",
     "iopub.status.idle": "2022-12-05T07:49:45.954840Z",
     "shell.execute_reply": "2022-12-05T07:49:45.953924Z"
    },
    "origin_pos": 19,
    "tab": [
     "pytorch"
    ]
   },
   "outputs": [
    {
     "data": {
      "text/plain": [
       "tensor([[ 0.,  1.,  0.,  0.,  0., -1.,  0.],\n",
       "        [ 0.,  1.,  0.,  0.,  0., -1.,  0.],\n",
       "        [ 0.,  1.,  0.,  0.,  0., -1.,  0.],\n",
       "        [ 0.,  1.,  0.,  0.,  0., -1.,  0.],\n",
       "        [ 0.,  1.,  0.,  0.,  0., -1.,  0.],\n",
       "        [ 0.,  1.,  0.,  0.,  0., -1.,  0.]])"
      ]
     },
     "execution_count": 7,
     "metadata": {},
     "output_type": "execute_result"
    }
   ],
   "source": [
    "Y = corr2d(X, K)\n",
    "Y"
   ]
  },
  {
   "cell_type": "markdown",
   "id": "1689c5af",
   "metadata": {
    "slideshow": {
     "slide_type": "slide"
    }
   },
   "source": [
    "卷积核`K`只可以检测垂直边缘"
   ]
  },
  {
   "cell_type": "code",
   "execution_count": 8,
   "id": "b95196bd",
   "metadata": {
    "execution": {
     "iopub.execute_input": "2022-12-05T07:49:45.959322Z",
     "iopub.status.busy": "2022-12-05T07:49:45.958622Z",
     "iopub.status.idle": "2022-12-05T07:49:45.966379Z",
     "shell.execute_reply": "2022-12-05T07:49:45.965640Z"
    },
    "origin_pos": 21,
    "tab": [
     "pytorch"
    ]
   },
   "outputs": [
    {
     "data": {
      "text/plain": [
       "tensor([[0., 0., 0., 0., 0.],\n",
       "        [0., 0., 0., 0., 0.],\n",
       "        [0., 0., 0., 0., 0.],\n",
       "        [0., 0., 0., 0., 0.],\n",
       "        [0., 0., 0., 0., 0.],\n",
       "        [0., 0., 0., 0., 0.],\n",
       "        [0., 0., 0., 0., 0.],\n",
       "        [0., 0., 0., 0., 0.]])"
      ]
     },
     "execution_count": 8,
     "metadata": {},
     "output_type": "execute_result"
    }
   ],
   "source": [
    "corr2d(X.t(), K)"
   ]
  },
  {
   "cell_type": "markdown",
   "id": "b4f2b820",
   "metadata": {
    "slideshow": {
     "slide_type": "slide"
    }
   },
   "source": [
    "学习由`X`生成`Y`的卷积核"
   ]
  },
  {
   "cell_type": "code",
   "execution_count": 9,
   "id": "be2c84e1",
   "metadata": {
    "execution": {
     "iopub.execute_input": "2022-12-05T07:49:45.969620Z",
     "iopub.status.busy": "2022-12-05T07:49:45.969108Z",
     "iopub.status.idle": "2022-12-05T07:49:45.983840Z",
     "shell.execute_reply": "2022-12-05T07:49:45.983059Z"
    },
    "origin_pos": 24,
    "tab": [
     "pytorch"
    ]
   },
   "outputs": [
    {
     "name": "stdout",
     "output_type": "stream",
     "text": [
      "epoch 2, loss 10.373\n",
      "epoch 4, loss 1.752\n",
      "epoch 6, loss 0.299\n",
      "epoch 8, loss 0.052\n",
      "epoch 10, loss 0.010\n"
     ]
    }
   ],
   "source": [
    "conv2d = nn.Conv2d(1,1, kernel_size=(1, 2), bias=False)\n",
    "\n",
    "X = X.reshape((1, 1, 6, 8))\n",
    "Y = Y.reshape((1, 1, 6, 7))\n",
    "lr = 3e-2\n",
    "\n",
    "for i in range(10):\n",
    "    Y_hat = conv2d(X)\n",
    "    l = (Y_hat - Y) ** 2\n",
    "    conv2d.zero_grad()\n",
    "    l.sum().backward()\n",
    "    conv2d.weight.data[:] -= lr * conv2d.weight.grad\n",
    "    if (i + 1) % 2 == 0:\n",
    "        print(f'epoch {i+1}, loss {l.sum():.3f}')"
   ]
  },
  {
   "cell_type": "markdown",
   "id": "07c14689",
   "metadata": {
    "slideshow": {
     "slide_type": "slide"
    }
   },
   "source": [
    "所学的卷积核的权重张量"
   ]
  },
  {
   "cell_type": "code",
   "execution_count": 10,
   "id": "52915046",
   "metadata": {
    "execution": {
     "iopub.execute_input": "2022-12-05T07:49:45.987239Z",
     "iopub.status.busy": "2022-12-05T07:49:45.986704Z",
     "iopub.status.idle": "2022-12-05T07:49:45.992519Z",
     "shell.execute_reply": "2022-12-05T07:49:45.991773Z"
    },
    "origin_pos": 29,
    "tab": [
     "pytorch"
    ]
   },
   "outputs": [
    {
     "data": {
      "text/plain": [
       "tensor([[ 0.9871, -0.9795]])"
      ]
     },
     "execution_count": 10,
     "metadata": {},
     "output_type": "execute_result"
    }
   ],
   "source": [
    "conv2d.weight.data.reshape((1, 2))"
   ]
  }
 ],
 "metadata": {
  "celltoolbar": "Slideshow",
  "language_info": {
   "name": "python"
  },
  "rise": {
   "autolaunch": true,
   "enable_chalkboard": true,
   "overlay": "<div class='my-top-right'><img height=80px src='http://d2l.ai/_static/logo-with-text.png'/></div><div class='my-top-left'></div>",
   "scroll": true
  }
 },
 "nbformat": 4,
 "nbformat_minor": 5
}