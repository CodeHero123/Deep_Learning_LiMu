{
 "cells": [
  {
   "cell_type": "markdown",
   "id": "6bde6b07",
   "metadata": {
    "slideshow": {
     "slide_type": "-"
    }
   },
   "source": [
    "# 转置卷积\n",
    "\n"
   ]
  },
  {
   "cell_type": "code",
   "execution_count": 1,
   "id": "12177ea3",
   "metadata": {
    "execution": {
     "iopub.execute_input": "2022-12-05T07:43:44.442902Z",
     "iopub.status.busy": "2022-12-05T07:43:44.441925Z",
     "iopub.status.idle": "2022-12-05T07:43:46.771984Z",
     "shell.execute_reply": "2022-12-05T07:43:46.771089Z"
    },
    "origin_pos": 2,
    "tab": [
     "pytorch"
    ]
   },
   "outputs": [],
   "source": [
    "import torch\n",
    "from torch import nn\n",
    "from d2l import torch as d2l"
   ]
  },
  {
   "cell_type": "markdown",
   "id": "67a19da9",
   "metadata": {
    "slideshow": {
     "slide_type": "-"
    }
   },
   "source": [
    "实现基本的转置卷积运算"
   ]
  },
  {
   "cell_type": "code",
   "execution_count": 2,
   "id": "92c6d009",
   "metadata": {
    "execution": {
     "iopub.execute_input": "2022-12-05T07:43:46.776028Z",
     "iopub.status.busy": "2022-12-05T07:43:46.775381Z",
     "iopub.status.idle": "2022-12-05T07:43:46.780657Z",
     "shell.execute_reply": "2022-12-05T07:43:46.779912Z"
    },
    "origin_pos": 5,
    "tab": [
     "pytorch"
    ]
   },
   "outputs": [],
   "source": [
    "def trans_conv(X, K):\n",
    "    h, w = K.shape\n",
    "    Y = torch.zeros((X.shape[0] + h - 1, X.shape[1] + w - 1))\n",
    "    for i in range(X.shape[0]):\n",
    "        for j in range(X.shape[1]):\n",
    "            Y[i: i + h, j: j + w] += X[i, j] * K\n",
    "    return Y"
   ]
  },
  {
   "cell_type": "markdown",
   "id": "cabc3380",
   "metadata": {
    "slideshow": {
     "slide_type": "slide"
    }
   },
   "source": [
    "验证上述实现输出"
   ]
  },
  {
   "cell_type": "code",
   "execution_count": 3,
   "id": "cd0ea50c",
   "metadata": {
    "execution": {
     "iopub.execute_input": "2022-12-05T07:43:46.783824Z",
     "iopub.status.busy": "2022-12-05T07:43:46.783412Z",
     "iopub.status.idle": "2022-12-05T07:43:46.814553Z",
     "shell.execute_reply": "2022-12-05T07:43:46.813760Z"
    },
    "origin_pos": 7,
    "tab": [
     "pytorch"
    ]
   },
   "outputs": [
    {
     "data": {
      "text/plain": [
       "tensor([[ 0.,  0.,  1.],\n",
       "        [ 0.,  4.,  6.],\n",
       "        [ 4., 12.,  9.]])"
      ]
     },
     "execution_count": 3,
     "metadata": {},
     "output_type": "execute_result"
    }
   ],
   "source": [
    "X = torch.tensor([[0.0, 1.0], [2.0, 3.0]])\n",
    "K = torch.tensor([[0.0, 1.0], [2.0, 3.0]])\n",
    "trans_conv(X, K)"
   ]
  },
  {
   "cell_type": "markdown",
   "id": "12dff04b",
   "metadata": {
    "slideshow": {
     "slide_type": "slide"
    }
   },
   "source": [
    "使用高级API获得相同的结果"
   ]
  },
  {
   "cell_type": "code",
   "execution_count": 4,
   "id": "87e1336e",
   "metadata": {
    "execution": {
     "iopub.execute_input": "2022-12-05T07:43:46.818112Z",
     "iopub.status.busy": "2022-12-05T07:43:46.817595Z",
     "iopub.status.idle": "2022-12-05T07:43:46.825267Z",
     "shell.execute_reply": "2022-12-05T07:43:46.824525Z"
    },
    "origin_pos": 10,
    "tab": [
     "pytorch"
    ]
   },
   "outputs": [
    {
     "data": {
      "text/plain": [
       "tensor([[[[ 0.,  0.,  1.],\n",
       "          [ 0.,  4.,  6.],\n",
       "          [ 4., 12.,  9.]]]], grad_fn=<ConvolutionBackward0>)"
      ]
     },
     "execution_count": 4,
     "metadata": {},
     "output_type": "execute_result"
    }
   ],
   "source": [
    "X, K = X.reshape(1, 1, 2, 2), K.reshape(1, 1, 2, 2)\n",
    "tconv = nn.ConvTranspose2d(1, 1, kernel_size=2, bias=False)\n",
    "tconv.weight.data = K\n",
    "tconv(X)"
   ]
  },
  {
   "cell_type": "markdown",
   "id": "b52dc370",
   "metadata": {
    "slideshow": {
     "slide_type": "slide"
    }
   },
   "source": [
    "填充、步幅和多通道"
   ]
  },
  {
   "cell_type": "code",
   "execution_count": 5,
   "id": "4fafb658",
   "metadata": {
    "execution": {
     "iopub.execute_input": "2022-12-05T07:43:46.828519Z",
     "iopub.status.busy": "2022-12-05T07:43:46.828114Z",
     "iopub.status.idle": "2022-12-05T07:43:46.834368Z",
     "shell.execute_reply": "2022-12-05T07:43:46.833647Z"
    },
    "origin_pos": 14,
    "tab": [
     "pytorch"
    ]
   },
   "outputs": [
    {
     "data": {
      "text/plain": [
       "tensor([[[[4.]]]], grad_fn=<ConvolutionBackward0>)"
      ]
     },
     "execution_count": 5,
     "metadata": {},
     "output_type": "execute_result"
    }
   ],
   "source": [
    "tconv = nn.ConvTranspose2d(1, 1, kernel_size=2, padding=1, bias=False)\n",
    "tconv.weight.data = K\n",
    "tconv(X)"
   ]
  },
  {
   "cell_type": "code",
   "execution_count": 6,
   "id": "70a2f094",
   "metadata": {
    "execution": {
     "iopub.execute_input": "2022-12-05T07:43:46.837501Z",
     "iopub.status.busy": "2022-12-05T07:43:46.837099Z",
     "iopub.status.idle": "2022-12-05T07:43:46.843378Z",
     "shell.execute_reply": "2022-12-05T07:43:46.842628Z"
    },
    "origin_pos": 18,
    "tab": [
     "pytorch"
    ]
   },
   "outputs": [
    {
     "data": {
      "text/plain": [
       "tensor([[[[0., 0., 0., 1.],\n",
       "          [0., 0., 2., 3.],\n",
       "          [0., 2., 0., 3.],\n",
       "          [4., 6., 6., 9.]]]], grad_fn=<ConvolutionBackward0>)"
      ]
     },
     "execution_count": 6,
     "metadata": {},
     "output_type": "execute_result"
    }
   ],
   "source": [
    "tconv = nn.ConvTranspose2d(1, 1, kernel_size=2, stride=2, bias=False)\n",
    "tconv.weight.data = K\n",
    "tconv(X)"
   ]
  },
  {
   "cell_type": "code",
   "execution_count": 7,
   "id": "b31b9108",
   "metadata": {
    "execution": {
     "iopub.execute_input": "2022-12-05T07:43:46.846464Z",
     "iopub.status.busy": "2022-12-05T07:43:46.846059Z",
     "iopub.status.idle": "2022-12-05T07:43:46.856742Z",
     "shell.execute_reply": "2022-12-05T07:43:46.855996Z"
    },
    "origin_pos": 22,
    "tab": [
     "pytorch"
    ]
   },
   "outputs": [
    {
     "data": {
      "text/plain": [
       "True"
      ]
     },
     "execution_count": 7,
     "metadata": {},
     "output_type": "execute_result"
    }
   ],
   "source": [
    "X = torch.rand(size=(1, 10, 16, 16))\n",
    "conv = nn.Conv2d(10, 20, kernel_size=5, padding=2, stride=3)\n",
    "tconv = nn.ConvTranspose2d(20, 10, kernel_size=5, padding=2, stride=3)\n",
    "tconv(conv(X)).shape == X.shape"
   ]
  },
  {
   "cell_type": "markdown",
   "id": "db2901fc",
   "metadata": {
    "slideshow": {
     "slide_type": "slide"
    }
   },
   "source": [
    "与矩阵变换的联系"
   ]
  },
  {
   "cell_type": "code",
   "execution_count": 8,
   "id": "e7967dd6",
   "metadata": {
    "execution": {
     "iopub.execute_input": "2022-12-05T07:43:46.859989Z",
     "iopub.status.busy": "2022-12-05T07:43:46.859547Z",
     "iopub.status.idle": "2022-12-05T07:43:46.866416Z",
     "shell.execute_reply": "2022-12-05T07:43:46.865699Z"
    },
    "origin_pos": 25,
    "tab": [
     "pytorch"
    ]
   },
   "outputs": [
    {
     "data": {
      "text/plain": [
       "tensor([[27., 37.],\n",
       "        [57., 67.]])"
      ]
     },
     "execution_count": 8,
     "metadata": {},
     "output_type": "execute_result"
    }
   ],
   "source": [
    "X = torch.arange(9.0).reshape(3, 3)\n",
    "K = torch.tensor([[1.0, 2.0], [3.0, 4.0]])\n",
    "Y = d2l.corr2d(X, K)\n",
    "Y"
   ]
  },
  {
   "cell_type": "code",
   "execution_count": 9,
   "id": "a6df73a4",
   "metadata": {
    "execution": {
     "iopub.execute_input": "2022-12-05T07:43:46.870701Z",
     "iopub.status.busy": "2022-12-05T07:43:46.870222Z",
     "iopub.status.idle": "2022-12-05T07:43:46.878139Z",
     "shell.execute_reply": "2022-12-05T07:43:46.877330Z"
    },
    "origin_pos": 28,
    "tab": [
     "pytorch"
    ]
   },
   "outputs": [
    {
     "data": {
      "text/plain": [
       "tensor([[1., 2., 0., 3., 4., 0., 0., 0., 0.],\n",
       "        [0., 1., 2., 0., 3., 4., 0., 0., 0.],\n",
       "        [0., 0., 0., 1., 2., 0., 3., 4., 0.],\n",
       "        [0., 0., 0., 0., 1., 2., 0., 3., 4.]])"
      ]
     },
     "execution_count": 9,
     "metadata": {},
     "output_type": "execute_result"
    }
   ],
   "source": [
    "def kernel2matrix(K):\n",
    "    k, W = torch.zeros(5), torch.zeros((4, 9))\n",
    "    k[:2], k[3:5] = K[0, :], K[1, :]\n",
    "    W[0, :5], W[1, 1:6], W[2, 3:8], W[3, 4:] = k, k, k, k\n",
    "    return W\n",
    "\n",
    "W = kernel2matrix(K)\n",
    "W"
   ]
  },
  {
   "cell_type": "code",
   "execution_count": 10,
   "id": "28622627",
   "metadata": {
    "execution": {
     "iopub.execute_input": "2022-12-05T07:43:46.882343Z",
     "iopub.status.busy": "2022-12-05T07:43:46.881918Z",
     "iopub.status.idle": "2022-12-05T07:43:46.887883Z",
     "shell.execute_reply": "2022-12-05T07:43:46.887129Z"
    },
    "origin_pos": 31,
    "tab": [
     "pytorch"
    ]
   },
   "outputs": [
    {
     "data": {
      "text/plain": [
       "tensor([[True, True],\n",
       "        [True, True]])"
      ]
     },
     "execution_count": 10,
     "metadata": {},
     "output_type": "execute_result"
    }
   ],
   "source": [
    "Y == torch.matmul(W, X.reshape(-1)).reshape(2, 2)"
   ]
  },
  {
   "cell_type": "code",
   "execution_count": 11,
   "id": "11ebd83b",
   "metadata": {
    "execution": {
     "iopub.execute_input": "2022-12-05T07:43:46.892349Z",
     "iopub.status.busy": "2022-12-05T07:43:46.891712Z",
     "iopub.status.idle": "2022-12-05T07:43:46.898360Z",
     "shell.execute_reply": "2022-12-05T07:43:46.897540Z"
    },
    "origin_pos": 34,
    "tab": [
     "pytorch"
    ]
   },
   "outputs": [
    {
     "data": {
      "text/plain": [
       "tensor([[True, True, True],\n",
       "        [True, True, True],\n",
       "        [True, True, True]])"
      ]
     },
     "execution_count": 11,
     "metadata": {},
     "output_type": "execute_result"
    }
   ],
   "source": [
    "Z = trans_conv(Y, K)\n",
    "Z == torch.matmul(W.T, Y.reshape(-1)).reshape(3, 3)"
   ]
  }
 ],
 "metadata": {
  "celltoolbar": "Slideshow",
  "language_info": {
   "name": "python"
  },
  "rise": {
   "autolaunch": true,
   "enable_chalkboard": true,
   "overlay": "<div class='my-top-right'><img height=80px src='http://d2l.ai/_static/logo-with-text.png'/></div><div class='my-top-left'></div>",
   "scroll": true
  }
 },
 "nbformat": 4,
 "nbformat_minor": 5
}