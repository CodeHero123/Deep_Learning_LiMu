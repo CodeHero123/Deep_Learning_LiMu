{
 "cells": [
  {
   "cell_type": "markdown",
   "id": "e92883c9",
   "metadata": {
    "slideshow": {
     "slide_type": "-"
    }
   },
   "source": [
    "# 线性代数\n",
    "\n",
    "标量由只有一个元素的张量表示"
   ]
  },
  {
   "cell_type": "code",
   "execution_count": 1,
   "id": "fdadf61a",
   "metadata": {
    "execution": {
     "iopub.execute_input": "2022-12-05T07:31:06.669978Z",
     "iopub.status.busy": "2022-12-05T07:31:06.669326Z",
     "iopub.status.idle": "2022-12-05T07:31:07.776059Z",
     "shell.execute_reply": "2022-12-05T07:31:07.775276Z"
    },
    "origin_pos": 2,
    "tab": [
     "pytorch"
    ]
   },
   "outputs": [
    {
     "data": {
      "text/plain": [
       "(tensor(5.), tensor(6.), tensor(1.5000), tensor(9.))"
      ]
     },
     "execution_count": 1,
     "metadata": {},
     "output_type": "execute_result"
    }
   ],
   "source": [
    "import torch\n",
    "\n",
    "x = torch.tensor(3.0)\n",
    "y = torch.tensor(2.0)\n",
    "\n",
    "x + y, x * y, x / y, x**y"
   ]
  },
  {
   "cell_type": "markdown",
   "id": "301df28c",
   "metadata": {
    "slideshow": {
     "slide_type": "slide"
    }
   },
   "source": [
    "向量可以被视为标量值组成的列表"
   ]
  },
  {
   "cell_type": "code",
   "execution_count": 2,
   "id": "6882f4c0",
   "metadata": {
    "execution": {
     "iopub.execute_input": "2022-12-05T07:31:07.779723Z",
     "iopub.status.busy": "2022-12-05T07:31:07.779186Z",
     "iopub.status.idle": "2022-12-05T07:31:07.784681Z",
     "shell.execute_reply": "2022-12-05T07:31:07.783972Z"
    },
    "origin_pos": 7,
    "tab": [
     "pytorch"
    ]
   },
   "outputs": [
    {
     "data": {
      "text/plain": [
       "tensor([0, 1, 2, 3])"
      ]
     },
     "execution_count": 2,
     "metadata": {},
     "output_type": "execute_result"
    }
   ],
   "source": [
    "x = torch.arange(4)\n",
    "x"
   ]
  },
  {
   "cell_type": "markdown",
   "id": "58006a44",
   "metadata": {
    "slideshow": {
     "slide_type": "-"
    }
   },
   "source": [
    "通过张量的索引来访问任一元素"
   ]
  },
  {
   "cell_type": "code",
   "execution_count": 3,
   "id": "dbf6e5eb",
   "metadata": {
    "execution": {
     "iopub.execute_input": "2022-12-05T07:31:07.787808Z",
     "iopub.status.busy": "2022-12-05T07:31:07.787389Z",
     "iopub.status.idle": "2022-12-05T07:31:07.792646Z",
     "shell.execute_reply": "2022-12-05T07:31:07.791939Z"
    },
    "origin_pos": 12,
    "tab": [
     "pytorch"
    ]
   },
   "outputs": [
    {
     "data": {
      "text/plain": [
       "tensor(3)"
      ]
     },
     "execution_count": 3,
     "metadata": {},
     "output_type": "execute_result"
    }
   ],
   "source": [
    "x[3]"
   ]
  },
  {
   "cell_type": "markdown",
   "id": "7c396f80",
   "metadata": {
    "slideshow": {
     "slide_type": "slide"
    }
   },
   "source": [
    "访问张量的长度"
   ]
  },
  {
   "cell_type": "code",
   "execution_count": 4,
   "id": "f8d49cd4",
   "metadata": {
    "execution": {
     "iopub.execute_input": "2022-12-05T07:31:07.795805Z",
     "iopub.status.busy": "2022-12-05T07:31:07.795392Z",
     "iopub.status.idle": "2022-12-05T07:31:07.800090Z",
     "shell.execute_reply": "2022-12-05T07:31:07.799382Z"
    },
    "origin_pos": 17,
    "tab": [
     "pytorch"
    ]
   },
   "outputs": [
    {
     "data": {
      "text/plain": [
       "4"
      ]
     },
     "execution_count": 4,
     "metadata": {},
     "output_type": "execute_result"
    }
   ],
   "source": [
    "len(x)"
   ]
  },
  {
   "cell_type": "markdown",
   "id": "486f767f",
   "metadata": {
    "slideshow": {
     "slide_type": "-"
    }
   },
   "source": [
    "只有一个轴的张量，形状只有一个元素"
   ]
  },
  {
   "cell_type": "code",
   "execution_count": 5,
   "id": "748fe39c",
   "metadata": {
    "execution": {
     "iopub.execute_input": "2022-12-05T07:31:07.803115Z",
     "iopub.status.busy": "2022-12-05T07:31:07.802710Z",
     "iopub.status.idle": "2022-12-05T07:31:07.807403Z",
     "shell.execute_reply": "2022-12-05T07:31:07.806674Z"
    },
    "origin_pos": 22,
    "tab": [
     "pytorch"
    ]
   },
   "outputs": [
    {
     "data": {
      "text/plain": [
       "torch.Size([4])"
      ]
     },
     "execution_count": 5,
     "metadata": {},
     "output_type": "execute_result"
    }
   ],
   "source": [
    "x.shape"
   ]
  },
  {
   "cell_type": "markdown",
   "id": "89c2c5a8",
   "metadata": {
    "slideshow": {
     "slide_type": "slide"
    }
   },
   "source": [
    "通过指定两个分量$m$和$n$来创建一个形状为$m \\times n$的矩阵"
   ]
  },
  {
   "cell_type": "code",
   "execution_count": 6,
   "id": "a8383097",
   "metadata": {
    "execution": {
     "iopub.execute_input": "2022-12-05T07:31:07.810467Z",
     "iopub.status.busy": "2022-12-05T07:31:07.810052Z",
     "iopub.status.idle": "2022-12-05T07:31:07.815508Z",
     "shell.execute_reply": "2022-12-05T07:31:07.814807Z"
    },
    "origin_pos": 27,
    "tab": [
     "pytorch"
    ]
   },
   "outputs": [
    {
     "data": {
      "text/plain": [
       "tensor([[ 0,  1,  2,  3],\n",
       "        [ 4,  5,  6,  7],\n",
       "        [ 8,  9, 10, 11],\n",
       "        [12, 13, 14, 15],\n",
       "        [16, 17, 18, 19]])"
      ]
     },
     "execution_count": 6,
     "metadata": {},
     "output_type": "execute_result"
    }
   ],
   "source": [
    "A = torch.arange(20).reshape(5, 4)\n",
    "A"
   ]
  },
  {
   "cell_type": "markdown",
   "id": "142c8ee6",
   "metadata": {
    "slideshow": {
     "slide_type": "-"
    }
   },
   "source": [
    "矩阵的转置"
   ]
  },
  {
   "cell_type": "code",
   "execution_count": 7,
   "id": "0a1c1fdd",
   "metadata": {
    "execution": {
     "iopub.execute_input": "2022-12-05T07:31:07.818578Z",
     "iopub.status.busy": "2022-12-05T07:31:07.818179Z",
     "iopub.status.idle": "2022-12-05T07:31:07.823406Z",
     "shell.execute_reply": "2022-12-05T07:31:07.822698Z"
    },
    "origin_pos": 32,
    "tab": [
     "pytorch"
    ]
   },
   "outputs": [
    {
     "data": {
      "text/plain": [
       "tensor([[ 0,  4,  8, 12, 16],\n",
       "        [ 1,  5,  9, 13, 17],\n",
       "        [ 2,  6, 10, 14, 18],\n",
       "        [ 3,  7, 11, 15, 19]])"
      ]
     },
     "execution_count": 7,
     "metadata": {},
     "output_type": "execute_result"
    }
   ],
   "source": [
    "A.T"
   ]
  },
  {
   "cell_type": "markdown",
   "id": "ec41a003",
   "metadata": {
    "slideshow": {
     "slide_type": "slide"
    }
   },
   "source": [
    "*对称矩阵*（symmetric matrix）$\\mathbf{A}$等于其转置：$\\mathbf{A} = \\mathbf{A}^\\top$"
   ]
  },
  {
   "cell_type": "code",
   "execution_count": 8,
   "id": "2e1a35b6",
   "metadata": {
    "execution": {
     "iopub.execute_input": "2022-12-05T07:31:07.826424Z",
     "iopub.status.busy": "2022-12-05T07:31:07.826017Z",
     "iopub.status.idle": "2022-12-05T07:31:07.831546Z",
     "shell.execute_reply": "2022-12-05T07:31:07.830841Z"
    },
    "origin_pos": 37,
    "tab": [
     "pytorch"
    ]
   },
   "outputs": [
    {
     "data": {
      "text/plain": [
       "tensor([[1, 2, 3],\n",
       "        [2, 0, 4],\n",
       "        [3, 4, 5]])"
      ]
     },
     "execution_count": 8,
     "metadata": {},
     "output_type": "execute_result"
    }
   ],
   "source": [
    "B = torch.tensor([[1, 2, 3], [2, 0, 4], [3, 4, 5]])\n",
    "B"
   ]
  },
  {
   "cell_type": "code",
   "execution_count": 9,
   "id": "83060c6b",
   "metadata": {
    "execution": {
     "iopub.execute_input": "2022-12-05T07:31:07.834899Z",
     "iopub.status.busy": "2022-12-05T07:31:07.834355Z",
     "iopub.status.idle": "2022-12-05T07:31:07.839405Z",
     "shell.execute_reply": "2022-12-05T07:31:07.838699Z"
    },
    "origin_pos": 42,
    "tab": [
     "pytorch"
    ]
   },
   "outputs": [
    {
     "data": {
      "text/plain": [
       "tensor([[True, True, True],\n",
       "        [True, True, True],\n",
       "        [True, True, True]])"
      ]
     },
     "execution_count": 9,
     "metadata": {},
     "output_type": "execute_result"
    }
   ],
   "source": [
    "B == B.T"
   ]
  },
  {
   "cell_type": "markdown",
   "id": "18d87dd9",
   "metadata": {
    "slideshow": {
     "slide_type": "slide"
    }
   },
   "source": [
    "就像向量是标量的推广，矩阵是向量的推广一样，我们可以构建具有更多轴的数据结构"
   ]
  },
  {
   "cell_type": "code",
   "execution_count": 10,
   "id": "dc06c82c",
   "metadata": {
    "execution": {
     "iopub.execute_input": "2022-12-05T07:31:07.842468Z",
     "iopub.status.busy": "2022-12-05T07:31:07.842061Z",
     "iopub.status.idle": "2022-12-05T07:31:07.847623Z",
     "shell.execute_reply": "2022-12-05T07:31:07.846920Z"
    },
    "origin_pos": 47,
    "tab": [
     "pytorch"
    ]
   },
   "outputs": [
    {
     "data": {
      "text/plain": [
       "tensor([[[ 0,  1,  2,  3],\n",
       "         [ 4,  5,  6,  7],\n",
       "         [ 8,  9, 10, 11]],\n",
       "\n",
       "        [[12, 13, 14, 15],\n",
       "         [16, 17, 18, 19],\n",
       "         [20, 21, 22, 23]]])"
      ]
     },
     "execution_count": 10,
     "metadata": {},
     "output_type": "execute_result"
    }
   ],
   "source": [
    "X = torch.arange(24).reshape(2, 3, 4)\n",
    "X"
   ]
  },
  {
   "cell_type": "markdown",
   "id": "6d53908d",
   "metadata": {
    "slideshow": {
     "slide_type": "slide"
    }
   },
   "source": [
    "给定具有相同形状的任意两个张量，任何按元素二元运算的结果都将是相同形状的张量"
   ]
  },
  {
   "cell_type": "code",
   "execution_count": 11,
   "id": "480ed14e",
   "metadata": {
    "execution": {
     "iopub.execute_input": "2022-12-05T07:31:07.850704Z",
     "iopub.status.busy": "2022-12-05T07:31:07.850279Z",
     "iopub.status.idle": "2022-12-05T07:31:07.857251Z",
     "shell.execute_reply": "2022-12-05T07:31:07.856545Z"
    },
    "origin_pos": 52,
    "tab": [
     "pytorch"
    ]
   },
   "outputs": [
    {
     "data": {
      "text/plain": [
       "(tensor([[ 0.,  1.,  2.,  3.],\n",
       "         [ 4.,  5.,  6.,  7.],\n",
       "         [ 8.,  9., 10., 11.],\n",
       "         [12., 13., 14., 15.],\n",
       "         [16., 17., 18., 19.]]),\n",
       " tensor([[ 0.,  2.,  4.,  6.],\n",
       "         [ 8., 10., 12., 14.],\n",
       "         [16., 18., 20., 22.],\n",
       "         [24., 26., 28., 30.],\n",
       "         [32., 34., 36., 38.]]))"
      ]
     },
     "execution_count": 11,
     "metadata": {},
     "output_type": "execute_result"
    }
   ],
   "source": [
    "A = torch.arange(20, dtype=torch.float32).reshape(5, 4)\n",
    "B = A.clone()\n",
    "A, A + B"
   ]
  },
  {
   "cell_type": "markdown",
   "id": "b3a7aff5",
   "metadata": {
    "slideshow": {
     "slide_type": "slide"
    }
   },
   "source": [
    "两个矩阵的按元素乘法称为*Hadamard积*（Hadamard product）（数学符号$\\odot$）"
   ]
  },
  {
   "cell_type": "code",
   "execution_count": 12,
   "id": "d3ad8d43",
   "metadata": {
    "execution": {
     "iopub.execute_input": "2022-12-05T07:31:07.860242Z",
     "iopub.status.busy": "2022-12-05T07:31:07.859833Z",
     "iopub.status.idle": "2022-12-05T07:31:07.865322Z",
     "shell.execute_reply": "2022-12-05T07:31:07.864621Z"
    },
    "origin_pos": 57,
    "tab": [
     "pytorch"
    ]
   },
   "outputs": [
    {
     "data": {
      "text/plain": [
       "tensor([[  0.,   1.,   4.,   9.],\n",
       "        [ 16.,  25.,  36.,  49.],\n",
       "        [ 64.,  81., 100., 121.],\n",
       "        [144., 169., 196., 225.],\n",
       "        [256., 289., 324., 361.]])"
      ]
     },
     "execution_count": 12,
     "metadata": {},
     "output_type": "execute_result"
    }
   ],
   "source": [
    "A * B"
   ]
  },
  {
   "cell_type": "code",
   "execution_count": 13,
   "id": "065aaaa5",
   "metadata": {
    "execution": {
     "iopub.execute_input": "2022-12-05T07:31:07.868299Z",
     "iopub.status.busy": "2022-12-05T07:31:07.867901Z",
     "iopub.status.idle": "2022-12-05T07:31:07.873698Z",
     "shell.execute_reply": "2022-12-05T07:31:07.872995Z"
    },
    "origin_pos": 62,
    "tab": [
     "pytorch"
    ]
   },
   "outputs": [
    {
     "data": {
      "text/plain": [
       "(tensor([[[ 2,  3,  4,  5],\n",
       "          [ 6,  7,  8,  9],\n",
       "          [10, 11, 12, 13]],\n",
       " \n",
       "         [[14, 15, 16, 17],\n",
       "          [18, 19, 20, 21],\n",
       "          [22, 23, 24, 25]]]),\n",
       " torch.Size([2, 3, 4]))"
      ]
     },
     "execution_count": 13,
     "metadata": {},
     "output_type": "execute_result"
    }
   ],
   "source": [
    "a = 2\n",
    "X = torch.arange(24).reshape(2, 3, 4)\n",
    "a + X, (a * X).shape"
   ]
  },
  {
   "cell_type": "markdown",
   "id": "175544fe",
   "metadata": {
    "slideshow": {
     "slide_type": "slide"
    }
   },
   "source": [
    "计算其元素的和"
   ]
  },
  {
   "cell_type": "code",
   "execution_count": 14,
   "id": "1304dcfa",
   "metadata": {
    "execution": {
     "iopub.execute_input": "2022-12-05T07:31:07.876670Z",
     "iopub.status.busy": "2022-12-05T07:31:07.876274Z",
     "iopub.status.idle": "2022-12-05T07:31:07.882113Z",
     "shell.execute_reply": "2022-12-05T07:31:07.881409Z"
    },
    "origin_pos": 67,
    "tab": [
     "pytorch"
    ]
   },
   "outputs": [
    {
     "data": {
      "text/plain": [
       "(tensor([0., 1., 2., 3.]), tensor(6.))"
      ]
     },
     "execution_count": 14,
     "metadata": {},
     "output_type": "execute_result"
    }
   ],
   "source": [
    "x = torch.arange(4, dtype=torch.float32)\n",
    "x, x.sum()"
   ]
  },
  {
   "cell_type": "markdown",
   "id": "7367969c",
   "metadata": {
    "slideshow": {
     "slide_type": "-"
    }
   },
   "source": [
    "表示任意形状张量的元素和"
   ]
  },
  {
   "cell_type": "code",
   "execution_count": 15,
   "id": "55d4520d",
   "metadata": {
    "execution": {
     "iopub.execute_input": "2022-12-05T07:31:07.885321Z",
     "iopub.status.busy": "2022-12-05T07:31:07.884707Z",
     "iopub.status.idle": "2022-12-05T07:31:07.889957Z",
     "shell.execute_reply": "2022-12-05T07:31:07.889248Z"
    },
    "origin_pos": 72,
    "tab": [
     "pytorch"
    ]
   },
   "outputs": [
    {
     "data": {
      "text/plain": [
       "(torch.Size([5, 4]), tensor(190.))"
      ]
     },
     "execution_count": 15,
     "metadata": {},
     "output_type": "execute_result"
    }
   ],
   "source": [
    "A.shape, A.sum()"
   ]
  },
  {
   "cell_type": "markdown",
   "id": "999ef7c5",
   "metadata": {
    "slideshow": {
     "slide_type": "slide"
    }
   },
   "source": [
    "指定张量沿哪一个轴来通过求和降低维度"
   ]
  },
  {
   "cell_type": "code",
   "execution_count": 16,
   "id": "5140c515",
   "metadata": {
    "execution": {
     "iopub.execute_input": "2022-12-05T07:31:07.893104Z",
     "iopub.status.busy": "2022-12-05T07:31:07.892606Z",
     "iopub.status.idle": "2022-12-05T07:31:07.897993Z",
     "shell.execute_reply": "2022-12-05T07:31:07.897296Z"
    },
    "origin_pos": 77,
    "tab": [
     "pytorch"
    ]
   },
   "outputs": [
    {
     "data": {
      "text/plain": [
       "(tensor([40., 45., 50., 55.]), torch.Size([4]))"
      ]
     },
     "execution_count": 16,
     "metadata": {},
     "output_type": "execute_result"
    }
   ],
   "source": [
    "A_sum_axis0 = A.sum(axis=0)\n",
    "A_sum_axis0, A_sum_axis0.shape"
   ]
  },
  {
   "cell_type": "code",
   "execution_count": 17,
   "id": "0ec7cfb5",
   "metadata": {
    "execution": {
     "iopub.execute_input": "2022-12-05T07:31:07.901282Z",
     "iopub.status.busy": "2022-12-05T07:31:07.900664Z",
     "iopub.status.idle": "2022-12-05T07:31:07.906035Z",
     "shell.execute_reply": "2022-12-05T07:31:07.905322Z"
    },
    "origin_pos": 82,
    "tab": [
     "pytorch"
    ]
   },
   "outputs": [
    {
     "data": {
      "text/plain": [
       "(tensor([ 6., 22., 38., 54., 70.]), torch.Size([5]))"
      ]
     },
     "execution_count": 17,
     "metadata": {},
     "output_type": "execute_result"
    }
   ],
   "source": [
    "A_sum_axis1 = A.sum(axis=1)\n",
    "A_sum_axis1, A_sum_axis1.shape"
   ]
  },
  {
   "cell_type": "code",
   "execution_count": 18,
   "id": "7abb7431",
   "metadata": {
    "execution": {
     "iopub.execute_input": "2022-12-05T07:31:07.909327Z",
     "iopub.status.busy": "2022-12-05T07:31:07.908698Z",
     "iopub.status.idle": "2022-12-05T07:31:07.914196Z",
     "shell.execute_reply": "2022-12-05T07:31:07.913497Z"
    },
    "origin_pos": 87,
    "tab": [
     "pytorch"
    ]
   },
   "outputs": [
    {
     "data": {
      "text/plain": [
       "tensor(190.)"
      ]
     },
     "execution_count": 18,
     "metadata": {},
     "output_type": "execute_result"
    }
   ],
   "source": [
    "A.sum(axis=[0, 1])"
   ]
  },
  {
   "cell_type": "markdown",
   "id": "94c7e2a5",
   "metadata": {
    "slideshow": {
     "slide_type": "slide"
    }
   },
   "source": [
    "一个与求和相关的量是*平均值*（mean或average）"
   ]
  },
  {
   "cell_type": "code",
   "execution_count": 19,
   "id": "7598ffc5",
   "metadata": {
    "execution": {
     "iopub.execute_input": "2022-12-05T07:31:07.917273Z",
     "iopub.status.busy": "2022-12-05T07:31:07.916772Z",
     "iopub.status.idle": "2022-12-05T07:31:07.922433Z",
     "shell.execute_reply": "2022-12-05T07:31:07.921729Z"
    },
    "origin_pos": 92,
    "tab": [
     "pytorch"
    ]
   },
   "outputs": [
    {
     "data": {
      "text/plain": [
       "(tensor(9.5000), tensor(9.5000))"
      ]
     },
     "execution_count": 19,
     "metadata": {},
     "output_type": "execute_result"
    }
   ],
   "source": [
    "A.mean(), A.sum() / A.numel()"
   ]
  },
  {
   "cell_type": "code",
   "execution_count": 20,
   "id": "34e0e802",
   "metadata": {
    "execution": {
     "iopub.execute_input": "2022-12-05T07:31:07.925669Z",
     "iopub.status.busy": "2022-12-05T07:31:07.925057Z",
     "iopub.status.idle": "2022-12-05T07:31:07.930981Z",
     "shell.execute_reply": "2022-12-05T07:31:07.930238Z"
    },
    "origin_pos": 97,
    "tab": [
     "pytorch"
    ]
   },
   "outputs": [
    {
     "data": {
      "text/plain": [
       "(tensor([ 8.,  9., 10., 11.]), tensor([ 8.,  9., 10., 11.]))"
      ]
     },
     "execution_count": 20,
     "metadata": {},
     "output_type": "execute_result"
    }
   ],
   "source": [
    "A.mean(axis=0), A.sum(axis=0) / A.shape[0]"
   ]
  },
  {
   "cell_type": "markdown",
   "id": "28983e40",
   "metadata": {
    "slideshow": {
     "slide_type": "slide"
    }
   },
   "source": [
    "计算总和或均值时保持轴数不变"
   ]
  },
  {
   "cell_type": "code",
   "execution_count": 21,
   "id": "40dc49c7",
   "metadata": {
    "execution": {
     "iopub.execute_input": "2022-12-05T07:31:07.934167Z",
     "iopub.status.busy": "2022-12-05T07:31:07.933674Z",
     "iopub.status.idle": "2022-12-05T07:31:07.939075Z",
     "shell.execute_reply": "2022-12-05T07:31:07.938347Z"
    },
    "origin_pos": 102,
    "tab": [
     "pytorch"
    ]
   },
   "outputs": [
    {
     "data": {
      "text/plain": [
       "tensor([[ 6.],\n",
       "        [22.],\n",
       "        [38.],\n",
       "        [54.],\n",
       "        [70.]])"
      ]
     },
     "execution_count": 21,
     "metadata": {},
     "output_type": "execute_result"
    }
   ],
   "source": [
    "sum_A = A.sum(axis=1, keepdims=True)\n",
    "sum_A"
   ]
  },
  {
   "cell_type": "markdown",
   "id": "e136ffd8",
   "metadata": {
    "slideshow": {
     "slide_type": "-"
    }
   },
   "source": [
    "通过广播将`A`除以`sum_A`"
   ]
  },
  {
   "cell_type": "code",
   "execution_count": 22,
   "id": "7ccebea9",
   "metadata": {
    "execution": {
     "iopub.execute_input": "2022-12-05T07:31:07.942324Z",
     "iopub.status.busy": "2022-12-05T07:31:07.941712Z",
     "iopub.status.idle": "2022-12-05T07:31:07.947012Z",
     "shell.execute_reply": "2022-12-05T07:31:07.946288Z"
    },
    "origin_pos": 107,
    "tab": [
     "pytorch"
    ]
   },
   "outputs": [
    {
     "data": {
      "text/plain": [
       "tensor([[0.0000, 0.1667, 0.3333, 0.5000],\n",
       "        [0.1818, 0.2273, 0.2727, 0.3182],\n",
       "        [0.2105, 0.2368, 0.2632, 0.2895],\n",
       "        [0.2222, 0.2407, 0.2593, 0.2778],\n",
       "        [0.2286, 0.2429, 0.2571, 0.2714]])"
      ]
     },
     "execution_count": 22,
     "metadata": {},
     "output_type": "execute_result"
    }
   ],
   "source": [
    "A / sum_A"
   ]
  },
  {
   "cell_type": "markdown",
   "id": "3e38818b",
   "metadata": {
    "slideshow": {
     "slide_type": "slide"
    }
   },
   "source": [
    "某个轴计算`A`元素的累积总和"
   ]
  },
  {
   "cell_type": "code",
   "execution_count": 23,
   "id": "f262901c",
   "metadata": {
    "execution": {
     "iopub.execute_input": "2022-12-05T07:31:07.950050Z",
     "iopub.status.busy": "2022-12-05T07:31:07.949555Z",
     "iopub.status.idle": "2022-12-05T07:31:07.955104Z",
     "shell.execute_reply": "2022-12-05T07:31:07.954372Z"
    },
    "origin_pos": 112,
    "tab": [
     "pytorch"
    ]
   },
   "outputs": [
    {
     "data": {
      "text/plain": [
       "tensor([[ 0.,  1.,  2.,  3.],\n",
       "        [ 4.,  6.,  8., 10.],\n",
       "        [12., 15., 18., 21.],\n",
       "        [24., 28., 32., 36.],\n",
       "        [40., 45., 50., 55.]])"
      ]
     },
     "execution_count": 23,
     "metadata": {},
     "output_type": "execute_result"
    }
   ],
   "source": [
    "A.cumsum(axis=0)"
   ]
  },
  {
   "cell_type": "markdown",
   "id": "d490a88c",
   "metadata": {
    "slideshow": {
     "slide_type": "slide"
    }
   },
   "source": [
    "点积是相同位置的按元素乘积的和"
   ]
  },
  {
   "cell_type": "code",
   "execution_count": 24,
   "id": "7fa5e3cd",
   "metadata": {
    "execution": {
     "iopub.execute_input": "2022-12-05T07:31:07.958311Z",
     "iopub.status.busy": "2022-12-05T07:31:07.957670Z",
     "iopub.status.idle": "2022-12-05T07:31:07.964078Z",
     "shell.execute_reply": "2022-12-05T07:31:07.963339Z"
    },
    "origin_pos": 117,
    "tab": [
     "pytorch"
    ]
   },
   "outputs": [
    {
     "data": {
      "text/plain": [
       "(tensor([0., 1., 2., 3.]), tensor([1., 1., 1., 1.]), tensor(6.))"
      ]
     },
     "execution_count": 24,
     "metadata": {},
     "output_type": "execute_result"
    }
   ],
   "source": [
    "y = torch.ones(4, dtype = torch.float32)\n",
    "x, y, torch.dot(x, y)"
   ]
  },
  {
   "cell_type": "markdown",
   "id": "0e89cf79",
   "metadata": {
    "slideshow": {
     "slide_type": "-"
    }
   },
   "source": [
    "我们可以通过执行按元素乘法，然后进行求和来表示两个向量的点积"
   ]
  },
  {
   "cell_type": "code",
   "execution_count": 25,
   "id": "fb32801b",
   "metadata": {
    "execution": {
     "iopub.execute_input": "2022-12-05T07:31:07.967316Z",
     "iopub.status.busy": "2022-12-05T07:31:07.966702Z",
     "iopub.status.idle": "2022-12-05T07:31:07.972049Z",
     "shell.execute_reply": "2022-12-05T07:31:07.971309Z"
    },
    "origin_pos": 122,
    "tab": [
     "pytorch"
    ]
   },
   "outputs": [
    {
     "data": {
      "text/plain": [
       "tensor(6.)"
      ]
     },
     "execution_count": 25,
     "metadata": {},
     "output_type": "execute_result"
    }
   ],
   "source": [
    "torch.sum(x * y)"
   ]
  },
  {
   "cell_type": "markdown",
   "id": "1115395a",
   "metadata": {
    "slideshow": {
     "slide_type": "slide"
    }
   },
   "source": [
    "矩阵向量积$\\mathbf{A}\\mathbf{x}$是一个长度为$m$的列向量，\n",
    "其第$i$个元素是点积$\\mathbf{a}^\\top_i \\mathbf{x}$"
   ]
  },
  {
   "cell_type": "code",
   "execution_count": 26,
   "id": "b7060927",
   "metadata": {
    "execution": {
     "iopub.execute_input": "2022-12-05T07:31:07.975459Z",
     "iopub.status.busy": "2022-12-05T07:31:07.974824Z",
     "iopub.status.idle": "2022-12-05T07:31:07.980373Z",
     "shell.execute_reply": "2022-12-05T07:31:07.979651Z"
    },
    "origin_pos": 130,
    "tab": [
     "pytorch"
    ]
   },
   "outputs": [
    {
     "data": {
      "text/plain": [
       "(torch.Size([5, 4]), torch.Size([4]), tensor([ 14.,  38.,  62.,  86., 110.]))"
      ]
     },
     "execution_count": 26,
     "metadata": {},
     "output_type": "execute_result"
    }
   ],
   "source": [
    "A.shape, x.shape, torch.mv(A, x)"
   ]
  },
  {
   "cell_type": "markdown",
   "id": "9d055550",
   "metadata": {
    "slideshow": {
     "slide_type": "slide"
    }
   },
   "source": [
    "我们可以将矩阵-矩阵乘法$\\mathbf{AB}$看作简单地执行$m$次矩阵-向量积，并将结果拼接在一起，形成一个$n \\times m$矩阵"
   ]
  },
  {
   "cell_type": "code",
   "execution_count": 27,
   "id": "2f9688d1",
   "metadata": {
    "execution": {
     "iopub.execute_input": "2022-12-05T07:31:07.983663Z",
     "iopub.status.busy": "2022-12-05T07:31:07.983060Z",
     "iopub.status.idle": "2022-12-05T07:31:07.988776Z",
     "shell.execute_reply": "2022-12-05T07:31:07.988062Z"
    },
    "origin_pos": 135,
    "tab": [
     "pytorch"
    ]
   },
   "outputs": [
    {
     "data": {
      "text/plain": [
       "tensor([[ 6.,  6.,  6.],\n",
       "        [22., 22., 22.],\n",
       "        [38., 38., 38.],\n",
       "        [54., 54., 54.],\n",
       "        [70., 70., 70.]])"
      ]
     },
     "execution_count": 27,
     "metadata": {},
     "output_type": "execute_result"
    }
   ],
   "source": [
    "B = torch.ones(4, 3)\n",
    "torch.mm(A, B)"
   ]
  },
  {
   "cell_type": "markdown",
   "id": "2790709e",
   "metadata": {
    "slideshow": {
     "slide_type": "slide"
    }
   },
   "source": [
    "$L_2$*范数*是向量元素平方和的平方根：\n",
    "$$\\|\\mathbf{x}\\|_2 = \\sqrt{\\sum_{i=1}^n x_i^2}$$"
   ]
  },
  {
   "cell_type": "code",
   "execution_count": 28,
   "id": "1421cae8",
   "metadata": {
    "execution": {
     "iopub.execute_input": "2022-12-05T07:31:07.991968Z",
     "iopub.status.busy": "2022-12-05T07:31:07.991372Z",
     "iopub.status.idle": "2022-12-05T07:31:07.996943Z",
     "shell.execute_reply": "2022-12-05T07:31:07.996228Z"
    },
    "origin_pos": 140,
    "tab": [
     "pytorch"
    ]
   },
   "outputs": [
    {
     "data": {
      "text/plain": [
       "tensor(5.)"
      ]
     },
     "execution_count": 28,
     "metadata": {},
     "output_type": "execute_result"
    }
   ],
   "source": [
    "u = torch.tensor([3.0, -4.0])\n",
    "torch.norm(u)"
   ]
  },
  {
   "cell_type": "markdown",
   "id": "1c8b2cab",
   "metadata": {
    "slideshow": {
     "slide_type": "slide"
    }
   },
   "source": [
    "$L_1$范数，它表示为向量元素的绝对值之和：\n",
    "$$\\|\\mathbf{x}\\|_1 = \\sum_{i=1}^n \\left|x_i \\right|$$"
   ]
  },
  {
   "cell_type": "code",
   "execution_count": 29,
   "id": "7e85d67b",
   "metadata": {
    "execution": {
     "iopub.execute_input": "2022-12-05T07:31:08.000202Z",
     "iopub.status.busy": "2022-12-05T07:31:07.999593Z",
     "iopub.status.idle": "2022-12-05T07:31:08.004908Z",
     "shell.execute_reply": "2022-12-05T07:31:08.004168Z"
    },
    "origin_pos": 145,
    "tab": [
     "pytorch"
    ]
   },
   "outputs": [
    {
     "data": {
      "text/plain": [
       "tensor(7.)"
      ]
     },
     "execution_count": 29,
     "metadata": {},
     "output_type": "execute_result"
    }
   ],
   "source": [
    "torch.abs(u).sum()"
   ]
  },
  {
   "cell_type": "markdown",
   "id": "e978f981",
   "metadata": {
    "slideshow": {
     "slide_type": "slide"
    }
   },
   "source": [
    "矩阵\n",
    "的*Frobenius范数*（Frobenius norm）是矩阵元素平方和的平方根：\n",
    "$$\\|\\mathbf{X}\\|_F = \\sqrt{\\sum_{i=1}^m \\sum_{j=1}^n x_{ij}^2}$$"
   ]
  },
  {
   "cell_type": "code",
   "execution_count": 30,
   "id": "27e50cc9",
   "metadata": {
    "execution": {
     "iopub.execute_input": "2022-12-05T07:31:08.008164Z",
     "iopub.status.busy": "2022-12-05T07:31:08.007559Z",
     "iopub.status.idle": "2022-12-05T07:31:08.013004Z",
     "shell.execute_reply": "2022-12-05T07:31:08.012273Z"
    },
    "origin_pos": 150,
    "tab": [
     "pytorch"
    ]
   },
   "outputs": [
    {
     "data": {
      "text/plain": [
       "tensor(6.)"
      ]
     },
     "execution_count": 30,
     "metadata": {},
     "output_type": "execute_result"
    }
   ],
   "source": [
    "torch.norm(torch.ones((4, 9)))"
   ]
  }
 ],
 "metadata": {
  "celltoolbar": "Slideshow",
  "language_info": {
   "name": "python"
  },
  "rise": {
   "autolaunch": true,
   "enable_chalkboard": true,
   "overlay": "<div class='my-top-right'><img height=80px src='http://d2l.ai/_static/logo-with-text.png'/></div><div class='my-top-left'></div>",
   "scroll": true
  }
 },
 "nbformat": 4,
 "nbformat_minor": 5
}