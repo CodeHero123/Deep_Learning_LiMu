{
 "cells": [
  {
   "cell_type": "markdown",
   "id": "f21bfbd5",
   "metadata": {
    "slideshow": {
     "slide_type": "-"
    }
   },
   "source": [
    "# 线性代数\n",
    "\n",
    "标量由只有一个元素的张量表示"
   ]
  },
  {
   "cell_type": "code",
   "execution_count": 1,
   "id": "fa7b2e4e",
   "metadata": {
    "execution": {
     "iopub.execute_input": "2023-08-14T18:48:27.963264Z",
     "iopub.status.busy": "2023-08-14T18:48:27.962727Z",
     "iopub.status.idle": "2023-08-14T18:48:28.889957Z",
     "shell.execute_reply": "2023-08-14T18:48:28.889046Z"
    },
    "origin_pos": 2,
    "tab": [
     "pytorch"
    ]
   },
   "outputs": [
    {
     "data": {
      "text/plain": [
       "(tensor(5.), tensor(6.), tensor(1.5000), tensor(9.))"
      ]
     },
     "execution_count": 1,
     "metadata": {},
     "output_type": "execute_result"
    }
   ],
   "source": [
    "import torch\n",
    "\n",
    "x = torch.tensor(3.0)\n",
    "y = torch.tensor(2.0)\n",
    "\n",
    "x + y, x * y, x / y, x**y"
   ]
  },
  {
   "cell_type": "markdown",
   "id": "28d004fe",
   "metadata": {
    "slideshow": {
     "slide_type": "slide"
    }
   },
   "source": [
    "向量可以被视为标量值组成的列表"
   ]
  },
  {
   "cell_type": "code",
   "execution_count": 2,
   "id": "fe73357d",
   "metadata": {
    "execution": {
     "iopub.execute_input": "2023-08-14T18:48:28.896610Z",
     "iopub.status.busy": "2023-08-14T18:48:28.895823Z",
     "iopub.status.idle": "2023-08-14T18:48:28.901596Z",
     "shell.execute_reply": "2023-08-14T18:48:28.900834Z"
    },
    "origin_pos": 7,
    "tab": [
     "pytorch"
    ]
   },
   "outputs": [
    {
     "data": {
      "text/plain": [
       "tensor([0, 1, 2, 3])"
      ]
     },
     "execution_count": 2,
     "metadata": {},
     "output_type": "execute_result"
    }
   ],
   "source": [
    "x = torch.arange(4)\n",
    "x"
   ]
  },
  {
   "cell_type": "markdown",
   "id": "2d9da296",
   "metadata": {
    "slideshow": {
     "slide_type": "-"
    }
   },
   "source": [
    "通过张量的索引来访问任一元素"
   ]
  },
  {
   "cell_type": "code",
   "execution_count": 3,
   "id": "77a54663",
   "metadata": {
    "execution": {
     "iopub.execute_input": "2023-08-14T18:48:28.906251Z",
     "iopub.status.busy": "2023-08-14T18:48:28.905670Z",
     "iopub.status.idle": "2023-08-14T18:48:28.910864Z",
     "shell.execute_reply": "2023-08-14T18:48:28.910107Z"
    },
    "origin_pos": 12,
    "tab": [
     "pytorch"
    ]
   },
   "outputs": [
    {
     "data": {
      "text/plain": [
       "tensor(3)"
      ]
     },
     "execution_count": 3,
     "metadata": {},
     "output_type": "execute_result"
    }
   ],
   "source": [
    "x[3]"
   ]
  },
  {
   "cell_type": "markdown",
   "id": "747e4216",
   "metadata": {
    "slideshow": {
     "slide_type": "slide"
    }
   },
   "source": [
    "访问张量的长度"
   ]
  },
  {
   "cell_type": "code",
   "execution_count": 4,
   "id": "f47f4728",
   "metadata": {
    "execution": {
     "iopub.execute_input": "2023-08-14T18:48:28.915868Z",
     "iopub.status.busy": "2023-08-14T18:48:28.915222Z",
     "iopub.status.idle": "2023-08-14T18:48:28.920184Z",
     "shell.execute_reply": "2023-08-14T18:48:28.919393Z"
    },
    "origin_pos": 17,
    "tab": [
     "pytorch"
    ]
   },
   "outputs": [
    {
     "data": {
      "text/plain": [
       "4"
      ]
     },
     "execution_count": 4,
     "metadata": {},
     "output_type": "execute_result"
    }
   ],
   "source": [
    "len(x)"
   ]
  },
  {
   "cell_type": "markdown",
   "id": "9159e9cd",
   "metadata": {
    "slideshow": {
     "slide_type": "-"
    }
   },
   "source": [
    "只有一个轴的张量，形状只有一个元素"
   ]
  },
  {
   "cell_type": "code",
   "execution_count": 5,
   "id": "01a8787b",
   "metadata": {
    "execution": {
     "iopub.execute_input": "2023-08-14T18:48:28.925054Z",
     "iopub.status.busy": "2023-08-14T18:48:28.924420Z",
     "iopub.status.idle": "2023-08-14T18:48:28.929513Z",
     "shell.execute_reply": "2023-08-14T18:48:28.928675Z"
    },
    "origin_pos": 22,
    "tab": [
     "pytorch"
    ]
   },
   "outputs": [
    {
     "data": {
      "text/plain": [
       "torch.Size([4])"
      ]
     },
     "execution_count": 5,
     "metadata": {},
     "output_type": "execute_result"
    }
   ],
   "source": [
    "x.shape"
   ]
  },
  {
   "cell_type": "markdown",
   "id": "b3eb0af5",
   "metadata": {
    "slideshow": {
     "slide_type": "slide"
    }
   },
   "source": [
    "通过指定两个分量$m$和$n$来创建一个形状为$m \\times n$的矩阵"
   ]
  },
  {
   "cell_type": "code",
   "execution_count": 6,
   "id": "60655509",
   "metadata": {
    "execution": {
     "iopub.execute_input": "2023-08-14T18:48:28.933834Z",
     "iopub.status.busy": "2023-08-14T18:48:28.933294Z",
     "iopub.status.idle": "2023-08-14T18:48:28.939170Z",
     "shell.execute_reply": "2023-08-14T18:48:28.938386Z"
    },
    "origin_pos": 27,
    "tab": [
     "pytorch"
    ]
   },
   "outputs": [
    {
     "data": {
      "text/plain": [
       "tensor([[ 0,  1,  2,  3],\n",
       "        [ 4,  5,  6,  7],\n",
       "        [ 8,  9, 10, 11],\n",
       "        [12, 13, 14, 15],\n",
       "        [16, 17, 18, 19]])"
      ]
     },
     "execution_count": 6,
     "metadata": {},
     "output_type": "execute_result"
    }
   ],
   "source": [
    "A = torch.arange(20).reshape(5, 4)\n",
    "A"
   ]
  },
  {
   "cell_type": "markdown",
   "id": "64cf8d78",
   "metadata": {
    "slideshow": {
     "slide_type": "-"
    }
   },
   "source": [
    "矩阵的转置"
   ]
  },
  {
   "cell_type": "code",
   "execution_count": 7,
   "id": "917bf3e6",
   "metadata": {
    "execution": {
     "iopub.execute_input": "2023-08-14T18:48:28.943619Z",
     "iopub.status.busy": "2023-08-14T18:48:28.942976Z",
     "iopub.status.idle": "2023-08-14T18:48:28.948353Z",
     "shell.execute_reply": "2023-08-14T18:48:28.947591Z"
    },
    "origin_pos": 32,
    "tab": [
     "pytorch"
    ]
   },
   "outputs": [
    {
     "data": {
      "text/plain": [
       "tensor([[ 0,  4,  8, 12, 16],\n",
       "        [ 1,  5,  9, 13, 17],\n",
       "        [ 2,  6, 10, 14, 18],\n",
       "        [ 3,  7, 11, 15, 19]])"
      ]
     },
     "execution_count": 7,
     "metadata": {},
     "output_type": "execute_result"
    }
   ],
   "source": [
    "A.T"
   ]
  },
  {
   "cell_type": "markdown",
   "id": "d1a2ce8b",
   "metadata": {
    "slideshow": {
     "slide_type": "slide"
    }
   },
   "source": [
    "*对称矩阵*（symmetric matrix）$\\mathbf{A}$等于其转置：$\\mathbf{A} = \\mathbf{A}^\\top$"
   ]
  },
  {
   "cell_type": "code",
   "execution_count": 8,
   "id": "77542985",
   "metadata": {
    "execution": {
     "iopub.execute_input": "2023-08-14T18:48:28.952647Z",
     "iopub.status.busy": "2023-08-14T18:48:28.952129Z",
     "iopub.status.idle": "2023-08-14T18:48:28.958023Z",
     "shell.execute_reply": "2023-08-14T18:48:28.957239Z"
    },
    "origin_pos": 37,
    "tab": [
     "pytorch"
    ]
   },
   "outputs": [
    {
     "data": {
      "text/plain": [
       "tensor([[1, 2, 3],\n",
       "        [2, 0, 4],\n",
       "        [3, 4, 5]])"
      ]
     },
     "execution_count": 8,
     "metadata": {},
     "output_type": "execute_result"
    }
   ],
   "source": [
    "B = torch.tensor([[1, 2, 3], [2, 0, 4], [3, 4, 5]])\n",
    "B"
   ]
  },
  {
   "cell_type": "code",
   "execution_count": 9,
   "id": "a87e1aac",
   "metadata": {
    "execution": {
     "iopub.execute_input": "2023-08-14T18:48:28.962464Z",
     "iopub.status.busy": "2023-08-14T18:48:28.961866Z",
     "iopub.status.idle": "2023-08-14T18:48:28.967277Z",
     "shell.execute_reply": "2023-08-14T18:48:28.966495Z"
    },
    "origin_pos": 42,
    "tab": [
     "pytorch"
    ]
   },
   "outputs": [
    {
     "data": {
      "text/plain": [
       "tensor([[True, True, True],\n",
       "        [True, True, True],\n",
       "        [True, True, True]])"
      ]
     },
     "execution_count": 9,
     "metadata": {},
     "output_type": "execute_result"
    }
   ],
   "source": [
    "B == B.T"
   ]
  },
  {
   "cell_type": "markdown",
   "id": "90f8e201",
   "metadata": {
    "slideshow": {
     "slide_type": "slide"
    }
   },
   "source": [
    "就像向量是标量的推广，矩阵是向量的推广一样，我们可以构建具有更多轴的数据结构"
   ]
  },
  {
   "cell_type": "code",
   "execution_count": 10,
   "id": "88cbdad8",
   "metadata": {
    "execution": {
     "iopub.execute_input": "2023-08-14T18:48:28.971840Z",
     "iopub.status.busy": "2023-08-14T18:48:28.971200Z",
     "iopub.status.idle": "2023-08-14T18:48:28.976900Z",
     "shell.execute_reply": "2023-08-14T18:48:28.976153Z"
    },
    "origin_pos": 47,
    "tab": [
     "pytorch"
    ]
   },
   "outputs": [
    {
     "data": {
      "text/plain": [
       "tensor([[[ 0,  1,  2,  3],\n",
       "         [ 4,  5,  6,  7],\n",
       "         [ 8,  9, 10, 11]],\n",
       "\n",
       "        [[12, 13, 14, 15],\n",
       "         [16, 17, 18, 19],\n",
       "         [20, 21, 22, 23]]])"
      ]
     },
     "execution_count": 10,
     "metadata": {},
     "output_type": "execute_result"
    }
   ],
   "source": [
    "X = torch.arange(24).reshape(2, 3, 4)\n",
    "X"
   ]
  },
  {
   "cell_type": "markdown",
   "id": "54659e52",
   "metadata": {
    "slideshow": {
     "slide_type": "slide"
    }
   },
   "source": [
    "给定具有相同形状的任意两个张量，任何按元素二元运算的结果都将是相同形状的张量"
   ]
  },
  {
   "cell_type": "code",
   "execution_count": 11,
   "id": "162a9850",
   "metadata": {
    "execution": {
     "iopub.execute_input": "2023-08-14T18:48:28.981850Z",
     "iopub.status.busy": "2023-08-14T18:48:28.981185Z",
     "iopub.status.idle": "2023-08-14T18:48:28.988584Z",
     "shell.execute_reply": "2023-08-14T18:48:28.987809Z"
    },
    "origin_pos": 52,
    "tab": [
     "pytorch"
    ]
   },
   "outputs": [
    {
     "data": {
      "text/plain": [
       "(tensor([[ 0.,  1.,  2.,  3.],\n",
       "         [ 4.,  5.,  6.,  7.],\n",
       "         [ 8.,  9., 10., 11.],\n",
       "         [12., 13., 14., 15.],\n",
       "         [16., 17., 18., 19.]]),\n",
       " tensor([[ 0.,  2.,  4.,  6.],\n",
       "         [ 8., 10., 12., 14.],\n",
       "         [16., 18., 20., 22.],\n",
       "         [24., 26., 28., 30.],\n",
       "         [32., 34., 36., 38.]]))"
      ]
     },
     "execution_count": 11,
     "metadata": {},
     "output_type": "execute_result"
    }
   ],
   "source": [
    "A = torch.arange(20, dtype=torch.float32).reshape(5, 4)\n",
    "B = A.clone()\n",
    "A, A + B"
   ]
  },
  {
   "cell_type": "markdown",
   "id": "5d89ee30",
   "metadata": {
    "slideshow": {
     "slide_type": "slide"
    }
   },
   "source": [
    "两个矩阵的按元素乘法称为*Hadamard积*（Hadamard product）（数学符号$\\odot$）"
   ]
  },
  {
   "cell_type": "code",
   "execution_count": 12,
   "id": "4fde96c0",
   "metadata": {
    "execution": {
     "iopub.execute_input": "2023-08-14T18:48:28.993333Z",
     "iopub.status.busy": "2023-08-14T18:48:28.992696Z",
     "iopub.status.idle": "2023-08-14T18:48:28.998485Z",
     "shell.execute_reply": "2023-08-14T18:48:28.997690Z"
    },
    "origin_pos": 57,
    "tab": [
     "pytorch"
    ]
   },
   "outputs": [
    {
     "data": {
      "text/plain": [
       "tensor([[  0.,   1.,   4.,   9.],\n",
       "        [ 16.,  25.,  36.,  49.],\n",
       "        [ 64.,  81., 100., 121.],\n",
       "        [144., 169., 196., 225.],\n",
       "        [256., 289., 324., 361.]])"
      ]
     },
     "execution_count": 12,
     "metadata": {},
     "output_type": "execute_result"
    }
   ],
   "source": [
    "A * B"
   ]
  },
  {
   "cell_type": "code",
   "execution_count": 13,
   "id": "8cd2b687",
   "metadata": {
    "execution": {
     "iopub.execute_input": "2023-08-14T18:48:29.003151Z",
     "iopub.status.busy": "2023-08-14T18:48:29.002519Z",
     "iopub.status.idle": "2023-08-14T18:48:29.008686Z",
     "shell.execute_reply": "2023-08-14T18:48:29.007926Z"
    },
    "origin_pos": 62,
    "tab": [
     "pytorch"
    ]
   },
   "outputs": [
    {
     "data": {
      "text/plain": [
       "(tensor([[[ 2,  3,  4,  5],\n",
       "          [ 6,  7,  8,  9],\n",
       "          [10, 11, 12, 13]],\n",
       " \n",
       "         [[14, 15, 16, 17],\n",
       "          [18, 19, 20, 21],\n",
       "          [22, 23, 24, 25]]]),\n",
       " torch.Size([2, 3, 4]))"
      ]
     },
     "execution_count": 13,
     "metadata": {},
     "output_type": "execute_result"
    }
   ],
   "source": [
    "a = 2\n",
    "X = torch.arange(24).reshape(2, 3, 4)\n",
    "a + X, (a * X).shape"
   ]
  },
  {
   "cell_type": "markdown",
   "id": "47b9f551",
   "metadata": {
    "slideshow": {
     "slide_type": "slide"
    }
   },
   "source": [
    "计算其元素的和"
   ]
  },
  {
   "cell_type": "code",
   "execution_count": 14,
   "id": "efd6ee65",
   "metadata": {
    "execution": {
     "iopub.execute_input": "2023-08-14T18:48:29.013430Z",
     "iopub.status.busy": "2023-08-14T18:48:29.012798Z",
     "iopub.status.idle": "2023-08-14T18:48:29.019011Z",
     "shell.execute_reply": "2023-08-14T18:48:29.018228Z"
    },
    "origin_pos": 67,
    "tab": [
     "pytorch"
    ]
   },
   "outputs": [
    {
     "data": {
      "text/plain": [
       "(tensor([0., 1., 2., 3.]), tensor(6.))"
      ]
     },
     "execution_count": 14,
     "metadata": {},
     "output_type": "execute_result"
    }
   ],
   "source": [
    "x = torch.arange(4, dtype=torch.float32)\n",
    "x, x.sum()"
   ]
  },
  {
   "cell_type": "markdown",
   "id": "26c1eef0",
   "metadata": {
    "slideshow": {
     "slide_type": "-"
    }
   },
   "source": [
    "表示任意形状张量的元素和"
   ]
  },
  {
   "cell_type": "code",
   "execution_count": 15,
   "id": "725ad525",
   "metadata": {
    "execution": {
     "iopub.execute_input": "2023-08-14T18:48:29.023746Z",
     "iopub.status.busy": "2023-08-14T18:48:29.023049Z",
     "iopub.status.idle": "2023-08-14T18:48:29.028635Z",
     "shell.execute_reply": "2023-08-14T18:48:29.027880Z"
    },
    "origin_pos": 72,
    "tab": [
     "pytorch"
    ]
   },
   "outputs": [
    {
     "data": {
      "text/plain": [
       "(torch.Size([5, 4]), tensor(190.))"
      ]
     },
     "execution_count": 15,
     "metadata": {},
     "output_type": "execute_result"
    }
   ],
   "source": [
    "A.shape, A.sum()"
   ]
  },
  {
   "cell_type": "markdown",
   "id": "6c961563",
   "metadata": {
    "slideshow": {
     "slide_type": "slide"
    }
   },
   "source": [
    "指定张量沿哪一个轴来通过求和降低维度"
   ]
  },
  {
   "cell_type": "code",
   "execution_count": 16,
   "id": "c7943043",
   "metadata": {
    "execution": {
     "iopub.execute_input": "2023-08-14T18:48:29.033316Z",
     "iopub.status.busy": "2023-08-14T18:48:29.032680Z",
     "iopub.status.idle": "2023-08-14T18:48:29.038407Z",
     "shell.execute_reply": "2023-08-14T18:48:29.037614Z"
    },
    "origin_pos": 77,
    "tab": [
     "pytorch"
    ]
   },
   "outputs": [
    {
     "data": {
      "text/plain": [
       "(tensor([40., 45., 50., 55.]), torch.Size([4]))"
      ]
     },
     "execution_count": 16,
     "metadata": {},
     "output_type": "execute_result"
    }
   ],
   "source": [
    "A_sum_axis0 = A.sum(axis=0)\n",
    "A_sum_axis0, A_sum_axis0.shape"
   ]
  },
  {
   "cell_type": "code",
   "execution_count": 17,
   "id": "d0cca6c3",
   "metadata": {
    "execution": {
     "iopub.execute_input": "2023-08-14T18:48:29.042933Z",
     "iopub.status.busy": "2023-08-14T18:48:29.042300Z",
     "iopub.status.idle": "2023-08-14T18:48:29.048002Z",
     "shell.execute_reply": "2023-08-14T18:48:29.047238Z"
    },
    "origin_pos": 82,
    "tab": [
     "pytorch"
    ]
   },
   "outputs": [
    {
     "data": {
      "text/plain": [
       "(tensor([ 6., 22., 38., 54., 70.]), torch.Size([5]))"
      ]
     },
     "execution_count": 17,
     "metadata": {},
     "output_type": "execute_result"
    }
   ],
   "source": [
    "A_sum_axis1 = A.sum(axis=1)\n",
    "A_sum_axis1, A_sum_axis1.shape"
   ]
  },
  {
   "cell_type": "code",
   "execution_count": 18,
   "id": "76e64dee",
   "metadata": {
    "execution": {
     "iopub.execute_input": "2023-08-14T18:48:29.052600Z",
     "iopub.status.busy": "2023-08-14T18:48:29.051971Z",
     "iopub.status.idle": "2023-08-14T18:48:29.057673Z",
     "shell.execute_reply": "2023-08-14T18:48:29.056900Z"
    },
    "origin_pos": 87,
    "tab": [
     "pytorch"
    ]
   },
   "outputs": [
    {
     "data": {
      "text/plain": [
       "tensor(190.)"
      ]
     },
     "execution_count": 18,
     "metadata": {},
     "output_type": "execute_result"
    }
   ],
   "source": [
    "A.sum(axis=[0, 1])"
   ]
  },
  {
   "cell_type": "markdown",
   "id": "b538c2b8",
   "metadata": {
    "slideshow": {
     "slide_type": "slide"
    }
   },
   "source": [
    "一个与求和相关的量是*平均值*（mean或average）"
   ]
  },
  {
   "cell_type": "code",
   "execution_count": 19,
   "id": "1f2e7612",
   "metadata": {
    "execution": {
     "iopub.execute_input": "2023-08-14T18:48:29.064322Z",
     "iopub.status.busy": "2023-08-14T18:48:29.063689Z",
     "iopub.status.idle": "2023-08-14T18:48:29.069713Z",
     "shell.execute_reply": "2023-08-14T18:48:29.068946Z"
    },
    "origin_pos": 92,
    "tab": [
     "pytorch"
    ]
   },
   "outputs": [
    {
     "data": {
      "text/plain": [
       "(tensor(9.5000), tensor(9.5000))"
      ]
     },
     "execution_count": 19,
     "metadata": {},
     "output_type": "execute_result"
    }
   ],
   "source": [
    "A.mean(), A.sum() / A.numel()"
   ]
  },
  {
   "cell_type": "code",
   "execution_count": 20,
   "id": "ec669b9d",
   "metadata": {
    "execution": {
     "iopub.execute_input": "2023-08-14T18:48:29.074445Z",
     "iopub.status.busy": "2023-08-14T18:48:29.073816Z",
     "iopub.status.idle": "2023-08-14T18:48:29.079999Z",
     "shell.execute_reply": "2023-08-14T18:48:29.079228Z"
    },
    "origin_pos": 97,
    "tab": [
     "pytorch"
    ]
   },
   "outputs": [
    {
     "data": {
      "text/plain": [
       "(tensor([ 8.,  9., 10., 11.]), tensor([ 8.,  9., 10., 11.]))"
      ]
     },
     "execution_count": 20,
     "metadata": {},
     "output_type": "execute_result"
    }
   ],
   "source": [
    "A.mean(axis=0), A.sum(axis=0) / A.shape[0]"
   ]
  },
  {
   "cell_type": "markdown",
   "id": "cf3d8aeb",
   "metadata": {
    "slideshow": {
     "slide_type": "slide"
    }
   },
   "source": [
    "计算总和或均值时保持轴数不变"
   ]
  },
  {
   "cell_type": "code",
   "execution_count": 21,
   "id": "5eebf957",
   "metadata": {
    "execution": {
     "iopub.execute_input": "2023-08-14T18:48:29.084511Z",
     "iopub.status.busy": "2023-08-14T18:48:29.083879Z",
     "iopub.status.idle": "2023-08-14T18:48:29.089600Z",
     "shell.execute_reply": "2023-08-14T18:48:29.088829Z"
    },
    "origin_pos": 102,
    "tab": [
     "pytorch"
    ]
   },
   "outputs": [
    {
     "data": {
      "text/plain": [
       "tensor([[ 6.],\n",
       "        [22.],\n",
       "        [38.],\n",
       "        [54.],\n",
       "        [70.]])"
      ]
     },
     "execution_count": 21,
     "metadata": {},
     "output_type": "execute_result"
    }
   ],
   "source": [
    "sum_A = A.sum(axis=1, keepdims=True)\n",
    "sum_A"
   ]
  },
  {
   "cell_type": "markdown",
   "id": "d5ca52f7",
   "metadata": {
    "slideshow": {
     "slide_type": "-"
    }
   },
   "source": [
    "通过广播将`A`除以`sum_A`"
   ]
  },
  {
   "cell_type": "code",
   "execution_count": 22,
   "id": "d51f8248",
   "metadata": {
    "execution": {
     "iopub.execute_input": "2023-08-14T18:48:29.093889Z",
     "iopub.status.busy": "2023-08-14T18:48:29.093400Z",
     "iopub.status.idle": "2023-08-14T18:48:29.098928Z",
     "shell.execute_reply": "2023-08-14T18:48:29.098163Z"
    },
    "origin_pos": 107,
    "tab": [
     "pytorch"
    ]
   },
   "outputs": [
    {
     "data": {
      "text/plain": [
       "tensor([[0.0000, 0.1667, 0.3333, 0.5000],\n",
       "        [0.1818, 0.2273, 0.2727, 0.3182],\n",
       "        [0.2105, 0.2368, 0.2632, 0.2895],\n",
       "        [0.2222, 0.2407, 0.2593, 0.2778],\n",
       "        [0.2286, 0.2429, 0.2571, 0.2714]])"
      ]
     },
     "execution_count": 22,
     "metadata": {},
     "output_type": "execute_result"
    }
   ],
   "source": [
    "A / sum_A"
   ]
  },
  {
   "cell_type": "markdown",
   "id": "3fdde77b",
   "metadata": {
    "slideshow": {
     "slide_type": "slide"
    }
   },
   "source": [
    "某个轴计算`A`元素的累积总和"
   ]
  },
  {
   "cell_type": "code",
   "execution_count": 23,
   "id": "93fef2d7",
   "metadata": {
    "execution": {
     "iopub.execute_input": "2023-08-14T18:48:29.103298Z",
     "iopub.status.busy": "2023-08-14T18:48:29.102708Z",
     "iopub.status.idle": "2023-08-14T18:48:29.108426Z",
     "shell.execute_reply": "2023-08-14T18:48:29.107625Z"
    },
    "origin_pos": 112,
    "tab": [
     "pytorch"
    ]
   },
   "outputs": [
    {
     "data": {
      "text/plain": [
       "tensor([[ 0.,  1.,  2.,  3.],\n",
       "        [ 4.,  6.,  8., 10.],\n",
       "        [12., 15., 18., 21.],\n",
       "        [24., 28., 32., 36.],\n",
       "        [40., 45., 50., 55.]])"
      ]
     },
     "execution_count": 23,
     "metadata": {},
     "output_type": "execute_result"
    }
   ],
   "source": [
    "A.cumsum(axis=0)"
   ]
  },
  {
   "cell_type": "markdown",
   "id": "754bd9c8",
   "metadata": {
    "slideshow": {
     "slide_type": "slide"
    }
   },
   "source": [
    "点积是相同位置的按元素乘积的和"
   ]
  },
  {
   "cell_type": "code",
   "execution_count": 24,
   "id": "511f1446",
   "metadata": {
    "execution": {
     "iopub.execute_input": "2023-08-14T18:48:29.113049Z",
     "iopub.status.busy": "2023-08-14T18:48:29.112452Z",
     "iopub.status.idle": "2023-08-14T18:48:29.121583Z",
     "shell.execute_reply": "2023-08-14T18:48:29.120824Z"
    },
    "origin_pos": 117,
    "tab": [
     "pytorch"
    ]
   },
   "outputs": [
    {
     "data": {
      "text/plain": [
       "(tensor([0., 1., 2., 3.]), tensor([1., 1., 1., 1.]), tensor(6.))"
      ]
     },
     "execution_count": 24,
     "metadata": {},
     "output_type": "execute_result"
    }
   ],
   "source": [
    "y = torch.ones(4, dtype = torch.float32)\n",
    "x, y, torch.dot(x, y)"
   ]
  },
  {
   "cell_type": "markdown",
   "id": "b5a470c5",
   "metadata": {
    "slideshow": {
     "slide_type": "-"
    }
   },
   "source": [
    "我们可以通过执行按元素乘法，然后进行求和来表示两个向量的点积"
   ]
  },
  {
   "cell_type": "code",
   "execution_count": 25,
   "id": "3efe7a75",
   "metadata": {
    "execution": {
     "iopub.execute_input": "2023-08-14T18:48:29.126260Z",
     "iopub.status.busy": "2023-08-14T18:48:29.125550Z",
     "iopub.status.idle": "2023-08-14T18:48:29.131184Z",
     "shell.execute_reply": "2023-08-14T18:48:29.130430Z"
    },
    "origin_pos": 122,
    "tab": [
     "pytorch"
    ]
   },
   "outputs": [
    {
     "data": {
      "text/plain": [
       "tensor(6.)"
      ]
     },
     "execution_count": 25,
     "metadata": {},
     "output_type": "execute_result"
    }
   ],
   "source": [
    "torch.sum(x * y)"
   ]
  },
  {
   "cell_type": "markdown",
   "id": "26137d48",
   "metadata": {
    "slideshow": {
     "slide_type": "slide"
    }
   },
   "source": [
    "矩阵向量积$\\mathbf{A}\\mathbf{x}$是一个长度为$m$的列向量，\n",
    "其第$i$个元素是点积$\\mathbf{a}^\\top_i \\mathbf{x}$"
   ]
  },
  {
   "cell_type": "code",
   "execution_count": 26,
   "id": "8f60cbd7",
   "metadata": {
    "execution": {
     "iopub.execute_input": "2023-08-14T18:48:29.135919Z",
     "iopub.status.busy": "2023-08-14T18:48:29.135394Z",
     "iopub.status.idle": "2023-08-14T18:48:29.141215Z",
     "shell.execute_reply": "2023-08-14T18:48:29.140440Z"
    },
    "origin_pos": 130,
    "tab": [
     "pytorch"
    ]
   },
   "outputs": [
    {
     "data": {
      "text/plain": [
       "(torch.Size([5, 4]), torch.Size([4]), tensor([ 14.,  38.,  62.,  86., 110.]))"
      ]
     },
     "execution_count": 26,
     "metadata": {},
     "output_type": "execute_result"
    }
   ],
   "source": [
    "A.shape, x.shape, torch.mv(A, x)"
   ]
  },
  {
   "cell_type": "markdown",
   "id": "83bea158",
   "metadata": {
    "slideshow": {
     "slide_type": "slide"
    }
   },
   "source": [
    "我们可以将矩阵-矩阵乘法$\\mathbf{AB}$看作简单地执行$m$次矩阵-向量积，并将结果拼接在一起，形成一个$n \\times m$矩阵"
   ]
  },
  {
   "cell_type": "code",
   "execution_count": 27,
   "id": "8a42e595",
   "metadata": {
    "execution": {
     "iopub.execute_input": "2023-08-14T18:48:29.145713Z",
     "iopub.status.busy": "2023-08-14T18:48:29.145192Z",
     "iopub.status.idle": "2023-08-14T18:48:29.151271Z",
     "shell.execute_reply": "2023-08-14T18:48:29.150493Z"
    },
    "origin_pos": 135,
    "tab": [
     "pytorch"
    ]
   },
   "outputs": [
    {
     "data": {
      "text/plain": [
       "tensor([[ 6.,  6.,  6.],\n",
       "        [22., 22., 22.],\n",
       "        [38., 38., 38.],\n",
       "        [54., 54., 54.],\n",
       "        [70., 70., 70.]])"
      ]
     },
     "execution_count": 27,
     "metadata": {},
     "output_type": "execute_result"
    }
   ],
   "source": [
    "B = torch.ones(4, 3)\n",
    "torch.mm(A, B)"
   ]
  },
  {
   "cell_type": "markdown",
   "id": "12f2be9c",
   "metadata": {
    "slideshow": {
     "slide_type": "slide"
    }
   },
   "source": [
    "$L_2$*范数*是向量元素平方和的平方根：\n",
    "$$\\|\\mathbf{x}\\|_2 = \\sqrt{\\sum_{i=1}^n x_i^2}$$"
   ]
  },
  {
   "cell_type": "code",
   "execution_count": 28,
   "id": "d1ee6b98",
   "metadata": {
    "execution": {
     "iopub.execute_input": "2023-08-14T18:48:29.156038Z",
     "iopub.status.busy": "2023-08-14T18:48:29.155520Z",
     "iopub.status.idle": "2023-08-14T18:48:29.161342Z",
     "shell.execute_reply": "2023-08-14T18:48:29.160577Z"
    },
    "origin_pos": 140,
    "tab": [
     "pytorch"
    ]
   },
   "outputs": [
    {
     "data": {
      "text/plain": [
       "tensor(5.)"
      ]
     },
     "execution_count": 28,
     "metadata": {},
     "output_type": "execute_result"
    }
   ],
   "source": [
    "u = torch.tensor([3.0, -4.0])\n",
    "torch.norm(u)"
   ]
  },
  {
   "cell_type": "markdown",
   "id": "4e787553",
   "metadata": {
    "slideshow": {
     "slide_type": "slide"
    }
   },
   "source": [
    "$L_1$范数，它表示为向量元素的绝对值之和：\n",
    "$$\\|\\mathbf{x}\\|_1 = \\sum_{i=1}^n \\left|x_i \\right|$$"
   ]
  },
  {
   "cell_type": "code",
   "execution_count": 29,
   "id": "a6ed84de",
   "metadata": {
    "execution": {
     "iopub.execute_input": "2023-08-14T18:48:29.165793Z",
     "iopub.status.busy": "2023-08-14T18:48:29.165246Z",
     "iopub.status.idle": "2023-08-14T18:48:29.170881Z",
     "shell.execute_reply": "2023-08-14T18:48:29.170060Z"
    },
    "origin_pos": 145,
    "tab": [
     "pytorch"
    ]
   },
   "outputs": [
    {
     "data": {
      "text/plain": [
       "tensor(7.)"
      ]
     },
     "execution_count": 29,
     "metadata": {},
     "output_type": "execute_result"
    }
   ],
   "source": [
    "torch.abs(u).sum()"
   ]
  },
  {
   "cell_type": "markdown",
   "id": "c17fb940",
   "metadata": {
    "slideshow": {
     "slide_type": "slide"
    }
   },
   "source": [
    "矩阵\n",
    "的*Frobenius范数*（Frobenius norm）是矩阵元素平方和的平方根：\n",
    "$$\\|\\mathbf{X}\\|_F = \\sqrt{\\sum_{i=1}^m \\sum_{j=1}^n x_{ij}^2}$$"
   ]
  },
  {
   "cell_type": "code",
   "execution_count": 30,
   "id": "2be615e2",
   "metadata": {
    "execution": {
     "iopub.execute_input": "2023-08-14T18:48:29.174322Z",
     "iopub.status.busy": "2023-08-14T18:48:29.173796Z",
     "iopub.status.idle": "2023-08-14T18:48:29.179481Z",
     "shell.execute_reply": "2023-08-14T18:48:29.178723Z"
    },
    "origin_pos": 150,
    "tab": [
     "pytorch"
    ]
   },
   "outputs": [
    {
     "data": {
      "text/plain": [
       "tensor(6.)"
      ]
     },
     "execution_count": 30,
     "metadata": {},
     "output_type": "execute_result"
    }
   ],
   "source": [
    "torch.norm(torch.ones((4, 9)))"
   ]
  }
 ],
 "metadata": {
  "celltoolbar": "Slideshow",
  "language_info": {
   "name": "python"
  },
  "required_libs": [],
  "rise": {
   "autolaunch": true,
   "enable_chalkboard": true,
   "overlay": "<div class='my-top-right'><img height=80px src='http://d2l.ai/_static/logo-with-text.png'/></div><div class='my-top-left'></div>",
   "scroll": true
  }
 },
 "nbformat": 4,
 "nbformat_minor": 5
}