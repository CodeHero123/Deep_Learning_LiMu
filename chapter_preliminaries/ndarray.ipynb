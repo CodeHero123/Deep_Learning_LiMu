{
 "cells": [
  {
   "cell_type": "markdown",
   "id": "3f5b9c99",
   "metadata": {
    "slideshow": {
     "slide_type": "-"
    }
   },
   "source": [
    "# 数据操作\n",
    "\n"
   ]
  },
  {
   "cell_type": "markdown",
   "id": "6fbc3c41",
   "metadata": {
    "slideshow": {
     "slide_type": "-"
    }
   },
   "source": [
    "首先，我们导入`torch`。请注意，虽然它被称为PyTorch，但是代码中使用`torch`而不是`pytorch`"
   ]
  },
  {
   "cell_type": "code",
   "execution_count": 1,
   "id": "7c447bc8",
   "metadata": {
    "execution": {
     "iopub.execute_input": "2022-12-05T07:47:59.185599Z",
     "iopub.status.busy": "2022-12-05T07:47:59.185011Z",
     "iopub.status.idle": "2022-12-05T07:48:00.282119Z",
     "shell.execute_reply": "2022-12-05T07:48:00.281044Z"
    },
    "origin_pos": 5,
    "tab": [
     "pytorch"
    ]
   },
   "outputs": [],
   "source": [
    "import torch"
   ]
  },
  {
   "cell_type": "markdown",
   "id": "8ac4a05e",
   "metadata": {
    "slideshow": {
     "slide_type": "slide"
    }
   },
   "source": [
    "张量表示一个由数值组成的数组，这个数组可能有多个维度"
   ]
  },
  {
   "cell_type": "code",
   "execution_count": 2,
   "id": "da8bdb4a",
   "metadata": {
    "execution": {
     "iopub.execute_input": "2022-12-05T07:48:00.286290Z",
     "iopub.status.busy": "2022-12-05T07:48:00.285724Z",
     "iopub.status.idle": "2022-12-05T07:48:00.298673Z",
     "shell.execute_reply": "2022-12-05T07:48:00.297700Z"
    },
    "origin_pos": 13,
    "tab": [
     "pytorch"
    ]
   },
   "outputs": [
    {
     "data": {
      "text/plain": [
       "tensor([ 0,  1,  2,  3,  4,  5,  6,  7,  8,  9, 10, 11])"
      ]
     },
     "execution_count": 2,
     "metadata": {},
     "output_type": "execute_result"
    }
   ],
   "source": [
    "x = torch.arange(12)\n",
    "x"
   ]
  },
  {
   "cell_type": "markdown",
   "id": "f6a7cbc1",
   "metadata": {
    "slideshow": {
     "slide_type": "slide"
    }
   },
   "source": [
    "可以通过张量的`shape`属性来访问张量（沿每个轴的长度）的*形状*\n",
    "和张量中元素的总数"
   ]
  },
  {
   "cell_type": "code",
   "execution_count": 3,
   "id": "27b0dfda",
   "metadata": {
    "execution": {
     "iopub.execute_input": "2022-12-05T07:48:00.302372Z",
     "iopub.status.busy": "2022-12-05T07:48:00.301619Z",
     "iopub.status.idle": "2022-12-05T07:48:00.307522Z",
     "shell.execute_reply": "2022-12-05T07:48:00.306473Z"
    },
    "origin_pos": 17,
    "tab": [
     "pytorch"
    ]
   },
   "outputs": [
    {
     "data": {
      "text/plain": [
       "torch.Size([12])"
      ]
     },
     "execution_count": 3,
     "metadata": {},
     "output_type": "execute_result"
    }
   ],
   "source": [
    "x.shape"
   ]
  },
  {
   "cell_type": "code",
   "execution_count": 4,
   "id": "42ccd982",
   "metadata": {
    "execution": {
     "iopub.execute_input": "2022-12-05T07:48:00.311292Z",
     "iopub.status.busy": "2022-12-05T07:48:00.310481Z",
     "iopub.status.idle": "2022-12-05T07:48:00.316244Z",
     "shell.execute_reply": "2022-12-05T07:48:00.315286Z"
    },
    "origin_pos": 20,
    "tab": [
     "pytorch"
    ]
   },
   "outputs": [
    {
     "data": {
      "text/plain": [
       "12"
      ]
     },
     "execution_count": 4,
     "metadata": {},
     "output_type": "execute_result"
    }
   ],
   "source": [
    "x.numel()"
   ]
  },
  {
   "cell_type": "markdown",
   "id": "aae6b364",
   "metadata": {
    "slideshow": {
     "slide_type": "slide"
    }
   },
   "source": [
    "要想改变一个张量的形状而不改变元素数量和元素值，可以调用`reshape`函数"
   ]
  },
  {
   "cell_type": "code",
   "execution_count": 5,
   "id": "aa3ef4a8",
   "metadata": {
    "execution": {
     "iopub.execute_input": "2022-12-05T07:48:00.319698Z",
     "iopub.status.busy": "2022-12-05T07:48:00.319210Z",
     "iopub.status.idle": "2022-12-05T07:48:00.326626Z",
     "shell.execute_reply": "2022-12-05T07:48:00.325683Z"
    },
    "origin_pos": 24,
    "tab": [
     "pytorch"
    ]
   },
   "outputs": [
    {
     "data": {
      "text/plain": [
       "tensor([[ 0,  1,  2,  3],\n",
       "        [ 4,  5,  6,  7],\n",
       "        [ 8,  9, 10, 11]])"
      ]
     },
     "execution_count": 5,
     "metadata": {},
     "output_type": "execute_result"
    }
   ],
   "source": [
    "X = x.reshape(3, 4)\n",
    "X"
   ]
  },
  {
   "cell_type": "markdown",
   "id": "3ecb9027",
   "metadata": {
    "slideshow": {
     "slide_type": "slide"
    }
   },
   "source": [
    "使用全0、全1、其他常量，或者从特定分布中随机采样的数字"
   ]
  },
  {
   "cell_type": "code",
   "execution_count": 6,
   "id": "fb936107",
   "metadata": {
    "execution": {
     "iopub.execute_input": "2022-12-05T07:48:00.330220Z",
     "iopub.status.busy": "2022-12-05T07:48:00.329523Z",
     "iopub.status.idle": "2022-12-05T07:48:00.336378Z",
     "shell.execute_reply": "2022-12-05T07:48:00.335415Z"
    },
    "origin_pos": 29,
    "tab": [
     "pytorch"
    ]
   },
   "outputs": [
    {
     "data": {
      "text/plain": [
       "tensor([[[0., 0., 0., 0.],\n",
       "         [0., 0., 0., 0.],\n",
       "         [0., 0., 0., 0.]],\n",
       "\n",
       "        [[0., 0., 0., 0.],\n",
       "         [0., 0., 0., 0.],\n",
       "         [0., 0., 0., 0.]]])"
      ]
     },
     "execution_count": 6,
     "metadata": {},
     "output_type": "execute_result"
    }
   ],
   "source": [
    "torch.zeros((2, 3, 4))"
   ]
  },
  {
   "cell_type": "code",
   "execution_count": 7,
   "id": "8e57c27b",
   "metadata": {
    "execution": {
     "iopub.execute_input": "2022-12-05T07:48:00.339735Z",
     "iopub.status.busy": "2022-12-05T07:48:00.339222Z",
     "iopub.status.idle": "2022-12-05T07:48:00.346473Z",
     "shell.execute_reply": "2022-12-05T07:48:00.345473Z"
    },
    "origin_pos": 34,
    "tab": [
     "pytorch"
    ]
   },
   "outputs": [
    {
     "data": {
      "text/plain": [
       "tensor([[[1., 1., 1., 1.],\n",
       "         [1., 1., 1., 1.],\n",
       "         [1., 1., 1., 1.]],\n",
       "\n",
       "        [[1., 1., 1., 1.],\n",
       "         [1., 1., 1., 1.],\n",
       "         [1., 1., 1., 1.]]])"
      ]
     },
     "execution_count": 7,
     "metadata": {},
     "output_type": "execute_result"
    }
   ],
   "source": [
    "torch.ones((2, 3, 4))"
   ]
  },
  {
   "cell_type": "code",
   "execution_count": 8,
   "id": "d1c401ce",
   "metadata": {
    "execution": {
     "iopub.execute_input": "2022-12-05T07:48:00.349979Z",
     "iopub.status.busy": "2022-12-05T07:48:00.349447Z",
     "iopub.status.idle": "2022-12-05T07:48:00.356157Z",
     "shell.execute_reply": "2022-12-05T07:48:00.355197Z"
    },
    "origin_pos": 39,
    "tab": [
     "pytorch"
    ]
   },
   "outputs": [
    {
     "data": {
      "text/plain": [
       "tensor([[ 1.8419,  0.1028,  1.1092,  1.1708],\n",
       "        [-0.0241,  1.0337,  0.9227, -0.7062],\n",
       "        [ 1.8193, -0.3594, -0.8858, -0.4080]])"
      ]
     },
     "execution_count": 8,
     "metadata": {},
     "output_type": "execute_result"
    }
   ],
   "source": [
    "torch.randn(3, 4)"
   ]
  },
  {
   "cell_type": "markdown",
   "id": "4d08e6c0",
   "metadata": {
    "slideshow": {
     "slide_type": "slide"
    }
   },
   "source": [
    "通过提供包含数值的Python列表（或嵌套列表），来为所需张量中的每个元素赋予确定值"
   ]
  },
  {
   "cell_type": "code",
   "execution_count": 9,
   "id": "3f7000f8",
   "metadata": {
    "execution": {
     "iopub.execute_input": "2022-12-05T07:48:00.359816Z",
     "iopub.status.busy": "2022-12-05T07:48:00.359100Z",
     "iopub.status.idle": "2022-12-05T07:48:00.366053Z",
     "shell.execute_reply": "2022-12-05T07:48:00.365083Z"
    },
    "origin_pos": 44,
    "tab": [
     "pytorch"
    ]
   },
   "outputs": [
    {
     "data": {
      "text/plain": [
       "tensor([[2, 1, 4, 3],\n",
       "        [1, 2, 3, 4],\n",
       "        [4, 3, 2, 1]])"
      ]
     },
     "execution_count": 9,
     "metadata": {},
     "output_type": "execute_result"
    }
   ],
   "source": [
    "torch.tensor([[2, 1, 4, 3], [1, 2, 3, 4], [4, 3, 2, 1]])"
   ]
  },
  {
   "cell_type": "markdown",
   "id": "82f3c30b",
   "metadata": {
    "slideshow": {
     "slide_type": "slide"
    }
   },
   "source": [
    "常见的标准算术运算符（`+`、`-`、`*`、`/`和`**`）都可以被升级为按元素运算"
   ]
  },
  {
   "cell_type": "code",
   "execution_count": 10,
   "id": "fe9f2883",
   "metadata": {
    "execution": {
     "iopub.execute_input": "2022-12-05T07:48:00.369529Z",
     "iopub.status.busy": "2022-12-05T07:48:00.369013Z",
     "iopub.status.idle": "2022-12-05T07:48:00.378606Z",
     "shell.execute_reply": "2022-12-05T07:48:00.377516Z"
    },
    "origin_pos": 49,
    "tab": [
     "pytorch"
    ]
   },
   "outputs": [
    {
     "data": {
      "text/plain": [
       "(tensor([ 3.,  4.,  6., 10.]),\n",
       " tensor([-1.,  0.,  2.,  6.]),\n",
       " tensor([ 2.,  4.,  8., 16.]),\n",
       " tensor([0.5000, 1.0000, 2.0000, 4.0000]),\n",
       " tensor([ 1.,  4., 16., 64.]))"
      ]
     },
     "execution_count": 10,
     "metadata": {},
     "output_type": "execute_result"
    }
   ],
   "source": [
    "x = torch.tensor([1.0, 2, 4, 8])\n",
    "y = torch.tensor([2, 2, 2, 2])\n",
    "x + y, x - y, x * y, x / y, x ** y"
   ]
  },
  {
   "cell_type": "markdown",
   "id": "5dcf388a",
   "metadata": {
    "slideshow": {
     "slide_type": "-"
    }
   },
   "source": [
    "“按元素”方式可以应用更多的计算"
   ]
  },
  {
   "cell_type": "code",
   "execution_count": 11,
   "id": "12d56f8e",
   "metadata": {
    "execution": {
     "iopub.execute_input": "2022-12-05T07:48:00.383778Z",
     "iopub.status.busy": "2022-12-05T07:48:00.383227Z",
     "iopub.status.idle": "2022-12-05T07:48:00.390188Z",
     "shell.execute_reply": "2022-12-05T07:48:00.389198Z"
    },
    "origin_pos": 54,
    "tab": [
     "pytorch"
    ]
   },
   "outputs": [
    {
     "data": {
      "text/plain": [
       "tensor([2.7183e+00, 7.3891e+00, 5.4598e+01, 2.9810e+03])"
      ]
     },
     "execution_count": 11,
     "metadata": {},
     "output_type": "execute_result"
    }
   ],
   "source": [
    "torch.exp(x)"
   ]
  },
  {
   "cell_type": "markdown",
   "id": "9cf4094b",
   "metadata": {
    "slideshow": {
     "slide_type": "slide"
    }
   },
   "source": [
    "我们也可以把多个张量*连结*（concatenate）在一起"
   ]
  },
  {
   "cell_type": "code",
   "execution_count": 12,
   "id": "7d8cf5ac",
   "metadata": {
    "execution": {
     "iopub.execute_input": "2022-12-05T07:48:00.393790Z",
     "iopub.status.busy": "2022-12-05T07:48:00.393115Z",
     "iopub.status.idle": "2022-12-05T07:48:00.402346Z",
     "shell.execute_reply": "2022-12-05T07:48:00.401333Z"
    },
    "origin_pos": 59,
    "tab": [
     "pytorch"
    ]
   },
   "outputs": [
    {
     "data": {
      "text/plain": [
       "(tensor([[ 0.,  1.,  2.,  3.],\n",
       "         [ 4.,  5.,  6.,  7.],\n",
       "         [ 8.,  9., 10., 11.],\n",
       "         [ 2.,  1.,  4.,  3.],\n",
       "         [ 1.,  2.,  3.,  4.],\n",
       "         [ 4.,  3.,  2.,  1.]]),\n",
       " tensor([[ 0.,  1.,  2.,  3.,  2.,  1.,  4.,  3.],\n",
       "         [ 4.,  5.,  6.,  7.,  1.,  2.,  3.,  4.],\n",
       "         [ 8.,  9., 10., 11.,  4.,  3.,  2.,  1.]]))"
      ]
     },
     "execution_count": 12,
     "metadata": {},
     "output_type": "execute_result"
    }
   ],
   "source": [
    "X = torch.arange(12, dtype=torch.float32).reshape((3,4))\n",
    "Y = torch.tensor([[2.0, 1, 4, 3], [1, 2, 3, 4], [4, 3, 2, 1]])\n",
    "torch.cat((X, Y), dim=0), torch.cat((X, Y), dim=1)"
   ]
  },
  {
   "cell_type": "markdown",
   "id": "b90fdc7d",
   "metadata": {
    "slideshow": {
     "slide_type": "slide"
    }
   },
   "source": [
    "通过*逻辑运算符*构建二元张量"
   ]
  },
  {
   "cell_type": "code",
   "execution_count": 13,
   "id": "3b0bc4b9",
   "metadata": {
    "execution": {
     "iopub.execute_input": "2022-12-05T07:48:00.406975Z",
     "iopub.status.busy": "2022-12-05T07:48:00.406443Z",
     "iopub.status.idle": "2022-12-05T07:48:00.412739Z",
     "shell.execute_reply": "2022-12-05T07:48:00.411718Z"
    },
    "origin_pos": 63,
    "tab": [
     "pytorch"
    ]
   },
   "outputs": [
    {
     "data": {
      "text/plain": [
       "tensor([[False,  True, False,  True],\n",
       "        [False, False, False, False],\n",
       "        [False, False, False, False]])"
      ]
     },
     "execution_count": 13,
     "metadata": {},
     "output_type": "execute_result"
    }
   ],
   "source": [
    "X == Y"
   ]
  },
  {
   "cell_type": "markdown",
   "id": "fcac70df",
   "metadata": {
    "slideshow": {
     "slide_type": "slide"
    }
   },
   "source": [
    "对张量中的所有元素进行求和，会产生一个单元素张量"
   ]
  },
  {
   "cell_type": "code",
   "execution_count": 14,
   "id": "136fd8ce",
   "metadata": {
    "execution": {
     "iopub.execute_input": "2022-12-05T07:48:00.417282Z",
     "iopub.status.busy": "2022-12-05T07:48:00.416869Z",
     "iopub.status.idle": "2022-12-05T07:48:00.423550Z",
     "shell.execute_reply": "2022-12-05T07:48:00.422533Z"
    },
    "origin_pos": 65,
    "tab": [
     "pytorch"
    ]
   },
   "outputs": [
    {
     "data": {
      "text/plain": [
       "tensor(66.)"
      ]
     },
     "execution_count": 14,
     "metadata": {},
     "output_type": "execute_result"
    }
   ],
   "source": [
    "X.sum()"
   ]
  },
  {
   "cell_type": "markdown",
   "id": "2133da27",
   "metadata": {
    "slideshow": {
     "slide_type": "slide"
    }
   },
   "source": [
    "即使形状不同，我们仍然可以通过调用\n",
    "*广播机制*（broadcasting mechanism）来执行按元素操作"
   ]
  },
  {
   "cell_type": "code",
   "execution_count": 15,
   "id": "bd296d57",
   "metadata": {
    "execution": {
     "iopub.execute_input": "2022-12-05T07:48:00.426809Z",
     "iopub.status.busy": "2022-12-05T07:48:00.426396Z",
     "iopub.status.idle": "2022-12-05T07:48:00.433176Z",
     "shell.execute_reply": "2022-12-05T07:48:00.432402Z"
    },
    "origin_pos": 69,
    "tab": [
     "pytorch"
    ]
   },
   "outputs": [
    {
     "data": {
      "text/plain": [
       "(tensor([[0],\n",
       "         [1],\n",
       "         [2]]),\n",
       " tensor([[0, 1]]))"
      ]
     },
     "execution_count": 15,
     "metadata": {},
     "output_type": "execute_result"
    }
   ],
   "source": [
    "a = torch.arange(3).reshape((3, 1))\n",
    "b = torch.arange(2).reshape((1, 2))\n",
    "a, b"
   ]
  },
  {
   "cell_type": "code",
   "execution_count": 16,
   "id": "ef048816",
   "metadata": {
    "execution": {
     "iopub.execute_input": "2022-12-05T07:48:00.438006Z",
     "iopub.status.busy": "2022-12-05T07:48:00.437393Z",
     "iopub.status.idle": "2022-12-05T07:48:00.442667Z",
     "shell.execute_reply": "2022-12-05T07:48:00.441893Z"
    },
    "origin_pos": 73,
    "tab": [
     "pytorch"
    ]
   },
   "outputs": [
    {
     "data": {
      "text/plain": [
       "tensor([[0, 1],\n",
       "        [1, 2],\n",
       "        [2, 3]])"
      ]
     },
     "execution_count": 16,
     "metadata": {},
     "output_type": "execute_result"
    }
   ],
   "source": [
    "a + b"
   ]
  },
  {
   "cell_type": "markdown",
   "id": "1451f5e5",
   "metadata": {
    "slideshow": {
     "slide_type": "slide"
    }
   },
   "source": [
    "可以用`[-1]`选择最后一个元素，可以用`[1:3]`选择第二个和第三个元素"
   ]
  },
  {
   "cell_type": "code",
   "execution_count": 17,
   "id": "cf317ee9",
   "metadata": {
    "execution": {
     "iopub.execute_input": "2022-12-05T07:48:00.446012Z",
     "iopub.status.busy": "2022-12-05T07:48:00.445403Z",
     "iopub.status.idle": "2022-12-05T07:48:00.451415Z",
     "shell.execute_reply": "2022-12-05T07:48:00.450632Z"
    },
    "origin_pos": 75,
    "tab": [
     "pytorch"
    ]
   },
   "outputs": [
    {
     "data": {
      "text/plain": [
       "(tensor([ 8.,  9., 10., 11.]),\n",
       " tensor([[ 4.,  5.,  6.,  7.],\n",
       "         [ 8.,  9., 10., 11.]]))"
      ]
     },
     "execution_count": 17,
     "metadata": {},
     "output_type": "execute_result"
    }
   ],
   "source": [
    "X[-1], X[1:3]"
   ]
  },
  {
   "cell_type": "markdown",
   "id": "1616fb3f",
   "metadata": {
    "slideshow": {
     "slide_type": "slide"
    }
   },
   "source": [
    "除读取外，我们还可以通过指定索引来将元素写入矩阵"
   ]
  },
  {
   "cell_type": "code",
   "execution_count": 18,
   "id": "a078b7dd",
   "metadata": {
    "execution": {
     "iopub.execute_input": "2022-12-05T07:48:00.456161Z",
     "iopub.status.busy": "2022-12-05T07:48:00.455550Z",
     "iopub.status.idle": "2022-12-05T07:48:00.461192Z",
     "shell.execute_reply": "2022-12-05T07:48:00.460392Z"
    },
    "origin_pos": 78,
    "tab": [
     "pytorch"
    ]
   },
   "outputs": [
    {
     "data": {
      "text/plain": [
       "tensor([[ 0.,  1.,  2.,  3.],\n",
       "        [ 4.,  5.,  9.,  7.],\n",
       "        [ 8.,  9., 10., 11.]])"
      ]
     },
     "execution_count": 18,
     "metadata": {},
     "output_type": "execute_result"
    }
   ],
   "source": [
    "X[1, 2] = 9\n",
    "X"
   ]
  },
  {
   "cell_type": "markdown",
   "id": "1b4e63fe",
   "metadata": {
    "slideshow": {
     "slide_type": "slide"
    }
   },
   "source": [
    "为多个元素赋值相同的值，我们只需要索引所有元素，然后为它们赋值"
   ]
  },
  {
   "cell_type": "code",
   "execution_count": 19,
   "id": "4ba22673",
   "metadata": {
    "execution": {
     "iopub.execute_input": "2022-12-05T07:48:00.464445Z",
     "iopub.status.busy": "2022-12-05T07:48:00.463945Z",
     "iopub.status.idle": "2022-12-05T07:48:00.469569Z",
     "shell.execute_reply": "2022-12-05T07:48:00.468812Z"
    },
    "origin_pos": 81,
    "tab": [
     "pytorch"
    ]
   },
   "outputs": [
    {
     "data": {
      "text/plain": [
       "tensor([[12., 12., 12., 12.],\n",
       "        [12., 12., 12., 12.],\n",
       "        [ 8.,  9., 10., 11.]])"
      ]
     },
     "execution_count": 19,
     "metadata": {},
     "output_type": "execute_result"
    }
   ],
   "source": [
    "X[0:2, :] = 12\n",
    "X"
   ]
  },
  {
   "cell_type": "markdown",
   "id": "7d556a7e",
   "metadata": {
    "slideshow": {
     "slide_type": "slide"
    }
   },
   "source": [
    "运行一些操作可能会导致为新结果分配内存"
   ]
  },
  {
   "cell_type": "code",
   "execution_count": 20,
   "id": "9b3fba65",
   "metadata": {
    "execution": {
     "iopub.execute_input": "2022-12-05T07:48:00.474206Z",
     "iopub.status.busy": "2022-12-05T07:48:00.473702Z",
     "iopub.status.idle": "2022-12-05T07:48:00.479069Z",
     "shell.execute_reply": "2022-12-05T07:48:00.478174Z"
    },
    "origin_pos": 84,
    "tab": [
     "pytorch"
    ]
   },
   "outputs": [
    {
     "data": {
      "text/plain": [
       "False"
      ]
     },
     "execution_count": 20,
     "metadata": {},
     "output_type": "execute_result"
    }
   ],
   "source": [
    "before = id(Y)\n",
    "Y = Y + X\n",
    "id(Y) == before"
   ]
  },
  {
   "cell_type": "markdown",
   "id": "a03d3e04",
   "metadata": {
    "slideshow": {
     "slide_type": "-"
    }
   },
   "source": [
    "执行原地操作"
   ]
  },
  {
   "cell_type": "code",
   "execution_count": 21,
   "id": "414bae14",
   "metadata": {
    "execution": {
     "iopub.execute_input": "2022-12-05T07:48:00.483139Z",
     "iopub.status.busy": "2022-12-05T07:48:00.482483Z",
     "iopub.status.idle": "2022-12-05T07:48:00.488120Z",
     "shell.execute_reply": "2022-12-05T07:48:00.487318Z"
    },
    "origin_pos": 89,
    "tab": [
     "pytorch"
    ]
   },
   "outputs": [
    {
     "name": "stdout",
     "output_type": "stream",
     "text": [
      "id(Z): 140071853421968\n",
      "id(Z): 140071853421968\n"
     ]
    }
   ],
   "source": [
    "Z = torch.zeros_like(Y)\n",
    "print('id(Z):', id(Z))\n",
    "Z[:] = X + Y\n",
    "print('id(Z):', id(Z))"
   ]
  },
  {
   "cell_type": "markdown",
   "id": "451f49c7",
   "metadata": {
    "slideshow": {
     "slide_type": "slide"
    }
   },
   "source": [
    "如果在后续计算中没有重复使用`X`，\n",
    "我们也可以使用`X[:] = X + Y`或`X += Y`来减少操作的内存开销"
   ]
  },
  {
   "cell_type": "code",
   "execution_count": 22,
   "id": "08d81963",
   "metadata": {
    "execution": {
     "iopub.execute_input": "2022-12-05T07:48:00.491536Z",
     "iopub.status.busy": "2022-12-05T07:48:00.491013Z",
     "iopub.status.idle": "2022-12-05T07:48:00.496270Z",
     "shell.execute_reply": "2022-12-05T07:48:00.495532Z"
    },
    "origin_pos": 94,
    "tab": [
     "pytorch"
    ]
   },
   "outputs": [
    {
     "data": {
      "text/plain": [
       "True"
      ]
     },
     "execution_count": 22,
     "metadata": {},
     "output_type": "execute_result"
    }
   ],
   "source": [
    "before = id(X)\n",
    "X += Y\n",
    "id(X) == before"
   ]
  },
  {
   "cell_type": "markdown",
   "id": "dcdd3f9e",
   "metadata": {
    "slideshow": {
     "slide_type": "slide"
    }
   },
   "source": [
    "转换为NumPy张量（`ndarray`）"
   ]
  },
  {
   "cell_type": "code",
   "execution_count": 23,
   "id": "4ee8bb34",
   "metadata": {
    "execution": {
     "iopub.execute_input": "2022-12-05T07:48:00.499844Z",
     "iopub.status.busy": "2022-12-05T07:48:00.499154Z",
     "iopub.status.idle": "2022-12-05T07:48:00.504594Z",
     "shell.execute_reply": "2022-12-05T07:48:00.503845Z"
    },
    "origin_pos": 100,
    "tab": [
     "pytorch"
    ]
   },
   "outputs": [
    {
     "data": {
      "text/plain": [
       "(numpy.ndarray, torch.Tensor)"
      ]
     },
     "execution_count": 23,
     "metadata": {},
     "output_type": "execute_result"
    }
   ],
   "source": [
    "A = X.numpy()\n",
    "B = torch.tensor(A)\n",
    "type(A), type(B)"
   ]
  },
  {
   "cell_type": "markdown",
   "id": "f31d50fb",
   "metadata": {
    "slideshow": {
     "slide_type": "-"
    }
   },
   "source": [
    "将大小为1的张量转换为Python标量"
   ]
  },
  {
   "cell_type": "code",
   "execution_count": 24,
   "id": "b5c0bb66",
   "metadata": {
    "execution": {
     "iopub.execute_input": "2022-12-05T07:48:00.507879Z",
     "iopub.status.busy": "2022-12-05T07:48:00.507375Z",
     "iopub.status.idle": "2022-12-05T07:48:00.513366Z",
     "shell.execute_reply": "2022-12-05T07:48:00.512614Z"
    },
    "origin_pos": 105,
    "tab": [
     "pytorch"
    ]
   },
   "outputs": [
    {
     "data": {
      "text/plain": [
       "(tensor([3.5000]), 3.5, 3.5, 3)"
      ]
     },
     "execution_count": 24,
     "metadata": {},
     "output_type": "execute_result"
    }
   ],
   "source": [
    "a = torch.tensor([3.5])\n",
    "a, a.item(), float(a), int(a)"
   ]
  }
 ],
 "metadata": {
  "celltoolbar": "Slideshow",
  "language_info": {
   "name": "python"
  },
  "rise": {
   "autolaunch": true,
   "enable_chalkboard": true,
   "overlay": "<div class='my-top-right'><img height=80px src='http://d2l.ai/_static/logo-with-text.png'/></div><div class='my-top-left'></div>",
   "scroll": true
  }
 },
 "nbformat": 4,
 "nbformat_minor": 5
}