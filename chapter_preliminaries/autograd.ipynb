{
 "cells": [
  {
   "cell_type": "markdown",
   "id": "131589d7",
   "metadata": {
    "slideshow": {
     "slide_type": "-"
    }
   },
   "source": [
    "# 自动微分\n",
    "\n",
    "假设我们想对函数$y=2\\mathbf{x}^{\\top}\\mathbf{x}$关于列向量$\\mathbf{x}$求导"
   ]
  },
  {
   "cell_type": "code",
   "execution_count": 1,
   "id": "4f73faf6",
   "metadata": {
    "execution": {
     "iopub.execute_input": "2022-12-05T07:47:33.038143Z",
     "iopub.status.busy": "2022-12-05T07:47:33.037493Z",
     "iopub.status.idle": "2022-12-05T07:47:34.114672Z",
     "shell.execute_reply": "2022-12-05T07:47:34.113885Z"
    },
    "origin_pos": 2,
    "tab": [
     "pytorch"
    ]
   },
   "outputs": [
    {
     "data": {
      "text/plain": [
       "tensor([0., 1., 2., 3.])"
      ]
     },
     "execution_count": 1,
     "metadata": {},
     "output_type": "execute_result"
    }
   ],
   "source": [
    "import torch\n",
    "\n",
    "x = torch.arange(4.0)\n",
    "x"
   ]
  },
  {
   "cell_type": "markdown",
   "id": "38a11e0b",
   "metadata": {
    "slideshow": {
     "slide_type": "slide"
    }
   },
   "source": [
    "在我们计算$y$关于$\\mathbf{x}$的梯度之前，需要一个地方来存储梯度"
   ]
  },
  {
   "cell_type": "code",
   "execution_count": 2,
   "id": "a509ced0",
   "metadata": {
    "execution": {
     "iopub.execute_input": "2022-12-05T07:47:34.118299Z",
     "iopub.status.busy": "2022-12-05T07:47:34.117793Z",
     "iopub.status.idle": "2022-12-05T07:47:34.121759Z",
     "shell.execute_reply": "2022-12-05T07:47:34.121055Z"
    },
    "origin_pos": 7,
    "tab": [
     "pytorch"
    ]
   },
   "outputs": [],
   "source": [
    "x.requires_grad_(True)\n",
    "x.grad"
   ]
  },
  {
   "cell_type": "markdown",
   "id": "cfee51fb",
   "metadata": {
    "slideshow": {
     "slide_type": "-"
    }
   },
   "source": [
    "现在计算$y$"
   ]
  },
  {
   "cell_type": "code",
   "execution_count": 3,
   "id": "4a9932f4",
   "metadata": {
    "execution": {
     "iopub.execute_input": "2022-12-05T07:47:34.124813Z",
     "iopub.status.busy": "2022-12-05T07:47:34.124412Z",
     "iopub.status.idle": "2022-12-05T07:47:34.129980Z",
     "shell.execute_reply": "2022-12-05T07:47:34.129269Z"
    },
    "origin_pos": 12,
    "tab": [
     "pytorch"
    ]
   },
   "outputs": [
    {
     "data": {
      "text/plain": [
       "tensor(28., grad_fn=<MulBackward0>)"
      ]
     },
     "execution_count": 3,
     "metadata": {},
     "output_type": "execute_result"
    }
   ],
   "source": [
    "y = 2 * torch.dot(x, x)\n",
    "y"
   ]
  },
  {
   "cell_type": "markdown",
   "id": "216b4d76",
   "metadata": {
    "slideshow": {
     "slide_type": "slide"
    }
   },
   "source": [
    "通过调用反向传播函数来自动计算`y`关于`x`每个分量的梯度"
   ]
  },
  {
   "cell_type": "code",
   "execution_count": 4,
   "id": "7d8bd1ae",
   "metadata": {
    "execution": {
     "iopub.execute_input": "2022-12-05T07:47:34.133148Z",
     "iopub.status.busy": "2022-12-05T07:47:34.132745Z",
     "iopub.status.idle": "2022-12-05T07:47:34.138311Z",
     "shell.execute_reply": "2022-12-05T07:47:34.137598Z"
    },
    "origin_pos": 17,
    "tab": [
     "pytorch"
    ]
   },
   "outputs": [
    {
     "data": {
      "text/plain": [
       "tensor([ 0.,  4.,  8., 12.])"
      ]
     },
     "execution_count": 4,
     "metadata": {},
     "output_type": "execute_result"
    }
   ],
   "source": [
    "y.backward()\n",
    "x.grad"
   ]
  },
  {
   "cell_type": "code",
   "execution_count": 5,
   "id": "77935f6f",
   "metadata": {
    "execution": {
     "iopub.execute_input": "2022-12-05T07:47:34.141534Z",
     "iopub.status.busy": "2022-12-05T07:47:34.140913Z",
     "iopub.status.idle": "2022-12-05T07:47:34.147499Z",
     "shell.execute_reply": "2022-12-05T07:47:34.146771Z"
    },
    "origin_pos": 22,
    "tab": [
     "pytorch"
    ]
   },
   "outputs": [
    {
     "data": {
      "text/plain": [
       "tensor([True, True, True, True])"
      ]
     },
     "execution_count": 5,
     "metadata": {},
     "output_type": "execute_result"
    }
   ],
   "source": [
    "x.grad == 4 * x"
   ]
  },
  {
   "cell_type": "markdown",
   "id": "7c720198",
   "metadata": {
    "slideshow": {
     "slide_type": "slide"
    }
   },
   "source": [
    "现在计算`x`的另一个函数"
   ]
  },
  {
   "cell_type": "code",
   "execution_count": 6,
   "id": "2cc1a4b9",
   "metadata": {
    "execution": {
     "iopub.execute_input": "2022-12-05T07:47:34.150761Z",
     "iopub.status.busy": "2022-12-05T07:47:34.150121Z",
     "iopub.status.idle": "2022-12-05T07:47:34.156065Z",
     "shell.execute_reply": "2022-12-05T07:47:34.155294Z"
    },
    "origin_pos": 27,
    "tab": [
     "pytorch"
    ]
   },
   "outputs": [
    {
     "data": {
      "text/plain": [
       "tensor([1., 1., 1., 1.])"
      ]
     },
     "execution_count": 6,
     "metadata": {},
     "output_type": "execute_result"
    }
   ],
   "source": [
    "x.grad.zero_()\n",
    "y = x.sum()\n",
    "y.backward()\n",
    "x.grad"
   ]
  },
  {
   "cell_type": "markdown",
   "id": "96194af6",
   "metadata": {
    "slideshow": {
     "slide_type": "slide"
    }
   },
   "source": [
    "深度学习中\n",
    "，我们的目的不是计算微分矩阵，而是单独计算批量中每个样本的偏导数之和"
   ]
  },
  {
   "cell_type": "code",
   "execution_count": 7,
   "id": "cdf43366",
   "metadata": {
    "execution": {
     "iopub.execute_input": "2022-12-05T07:47:34.159416Z",
     "iopub.status.busy": "2022-12-05T07:47:34.158762Z",
     "iopub.status.idle": "2022-12-05T07:47:34.164826Z",
     "shell.execute_reply": "2022-12-05T07:47:34.164087Z"
    },
    "origin_pos": 32,
    "tab": [
     "pytorch"
    ]
   },
   "outputs": [
    {
     "data": {
      "text/plain": [
       "tensor([0., 2., 4., 6.])"
      ]
     },
     "execution_count": 7,
     "metadata": {},
     "output_type": "execute_result"
    }
   ],
   "source": [
    "x.grad.zero_()\n",
    "y = x * x\n",
    "y.sum().backward()\n",
    "x.grad"
   ]
  },
  {
   "cell_type": "markdown",
   "id": "dfff9bd2",
   "metadata": {
    "slideshow": {
     "slide_type": "slide"
    }
   },
   "source": [
    "将某些计算移动到记录的计算图之外"
   ]
  },
  {
   "cell_type": "code",
   "execution_count": 8,
   "id": "cedd38ba",
   "metadata": {
    "execution": {
     "iopub.execute_input": "2022-12-05T07:47:34.168037Z",
     "iopub.status.busy": "2022-12-05T07:47:34.167486Z",
     "iopub.status.idle": "2022-12-05T07:47:34.173714Z",
     "shell.execute_reply": "2022-12-05T07:47:34.172977Z"
    },
    "origin_pos": 37,
    "tab": [
     "pytorch"
    ]
   },
   "outputs": [
    {
     "data": {
      "text/plain": [
       "tensor([True, True, True, True])"
      ]
     },
     "execution_count": 8,
     "metadata": {},
     "output_type": "execute_result"
    }
   ],
   "source": [
    "x.grad.zero_()\n",
    "y = x * x\n",
    "u = y.detach()\n",
    "z = u * x\n",
    "\n",
    "z.sum().backward()\n",
    "x.grad == u"
   ]
  },
  {
   "cell_type": "code",
   "execution_count": 9,
   "id": "3dc48137",
   "metadata": {
    "execution": {
     "iopub.execute_input": "2022-12-05T07:47:34.177036Z",
     "iopub.status.busy": "2022-12-05T07:47:34.176417Z",
     "iopub.status.idle": "2022-12-05T07:47:34.182018Z",
     "shell.execute_reply": "2022-12-05T07:47:34.181300Z"
    },
    "origin_pos": 42,
    "tab": [
     "pytorch"
    ]
   },
   "outputs": [
    {
     "data": {
      "text/plain": [
       "tensor([True, True, True, True])"
      ]
     },
     "execution_count": 9,
     "metadata": {},
     "output_type": "execute_result"
    }
   ],
   "source": [
    "x.grad.zero_()\n",
    "y.sum().backward()\n",
    "x.grad == 2 * x"
   ]
  },
  {
   "cell_type": "markdown",
   "id": "068d61c1",
   "metadata": {
    "slideshow": {
     "slide_type": "slide"
    }
   },
   "source": [
    "即使构建函数的计算图需要通过Python控制流（例如，条件、循环或任意函数调用），我们仍然可以计算得到的变量的梯度"
   ]
  },
  {
   "cell_type": "code",
   "execution_count": 12,
   "id": "260814e0",
   "metadata": {
    "execution": {
     "iopub.execute_input": "2022-12-05T07:47:34.201455Z",
     "iopub.status.busy": "2022-12-05T07:47:34.200802Z",
     "iopub.status.idle": "2022-12-05T07:47:34.206461Z",
     "shell.execute_reply": "2022-12-05T07:47:34.205716Z"
    },
    "origin_pos": 57,
    "tab": [
     "pytorch"
    ]
   },
   "outputs": [
    {
     "data": {
      "text/plain": [
       "tensor(True)"
      ]
     },
     "execution_count": 12,
     "metadata": {},
     "output_type": "execute_result"
    }
   ],
   "source": [
    "def f(a):\n",
    "    b = a * 2\n",
    "    while b.norm() < 1000:\n",
    "        b = b * 2\n",
    "    if b.sum() > 0:\n",
    "        c = b\n",
    "    else:\n",
    "        c = 100 * b\n",
    "    return c\n",
    "\n",
    "a = torch.randn(size=(), requires_grad=True)\n",
    "d = f(a)\n",
    "d.backward()\n",
    "\n",
    "a.grad == d / a"
   ]
  }
 ],
 "metadata": {
  "celltoolbar": "Slideshow",
  "language_info": {
   "name": "python"
  },
  "rise": {
   "autolaunch": true,
   "enable_chalkboard": true,
   "overlay": "<div class='my-top-right'><img height=80px src='http://d2l.ai/_static/logo-with-text.png'/></div><div class='my-top-left'></div>",
   "scroll": true
  }
 },
 "nbformat": 4,
 "nbformat_minor": 5
}