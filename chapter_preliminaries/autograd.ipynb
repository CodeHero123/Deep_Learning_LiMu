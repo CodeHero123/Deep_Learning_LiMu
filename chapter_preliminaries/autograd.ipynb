{
 "cells": [
  {
   "cell_type": "markdown",
   "id": "f875d8da",
   "metadata": {
    "slideshow": {
     "slide_type": "-"
    }
   },
   "source": [
    "# 自动微分\n",
    "\n",
    "假设我们想对函数$y=2\\mathbf{x}^{\\top}\\mathbf{x}$关于列向量$\\mathbf{x}$求导"
   ]
  },
  {
   "cell_type": "code",
   "execution_count": 1,
   "id": "6bc605e5",
   "metadata": {
    "execution": {
     "iopub.execute_input": "2023-08-14T18:56:02.907263Z",
     "iopub.status.busy": "2023-08-14T18:56:02.906857Z",
     "iopub.status.idle": "2023-08-14T18:56:04.597091Z",
     "shell.execute_reply": "2023-08-14T18:56:04.596105Z"
    },
    "origin_pos": 2,
    "tab": [
     "pytorch"
    ]
   },
   "outputs": [
    {
     "data": {
      "text/plain": [
       "tensor([0., 1., 2., 3.])"
      ]
     },
     "execution_count": 1,
     "metadata": {},
     "output_type": "execute_result"
    }
   ],
   "source": [
    "import torch\n",
    "\n",
    "x = torch.arange(4.0)\n",
    "x"
   ]
  },
  {
   "cell_type": "markdown",
   "id": "59d4f504",
   "metadata": {
    "slideshow": {
     "slide_type": "slide"
    }
   },
   "source": [
    "在我们计算$y$关于$\\mathbf{x}$的梯度之前，需要一个地方来存储梯度"
   ]
  },
  {
   "cell_type": "code",
   "execution_count": 2,
   "id": "c79364b8",
   "metadata": {
    "execution": {
     "iopub.execute_input": "2023-08-14T18:56:04.603545Z",
     "iopub.status.busy": "2023-08-14T18:56:04.602711Z",
     "iopub.status.idle": "2023-08-14T18:56:04.609710Z",
     "shell.execute_reply": "2023-08-14T18:56:04.608622Z"
    },
    "origin_pos": 7,
    "tab": [
     "pytorch"
    ]
   },
   "outputs": [],
   "source": [
    "x.requires_grad_(True)\n",
    "x.grad"
   ]
  },
  {
   "cell_type": "markdown",
   "id": "30dfb979",
   "metadata": {
    "slideshow": {
     "slide_type": "-"
    }
   },
   "source": [
    "现在计算$y$"
   ]
  },
  {
   "cell_type": "code",
   "execution_count": 3,
   "id": "cd32467c",
   "metadata": {
    "execution": {
     "iopub.execute_input": "2023-08-14T18:56:04.614770Z",
     "iopub.status.busy": "2023-08-14T18:56:04.614399Z",
     "iopub.status.idle": "2023-08-14T18:56:04.624963Z",
     "shell.execute_reply": "2023-08-14T18:56:04.624063Z"
    },
    "origin_pos": 12,
    "tab": [
     "pytorch"
    ]
   },
   "outputs": [
    {
     "data": {
      "text/plain": [
       "tensor(28., grad_fn=<MulBackward0>)"
      ]
     },
     "execution_count": 3,
     "metadata": {},
     "output_type": "execute_result"
    }
   ],
   "source": [
    "y = 2 * torch.dot(x, x)\n",
    "y"
   ]
  },
  {
   "cell_type": "markdown",
   "id": "e0ec359f",
   "metadata": {
    "slideshow": {
     "slide_type": "slide"
    }
   },
   "source": [
    "通过调用反向传播函数来自动计算`y`关于`x`每个分量的梯度"
   ]
  },
  {
   "cell_type": "code",
   "execution_count": 4,
   "id": "4466a8c6",
   "metadata": {
    "execution": {
     "iopub.execute_input": "2023-08-14T18:56:04.630190Z",
     "iopub.status.busy": "2023-08-14T18:56:04.629796Z",
     "iopub.status.idle": "2023-08-14T18:56:04.651721Z",
     "shell.execute_reply": "2023-08-14T18:56:04.650553Z"
    },
    "origin_pos": 17,
    "tab": [
     "pytorch"
    ]
   },
   "outputs": [
    {
     "data": {
      "text/plain": [
       "tensor([ 0.,  4.,  8., 12.])"
      ]
     },
     "execution_count": 4,
     "metadata": {},
     "output_type": "execute_result"
    }
   ],
   "source": [
    "y.backward()\n",
    "x.grad"
   ]
  },
  {
   "cell_type": "code",
   "execution_count": 5,
   "id": "462c9747",
   "metadata": {
    "execution": {
     "iopub.execute_input": "2023-08-14T18:56:04.656513Z",
     "iopub.status.busy": "2023-08-14T18:56:04.656012Z",
     "iopub.status.idle": "2023-08-14T18:56:04.663975Z",
     "shell.execute_reply": "2023-08-14T18:56:04.662721Z"
    },
    "origin_pos": 22,
    "tab": [
     "pytorch"
    ]
   },
   "outputs": [
    {
     "data": {
      "text/plain": [
       "tensor([True, True, True, True])"
      ]
     },
     "execution_count": 5,
     "metadata": {},
     "output_type": "execute_result"
    }
   ],
   "source": [
    "x.grad == 4 * x"
   ]
  },
  {
   "cell_type": "markdown",
   "id": "77d4839d",
   "metadata": {
    "slideshow": {
     "slide_type": "slide"
    }
   },
   "source": [
    "现在计算`x`的另一个函数"
   ]
  },
  {
   "cell_type": "code",
   "execution_count": 6,
   "id": "5162e5e8",
   "metadata": {
    "execution": {
     "iopub.execute_input": "2023-08-14T18:56:04.668947Z",
     "iopub.status.busy": "2023-08-14T18:56:04.668444Z",
     "iopub.status.idle": "2023-08-14T18:56:04.689032Z",
     "shell.execute_reply": "2023-08-14T18:56:04.688070Z"
    },
    "origin_pos": 27,
    "tab": [
     "pytorch"
    ]
   },
   "outputs": [
    {
     "data": {
      "text/plain": [
       "tensor([1., 1., 1., 1.])"
      ]
     },
     "execution_count": 6,
     "metadata": {},
     "output_type": "execute_result"
    }
   ],
   "source": [
    "x.grad.zero_()\n",
    "y = x.sum()\n",
    "y.backward()\n",
    "x.grad"
   ]
  },
  {
   "cell_type": "markdown",
   "id": "2a1ef798",
   "metadata": {
    "slideshow": {
     "slide_type": "slide"
    }
   },
   "source": [
    "深度学习中\n",
    "，我们的目的不是计算微分矩阵，而是单独计算批量中每个样本的偏导数之和"
   ]
  },
  {
   "cell_type": "code",
   "execution_count": 7,
   "id": "8d207a51",
   "metadata": {
    "execution": {
     "iopub.execute_input": "2023-08-14T18:56:04.694398Z",
     "iopub.status.busy": "2023-08-14T18:56:04.693673Z",
     "iopub.status.idle": "2023-08-14T18:56:04.710984Z",
     "shell.execute_reply": "2023-08-14T18:56:04.709832Z"
    },
    "origin_pos": 32,
    "tab": [
     "pytorch"
    ]
   },
   "outputs": [
    {
     "data": {
      "text/plain": [
       "tensor([0., 2., 4., 6.])"
      ]
     },
     "execution_count": 7,
     "metadata": {},
     "output_type": "execute_result"
    }
   ],
   "source": [
    "x.grad.zero_()\n",
    "y = x * x\n",
    "y.sum().backward()\n",
    "x.grad"
   ]
  },
  {
   "cell_type": "markdown",
   "id": "0146b19a",
   "metadata": {
    "slideshow": {
     "slide_type": "slide"
    }
   },
   "source": [
    "将某些计算移动到记录的计算图之外"
   ]
  },
  {
   "cell_type": "code",
   "execution_count": 8,
   "id": "32cf3789",
   "metadata": {
    "execution": {
     "iopub.execute_input": "2023-08-14T18:56:04.716847Z",
     "iopub.status.busy": "2023-08-14T18:56:04.716110Z",
     "iopub.status.idle": "2023-08-14T18:56:04.725587Z",
     "shell.execute_reply": "2023-08-14T18:56:04.724595Z"
    },
    "origin_pos": 37,
    "tab": [
     "pytorch"
    ]
   },
   "outputs": [
    {
     "data": {
      "text/plain": [
       "tensor([True, True, True, True])"
      ]
     },
     "execution_count": 8,
     "metadata": {},
     "output_type": "execute_result"
    }
   ],
   "source": [
    "x.grad.zero_()\n",
    "y = x * x\n",
    "u = y.detach()\n",
    "z = u * x\n",
    "\n",
    "z.sum().backward()\n",
    "x.grad == u"
   ]
  },
  {
   "cell_type": "code",
   "execution_count": 9,
   "id": "f2274d9f",
   "metadata": {
    "execution": {
     "iopub.execute_input": "2023-08-14T18:56:04.729501Z",
     "iopub.status.busy": "2023-08-14T18:56:04.729213Z",
     "iopub.status.idle": "2023-08-14T18:56:04.740313Z",
     "shell.execute_reply": "2023-08-14T18:56:04.739409Z"
    },
    "origin_pos": 42,
    "tab": [
     "pytorch"
    ]
   },
   "outputs": [
    {
     "data": {
      "text/plain": [
       "tensor([True, True, True, True])"
      ]
     },
     "execution_count": 9,
     "metadata": {},
     "output_type": "execute_result"
    }
   ],
   "source": [
    "x.grad.zero_()\n",
    "y.sum().backward()\n",
    "x.grad == 2 * x"
   ]
  },
  {
   "cell_type": "markdown",
   "id": "f80b563f",
   "metadata": {
    "slideshow": {
     "slide_type": "slide"
    }
   },
   "source": [
    "即使构建函数的计算图需要通过Python控制流（例如，条件、循环或任意函数调用），我们仍然可以计算得到的变量的梯度"
   ]
  },
  {
   "cell_type": "code",
   "execution_count": 12,
   "id": "ae2bea5d",
   "metadata": {
    "execution": {
     "iopub.execute_input": "2023-08-14T18:56:04.829027Z",
     "iopub.status.busy": "2023-08-14T18:56:04.828646Z",
     "iopub.status.idle": "2023-08-14T18:56:04.836140Z",
     "shell.execute_reply": "2023-08-14T18:56:04.834985Z"
    },
    "origin_pos": 57,
    "tab": [
     "pytorch"
    ]
   },
   "outputs": [
    {
     "data": {
      "text/plain": [
       "tensor(True)"
      ]
     },
     "execution_count": 12,
     "metadata": {},
     "output_type": "execute_result"
    }
   ],
   "source": [
    "def f(a):\n",
    "    b = a * 2\n",
    "    while b.norm() < 1000:\n",
    "        b = b * 2\n",
    "    if b.sum() > 0:\n",
    "        c = b\n",
    "    else:\n",
    "        c = 100 * b\n",
    "    return c\n",
    "\n",
    "a = torch.randn(size=(), requires_grad=True)\n",
    "d = f(a)\n",
    "d.backward()\n",
    "\n",
    "a.grad == d / a"
   ]
  }
 ],
 "metadata": {
  "celltoolbar": "Slideshow",
  "language_info": {
   "name": "python"
  },
  "required_libs": [],
  "rise": {
   "autolaunch": true,
   "enable_chalkboard": true,
   "overlay": "<div class='my-top-right'><img height=80px src='http://d2l.ai/_static/logo-with-text.png'/></div><div class='my-top-left'></div>",
   "scroll": true
  }
 },
 "nbformat": 4,
 "nbformat_minor": 5
}