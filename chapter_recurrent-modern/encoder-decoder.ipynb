{
 "cells": [
  {
   "cell_type": "markdown",
   "id": "1eade852",
   "metadata": {
    "slideshow": {
     "slide_type": "-"
    }
   },
   "source": [
    "# 编码器-解码器架构\n",
    "\n",
    "编码器"
   ]
  },
  {
   "cell_type": "code",
   "execution_count": 1,
   "id": "26f1469a",
   "metadata": {
    "execution": {
     "iopub.execute_input": "2023-08-14T18:55:08.887704Z",
     "iopub.status.busy": "2023-08-14T18:55:08.886793Z",
     "iopub.status.idle": "2023-08-14T18:55:10.251067Z",
     "shell.execute_reply": "2023-08-14T18:55:10.249761Z"
    },
    "origin_pos": 2,
    "tab": [
     "pytorch"
    ]
   },
   "outputs": [],
   "source": [
    "from torch import nn\n",
    "\n",
    "\n",
    "class Encoder(nn.Module):\n",
    "    \"\"\"编码器-解码器架构的基本编码器接口\"\"\"\n",
    "    def __init__(self, **kwargs):\n",
    "        super(Encoder, self).__init__(**kwargs)\n",
    "\n",
    "    def forward(self, X, *args):\n",
    "        raise NotImplementedError"
   ]
  },
  {
   "cell_type": "markdown",
   "id": "79ff036b",
   "metadata": {
    "slideshow": {
     "slide_type": "slide"
    }
   },
   "source": [
    "解码器"
   ]
  },
  {
   "cell_type": "code",
   "execution_count": 2,
   "id": "739c745c",
   "metadata": {
    "execution": {
     "iopub.execute_input": "2023-08-14T18:55:10.257016Z",
     "iopub.status.busy": "2023-08-14T18:55:10.256279Z",
     "iopub.status.idle": "2023-08-14T18:55:10.263149Z",
     "shell.execute_reply": "2023-08-14T18:55:10.262141Z"
    },
    "origin_pos": 7,
    "tab": [
     "pytorch"
    ]
   },
   "outputs": [],
   "source": [
    "class Decoder(nn.Module):\n",
    "    \"\"\"编码器-解码器架构的基本解码器接口\"\"\"\n",
    "    def __init__(self, **kwargs):\n",
    "        super(Decoder, self).__init__(**kwargs)\n",
    "\n",
    "    def init_state(self, enc_outputs, *args):\n",
    "        raise NotImplementedError\n",
    "\n",
    "    def forward(self, X, state):\n",
    "        raise NotImplementedError"
   ]
  },
  {
   "cell_type": "markdown",
   "id": "ea02ee8e",
   "metadata": {
    "slideshow": {
     "slide_type": "slide"
    }
   },
   "source": [
    "合并编码器和解码器"
   ]
  },
  {
   "cell_type": "code",
   "execution_count": 3,
   "id": "20c387f3",
   "metadata": {
    "execution": {
     "iopub.execute_input": "2023-08-14T18:55:10.267768Z",
     "iopub.status.busy": "2023-08-14T18:55:10.267177Z",
     "iopub.status.idle": "2023-08-14T18:55:10.274730Z",
     "shell.execute_reply": "2023-08-14T18:55:10.273608Z"
    },
    "origin_pos": 12,
    "tab": [
     "pytorch"
    ]
   },
   "outputs": [],
   "source": [
    "class EncoderDecoder(nn.Module):\n",
    "    \"\"\"编码器-解码器架构的基类\"\"\"\n",
    "    def __init__(self, encoder, decoder, **kwargs):\n",
    "        super(EncoderDecoder, self).__init__(**kwargs)\n",
    "        self.encoder = encoder\n",
    "        self.decoder = decoder\n",
    "\n",
    "    def forward(self, enc_X, dec_X, *args):\n",
    "        enc_outputs = self.encoder(enc_X, *args)\n",
    "        dec_state = self.decoder.init_state(enc_outputs, *args)\n",
    "        return self.decoder(dec_X, dec_state)"
   ]
  }
 ],
 "metadata": {
  "celltoolbar": "Slideshow",
  "language_info": {
   "name": "python"
  },
  "required_libs": [],
  "rise": {
   "autolaunch": true,
   "enable_chalkboard": true,
   "overlay": "<div class='my-top-right'><img height=80px src='http://d2l.ai/_static/logo-with-text.png'/></div><div class='my-top-left'></div>",
   "scroll": true
  }
 },
 "nbformat": 4,
 "nbformat_minor": 5
}