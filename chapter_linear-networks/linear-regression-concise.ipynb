{
 "cells": [
  {
   "cell_type": "markdown",
   "id": "3a2ac149",
   "metadata": {
    "slideshow": {
     "slide_type": "slide"
    }
   },
   "source": [
    "# 线性回归的简洁实现\n",
    "\n",
    "通过使用深度学习框架来简洁地实现\n",
    "线性回归模型\n",
    "生成数据集"
   ]
  },
  {
   "cell_type": "code",
   "execution_count": 2,
   "id": "c44c5303",
   "metadata": {
    "execution": {
     "iopub.execute_input": "2023-08-14T18:54:26.339320Z",
     "iopub.status.busy": "2023-08-14T18:54:26.338685Z",
     "iopub.status.idle": "2023-08-14T18:54:26.368117Z",
     "shell.execute_reply": "2023-08-14T18:54:26.367207Z"
    },
    "origin_pos": 5,
    "tab": [
     "pytorch"
    ]
   },
   "outputs": [],
   "source": [
    "import numpy as np\n",
    "import torch\n",
    "from torch.utils import data\n",
    "from d2l import torch as d2l\n",
    "\n",
    "true_w = torch.tensor([2, -3.4])\n",
    "true_b = 4.2\n",
    "features, labels = d2l.synthetic_data(true_w, true_b, 1000)"
   ]
  },
  {
   "cell_type": "markdown",
   "id": "87552d2a",
   "metadata": {
    "slideshow": {
     "slide_type": "slide"
    }
   },
   "source": [
    "调用框架中现有的API来读取数据"
   ]
  },
  {
   "cell_type": "code",
   "execution_count": 5,
   "id": "cbf5ce27",
   "metadata": {
    "execution": {
     "iopub.execute_input": "2023-08-14T18:54:26.389674Z",
     "iopub.status.busy": "2023-08-14T18:54:26.389179Z",
     "iopub.status.idle": "2023-08-14T18:54:26.398583Z",
     "shell.execute_reply": "2023-08-14T18:54:26.397615Z"
    },
    "origin_pos": 13,
    "tab": [
     "pytorch"
    ]
   },
   "outputs": [
    {
     "data": {
      "text/plain": [
       "[tensor([[ 0.7307, -1.1174],\n",
       "         [-0.2936, -1.0273],\n",
       "         [-0.7983, -0.2940],\n",
       "         [ 0.0688,  0.8951],\n",
       "         [ 0.8729,  0.3409],\n",
       "         [ 0.7300,  0.9243],\n",
       "         [-0.7282,  1.2895],\n",
       "         [ 0.9618,  1.5033],\n",
       "         [-0.3474, -0.1252],\n",
       "         [-3.6436,  2.0763]]),\n",
       " tensor([[  9.4548],\n",
       "         [  7.1239],\n",
       "         [  3.5885],\n",
       "         [  1.2839],\n",
       "         [  4.7899],\n",
       "         [  2.5172],\n",
       "         [ -1.6438],\n",
       "         [  1.0251],\n",
       "         [  3.9513],\n",
       "         [-10.1564]])]"
      ]
     },
     "execution_count": 5,
     "metadata": {},
     "output_type": "execute_result"
    }
   ],
   "source": [
    "def load_array(data_arrays, batch_size, is_train=True):  \n",
    "    \"\"\"构造一个PyTorch数据迭代器\"\"\"\n",
    "    dataset = data.TensorDataset(*data_arrays)\n",
    "    return data.DataLoader(dataset, batch_size, shuffle=is_train)\n",
    "\n",
    "batch_size = 10\n",
    "data_iter = load_array((features, labels), batch_size)\n",
    "\n",
    "next(iter(data_iter))"
   ]
  },
  {
   "cell_type": "markdown",
   "id": "4f011008",
   "metadata": {
    "slideshow": {
     "slide_type": "slide"
    }
   },
   "source": [
    "使用框架的预定义好的层"
   ]
  },
  {
   "cell_type": "code",
   "execution_count": 6,
   "id": "362fb542",
   "metadata": {
    "execution": {
     "iopub.execute_input": "2023-08-14T18:54:26.403396Z",
     "iopub.status.busy": "2023-08-14T18:54:26.402612Z",
     "iopub.status.idle": "2023-08-14T18:54:26.407486Z",
     "shell.execute_reply": "2023-08-14T18:54:26.406571Z"
    },
    "origin_pos": 20,
    "tab": [
     "pytorch"
    ]
   },
   "outputs": [],
   "source": [
    "from torch import nn\n",
    "\n",
    "net = nn.Sequential(nn.Linear(2, 1))"
   ]
  },
  {
   "cell_type": "markdown",
   "id": "8d84ce81",
   "metadata": {
    "slideshow": {
     "slide_type": "-"
    }
   },
   "source": [
    "初始化模型参数"
   ]
  },
  {
   "cell_type": "code",
   "execution_count": 7,
   "id": "5c2fad78",
   "metadata": {
    "execution": {
     "iopub.execute_input": "2023-08-14T18:54:26.412287Z",
     "iopub.status.busy": "2023-08-14T18:54:26.411529Z",
     "iopub.status.idle": "2023-08-14T18:54:26.418258Z",
     "shell.execute_reply": "2023-08-14T18:54:26.417307Z"
    },
    "origin_pos": 29,
    "tab": [
     "pytorch"
    ]
   },
   "outputs": [
    {
     "data": {
      "text/plain": [
       "tensor([0.])"
      ]
     },
     "execution_count": 7,
     "metadata": {},
     "output_type": "execute_result"
    }
   ],
   "source": [
    "net[0].weight.data.normal_(0, 0.01)\n",
    "net[0].bias.data.fill_(0)"
   ]
  },
  {
   "cell_type": "markdown",
   "id": "3f32025c",
   "metadata": {
    "slideshow": {
     "slide_type": "slide"
    }
   },
   "source": [
    "计算均方误差使用的是`MSELoss`类，也称为平方$L_2$范数"
   ]
  },
  {
   "cell_type": "code",
   "execution_count": 8,
   "id": "1c6830ce",
   "metadata": {
    "execution": {
     "iopub.execute_input": "2023-08-14T18:54:26.422970Z",
     "iopub.status.busy": "2023-08-14T18:54:26.422362Z",
     "iopub.status.idle": "2023-08-14T18:54:26.426614Z",
     "shell.execute_reply": "2023-08-14T18:54:26.425647Z"
    },
    "origin_pos": 41,
    "tab": [
     "pytorch"
    ]
   },
   "outputs": [],
   "source": [
    "loss = nn.MSELoss()"
   ]
  },
  {
   "cell_type": "markdown",
   "id": "5c8d36a4",
   "metadata": {
    "slideshow": {
     "slide_type": "-"
    }
   },
   "source": [
    "实例化一个`SGD`实例"
   ]
  },
  {
   "cell_type": "code",
   "execution_count": 9,
   "id": "a2cd5215",
   "metadata": {
    "execution": {
     "iopub.execute_input": "2023-08-14T18:54:26.431173Z",
     "iopub.status.busy": "2023-08-14T18:54:26.430567Z",
     "iopub.status.idle": "2023-08-14T18:54:26.434936Z",
     "shell.execute_reply": "2023-08-14T18:54:26.434021Z"
    },
    "origin_pos": 50,
    "tab": [
     "pytorch"
    ]
   },
   "outputs": [],
   "source": [
    "trainer = torch.optim.SGD(net.parameters(), lr=0.03)"
   ]
  },
  {
   "cell_type": "markdown",
   "id": "8a8f14c8",
   "metadata": {
    "slideshow": {
     "slide_type": "slide"
    }
   },
   "source": [
    "训练过程代码与我们从零开始实现时所做的非常相似"
   ]
  },
  {
   "cell_type": "code",
   "execution_count": 10,
   "id": "efd6ef10",
   "metadata": {
    "execution": {
     "iopub.execute_input": "2023-08-14T18:54:26.439328Z",
     "iopub.status.busy": "2023-08-14T18:54:26.438720Z",
     "iopub.status.idle": "2023-08-14T18:54:26.600561Z",
     "shell.execute_reply": "2023-08-14T18:54:26.599555Z"
    },
    "origin_pos": 55,
    "tab": [
     "pytorch"
    ]
   },
   "outputs": [
    {
     "name": "stdout",
     "output_type": "stream",
     "text": [
      "epoch 1, loss 0.000492\n",
      "epoch 2, loss 0.000101\n",
      "epoch 3, loss 0.000101\n"
     ]
    }
   ],
   "source": [
    "num_epochs = 3\n",
    "for epoch in range(num_epochs):\n",
    "    for X, y in data_iter:\n",
    "        l = loss(net(X) ,y)\n",
    "        trainer.zero_grad()\n",
    "        l.backward()\n",
    "        trainer.step()\n",
    "    l = loss(net(features), labels)\n",
    "    print(f'epoch {epoch + 1}, loss {l:f}')"
   ]
  },
  {
   "cell_type": "markdown",
   "id": "5998eb26",
   "metadata": {
    "slideshow": {
     "slide_type": "slide"
    }
   },
   "source": [
    "比较生成数据集的真实参数和通过有限数据训练获得的模型参数"
   ]
  },
  {
   "cell_type": "code",
   "execution_count": 11,
   "id": "a1934913",
   "metadata": {
    "execution": {
     "iopub.execute_input": "2023-08-14T18:54:26.605486Z",
     "iopub.status.busy": "2023-08-14T18:54:26.604799Z",
     "iopub.status.idle": "2023-08-14T18:54:26.612229Z",
     "shell.execute_reply": "2023-08-14T18:54:26.611233Z"
    },
    "origin_pos": 60,
    "tab": [
     "pytorch"
    ]
   },
   "outputs": [
    {
     "name": "stdout",
     "output_type": "stream",
     "text": [
      "w的估计误差： tensor([-4.4322e-04,  2.5034e-05])\n",
      "b的估计误差： tensor([-0.0004])\n"
     ]
    }
   ],
   "source": [
    "w = net[0].weight.data\n",
    "print('w的估计误差：', true_w - w.reshape(true_w.shape))\n",
    "b = net[0].bias.data\n",
    "print('b的估计误差：', true_b - b)"
   ]
  }
 ],
 "metadata": {
  "celltoolbar": "Slideshow",
  "language_info": {
   "name": "python"
  },
  "required_libs": [],
  "rise": {
   "autolaunch": true,
   "enable_chalkboard": true,
   "overlay": "<div class='my-top-right'><img height=80px src='http://d2l.ai/_static/logo-with-text.png'/></div><div class='my-top-left'></div>",
   "scroll": true
  }
 },
 "nbformat": 4,
 "nbformat_minor": 5
}