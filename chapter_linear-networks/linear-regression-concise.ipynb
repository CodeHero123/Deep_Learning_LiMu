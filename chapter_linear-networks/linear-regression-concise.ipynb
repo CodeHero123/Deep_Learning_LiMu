{
 "cells": [
  {
   "cell_type": "markdown",
   "id": "77f4f233",
   "metadata": {
    "slideshow": {
     "slide_type": "slide"
    }
   },
   "source": [
    "# 线性回归的简洁实现\n",
    "\n",
    "通过使用深度学习框架来简洁地实现\n",
    "线性回归模型\n",
    "生成数据集"
   ]
  },
  {
   "cell_type": "code",
   "execution_count": 2,
   "id": "6ab5b28b",
   "metadata": {
    "execution": {
     "iopub.execute_input": "2022-12-05T07:39:52.766287Z",
     "iopub.status.busy": "2022-12-05T07:39:52.765842Z",
     "iopub.status.idle": "2022-12-05T07:39:52.772297Z",
     "shell.execute_reply": "2022-12-05T07:39:52.771396Z"
    },
    "origin_pos": 5,
    "tab": [
     "pytorch"
    ]
   },
   "outputs": [],
   "source": [
    "import numpy as np\n",
    "import torch\n",
    "from torch.utils import data\n",
    "from d2l import torch as d2l\n",
    "\n",
    "true_w = torch.tensor([2, -3.4])\n",
    "true_b = 4.2\n",
    "features, labels = d2l.synthetic_data(true_w, true_b, 1000)"
   ]
  },
  {
   "cell_type": "markdown",
   "id": "58e97b74",
   "metadata": {
    "slideshow": {
     "slide_type": "slide"
    }
   },
   "source": [
    "调用框架中现有的API来读取数据"
   ]
  },
  {
   "cell_type": "code",
   "execution_count": 5,
   "id": "dc66699f",
   "metadata": {
    "execution": {
     "iopub.execute_input": "2022-12-05T07:39:52.790815Z",
     "iopub.status.busy": "2022-12-05T07:39:52.790123Z",
     "iopub.status.idle": "2022-12-05T07:39:52.800073Z",
     "shell.execute_reply": "2022-12-05T07:39:52.799170Z"
    },
    "origin_pos": 13,
    "tab": [
     "pytorch"
    ]
   },
   "outputs": [
    {
     "data": {
      "text/plain": [
       "[tensor([[-0.6904,  0.6536],\n",
       "         [ 1.1455, -0.5581],\n",
       "         [-1.2724, -0.7850],\n",
       "         [ 0.8606, -0.0378],\n",
       "         [-0.5898, -0.4856],\n",
       "         [ 1.2049,  1.5855],\n",
       "         [-0.3981,  1.9617],\n",
       "         [-0.0212, -0.7124],\n",
       "         [-0.0486,  0.6529],\n",
       "         [-0.6305, -0.3003]]),\n",
       " tensor([[ 0.5962],\n",
       "         [ 8.4040],\n",
       "         [ 4.3348],\n",
       "         [ 6.0500],\n",
       "         [ 4.6911],\n",
       "         [ 1.2281],\n",
       "         [-3.2724],\n",
       "         [ 6.5691],\n",
       "         [ 1.8739],\n",
       "         [ 3.9565]])]"
      ]
     },
     "execution_count": 5,
     "metadata": {},
     "output_type": "execute_result"
    }
   ],
   "source": [
    "def load_array(data_arrays, batch_size, is_train=True):  \n",
    "    \"\"\"构造一个PyTorch数据迭代器\"\"\"\n",
    "    dataset = data.TensorDataset(*data_arrays)\n",
    "    return data.DataLoader(dataset, batch_size, shuffle=is_train)\n",
    "\n",
    "batch_size = 10\n",
    "data_iter = load_array((features, labels), batch_size)\n",
    "\n",
    "next(iter(data_iter))"
   ]
  },
  {
   "cell_type": "markdown",
   "id": "bad32863",
   "metadata": {
    "slideshow": {
     "slide_type": "slide"
    }
   },
   "source": [
    "使用框架的预定义好的层"
   ]
  },
  {
   "cell_type": "code",
   "execution_count": 6,
   "id": "53b87820",
   "metadata": {
    "execution": {
     "iopub.execute_input": "2022-12-05T07:39:52.803774Z",
     "iopub.status.busy": "2022-12-05T07:39:52.803067Z",
     "iopub.status.idle": "2022-12-05T07:39:52.807841Z",
     "shell.execute_reply": "2022-12-05T07:39:52.806946Z"
    },
    "origin_pos": 20,
    "tab": [
     "pytorch"
    ]
   },
   "outputs": [],
   "source": [
    "from torch import nn\n",
    "\n",
    "net = nn.Sequential(nn.Linear(2, 1))"
   ]
  },
  {
   "cell_type": "markdown",
   "id": "ac1ac221",
   "metadata": {
    "slideshow": {
     "slide_type": "-"
    }
   },
   "source": [
    "初始化模型参数"
   ]
  },
  {
   "cell_type": "code",
   "execution_count": 7,
   "id": "f77e689e",
   "metadata": {
    "execution": {
     "iopub.execute_input": "2022-12-05T07:39:52.811476Z",
     "iopub.status.busy": "2022-12-05T07:39:52.810780Z",
     "iopub.status.idle": "2022-12-05T07:39:52.817398Z",
     "shell.execute_reply": "2022-12-05T07:39:52.816444Z"
    },
    "origin_pos": 29,
    "tab": [
     "pytorch"
    ]
   },
   "outputs": [
    {
     "data": {
      "text/plain": [
       "tensor([0.])"
      ]
     },
     "execution_count": 7,
     "metadata": {},
     "output_type": "execute_result"
    }
   ],
   "source": [
    "net[0].weight.data.normal_(0, 0.01)\n",
    "net[0].bias.data.fill_(0)"
   ]
  },
  {
   "cell_type": "markdown",
   "id": "ce8ba967",
   "metadata": {
    "slideshow": {
     "slide_type": "slide"
    }
   },
   "source": [
    "计算均方误差使用的是`MSELoss`类，也称为平方$L_2$范数"
   ]
  },
  {
   "cell_type": "code",
   "execution_count": 8,
   "id": "a768981f",
   "metadata": {
    "execution": {
     "iopub.execute_input": "2022-12-05T07:39:52.820978Z",
     "iopub.status.busy": "2022-12-05T07:39:52.820310Z",
     "iopub.status.idle": "2022-12-05T07:39:52.824449Z",
     "shell.execute_reply": "2022-12-05T07:39:52.823536Z"
    },
    "origin_pos": 41,
    "tab": [
     "pytorch"
    ]
   },
   "outputs": [],
   "source": [
    "loss = nn.MSELoss()"
   ]
  },
  {
   "cell_type": "markdown",
   "id": "26ca8d4b",
   "metadata": {
    "slideshow": {
     "slide_type": "-"
    }
   },
   "source": [
    "实例化一个`SGD`实例"
   ]
  },
  {
   "cell_type": "code",
   "execution_count": 9,
   "id": "9c0013fb",
   "metadata": {
    "execution": {
     "iopub.execute_input": "2022-12-05T07:39:52.828274Z",
     "iopub.status.busy": "2022-12-05T07:39:52.827433Z",
     "iopub.status.idle": "2022-12-05T07:39:52.831866Z",
     "shell.execute_reply": "2022-12-05T07:39:52.830945Z"
    },
    "origin_pos": 50,
    "tab": [
     "pytorch"
    ]
   },
   "outputs": [],
   "source": [
    "trainer = torch.optim.SGD(net.parameters(), lr=0.03)"
   ]
  },
  {
   "cell_type": "markdown",
   "id": "0aa53edd",
   "metadata": {
    "slideshow": {
     "slide_type": "slide"
    }
   },
   "source": [
    "训练过程代码与我们从零开始实现时所做的非常相似"
   ]
  },
  {
   "cell_type": "code",
   "execution_count": 10,
   "id": "b7e8b983",
   "metadata": {
    "execution": {
     "iopub.execute_input": "2022-12-05T07:39:52.834978Z",
     "iopub.status.busy": "2022-12-05T07:39:52.834643Z",
     "iopub.status.idle": "2022-12-05T07:39:52.986107Z",
     "shell.execute_reply": "2022-12-05T07:39:52.985150Z"
    },
    "origin_pos": 55,
    "tab": [
     "pytorch"
    ]
   },
   "outputs": [
    {
     "name": "stdout",
     "output_type": "stream",
     "text": [
      "epoch 1, loss 0.000399\n",
      "epoch 2, loss 0.000099\n",
      "epoch 3, loss 0.000098\n"
     ]
    }
   ],
   "source": [
    "num_epochs = 3\n",
    "for epoch in range(num_epochs):\n",
    "    for X, y in data_iter:\n",
    "        l = loss(net(X) ,y)\n",
    "        trainer.zero_grad()\n",
    "        l.backward()\n",
    "        trainer.step()\n",
    "    l = loss(net(features), labels)\n",
    "    print(f'epoch {epoch + 1}, loss {l:f}')"
   ]
  },
  {
   "cell_type": "markdown",
   "id": "02b4877d",
   "metadata": {
    "slideshow": {
     "slide_type": "slide"
    }
   },
   "source": [
    "比较生成数据集的真实参数和通过有限数据训练获得的模型参数"
   ]
  },
  {
   "cell_type": "code",
   "execution_count": 11,
   "id": "dd106e04",
   "metadata": {
    "execution": {
     "iopub.execute_input": "2022-12-05T07:39:52.990022Z",
     "iopub.status.busy": "2022-12-05T07:39:52.989223Z",
     "iopub.status.idle": "2022-12-05T07:39:52.996009Z",
     "shell.execute_reply": "2022-12-05T07:39:52.995059Z"
    },
    "origin_pos": 60,
    "tab": [
     "pytorch"
    ]
   },
   "outputs": [
    {
     "name": "stdout",
     "output_type": "stream",
     "text": [
      "w的估计误差： tensor([-0.0002, -0.0003])\n",
      "b的估计误差： tensor([-0.0005])\n"
     ]
    }
   ],
   "source": [
    "w = net[0].weight.data\n",
    "print('w的估计误差：', true_w - w.reshape(true_w.shape))\n",
    "b = net[0].bias.data\n",
    "print('b的估计误差：', true_b - b)"
   ]
  }
 ],
 "metadata": {
  "celltoolbar": "Slideshow",
  "language_info": {
   "name": "python"
  },
  "rise": {
   "autolaunch": true,
   "enable_chalkboard": true,
   "overlay": "<div class='my-top-right'><img height=80px src='http://d2l.ai/_static/logo-with-text.png'/></div><div class='my-top-left'></div>",
   "scroll": true
  }
 },
 "nbformat": 4,
 "nbformat_minor": 5
}