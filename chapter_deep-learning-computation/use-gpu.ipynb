{
 "cells": [
  {
   "cell_type": "markdown",
   "id": "a0799e93",
   "metadata": {
    "slideshow": {
     "slide_type": "-"
    }
   },
   "source": [
    "# GPU\n",
    "\n",
    "查看显卡信息"
   ]
  },
  {
   "cell_type": "code",
   "execution_count": 1,
   "id": "f88ed690",
   "metadata": {
    "execution": {
     "iopub.execute_input": "2023-08-14T18:56:46.544765Z",
     "iopub.status.busy": "2023-08-14T18:56:46.543960Z",
     "iopub.status.idle": "2023-08-14T18:56:48.896462Z",
     "shell.execute_reply": "2023-08-14T18:56:48.895303Z"
    },
    "origin_pos": 1,
    "tab": [
     "pytorch"
    ]
   },
   "outputs": [
    {
     "name": "stdout",
     "output_type": "stream",
     "text": [
      "Mon Aug 14 18:56:48 2023       \r\n",
      "+-----------------------------------------------------------------------------+\r\n",
      "| NVIDIA-SMI 470.161.03   Driver Version: 470.161.03   CUDA Version: 11.7     |\r\n",
      "|-------------------------------+----------------------+----------------------+\r\n",
      "| GPU  Name        Persistence-M| Bus-Id        Disp.A | Volatile Uncorr. ECC |\r\n",
      "| Fan  Temp  Perf  Pwr:Usage/Cap|         Memory-Usage | GPU-Util  Compute M. |\r\n",
      "|                               |                      |               MIG M. |\r\n",
      "|===============================+======================+======================|\r\n",
      "|   0  Tesla V100-SXM2...  Off  | 00000000:00:1B.0 Off |                    0 |\r\n",
      "| N/A   41C    P0    38W / 300W |      3MiB / 16160MiB |      0%      Default |\r\n",
      "|                               |                      |                  N/A |\r\n",
      "+-------------------------------+----------------------+----------------------+\r\n",
      "|   1  Tesla V100-SXM2...  Off  | 00000000:00:1C.0 Off |                    0 |\r\n",
      "| N/A   44C    P0    53W / 300W |      0MiB / 16160MiB |      0%      Default |\r\n",
      "|                               |                      |                  N/A |\r\n",
      "+-------------------------------+----------------------+----------------------+\r\n",
      "|   2  Tesla V100-SXM2...  Off  | 00000000:00:1D.0 Off |                    0 |\r\n",
      "| N/A   55C    P0   234W / 300W |   3168MiB / 16160MiB |     28%      Default |\r\n",
      "|                               |                      |                  N/A |\r\n",
      "+-------------------------------+----------------------+----------------------+\r\n"
     ]
    },
    {
     "name": "stdout",
     "output_type": "stream",
     "text": [
      "|   3  Tesla V100-SXM2...  Off  | 00000000:00:1E.0 Off |                    0 |\r\n",
      "| N/A   46C    P0    58W / 300W |      0MiB / 16160MiB |      2%      Default |\r\n",
      "|                               |                      |                  N/A |\r\n",
      "+-------------------------------+----------------------+----------------------+\r\n",
      "                                                                               \r\n",
      "+-----------------------------------------------------------------------------+\r\n",
      "| Processes:                                                                  |\r\n",
      "|  GPU   GI   CI        PID   Type   Process name                  GPU Memory |\r\n",
      "|        ID   ID                                                   Usage      |\r\n",
      "|=============================================================================|\r\n",
      "+-----------------------------------------------------------------------------+\r\n"
     ]
    }
   ],
   "source": [
    "!nvidia-smi"
   ]
  },
  {
   "cell_type": "markdown",
   "id": "9222001e",
   "metadata": {
    "slideshow": {
     "slide_type": "slide"
    }
   },
   "source": [
    "计算设备"
   ]
  },
  {
   "cell_type": "code",
   "execution_count": 2,
   "id": "fd291ce6",
   "metadata": {
    "execution": {
     "iopub.execute_input": "2023-08-14T18:56:48.901164Z",
     "iopub.status.busy": "2023-08-14T18:56:48.900594Z",
     "iopub.status.idle": "2023-08-14T18:56:51.360213Z",
     "shell.execute_reply": "2023-08-14T18:56:51.359076Z"
    },
    "origin_pos": 10,
    "tab": [
     "pytorch"
    ]
   },
   "outputs": [
    {
     "data": {
      "text/plain": [
       "(device(type='cpu'), device(type='cuda'), device(type='cuda', index=1))"
      ]
     },
     "execution_count": 2,
     "metadata": {},
     "output_type": "execute_result"
    }
   ],
   "source": [
    "import torch\n",
    "from torch import nn\n",
    "\n",
    "torch.device('cpu'), torch.device('cuda'), torch.device('cuda:1')"
   ]
  },
  {
   "cell_type": "markdown",
   "id": "12d8b8b1",
   "metadata": {
    "slideshow": {
     "slide_type": "-"
    }
   },
   "source": [
    "查询可用gpu的数量"
   ]
  },
  {
   "cell_type": "code",
   "execution_count": 3,
   "id": "9014bc4d",
   "metadata": {
    "execution": {
     "iopub.execute_input": "2023-08-14T18:56:51.363791Z",
     "iopub.status.busy": "2023-08-14T18:56:51.363253Z",
     "iopub.status.idle": "2023-08-14T18:56:51.369764Z",
     "shell.execute_reply": "2023-08-14T18:56:51.368665Z"
    },
    "origin_pos": 15,
    "tab": [
     "pytorch"
    ]
   },
   "outputs": [
    {
     "data": {
      "text/plain": [
       "2"
      ]
     },
     "execution_count": 3,
     "metadata": {},
     "output_type": "execute_result"
    }
   ],
   "source": [
    "torch.cuda.device_count()"
   ]
  },
  {
   "cell_type": "markdown",
   "id": "43900395",
   "metadata": {
    "slideshow": {
     "slide_type": "slide"
    }
   },
   "source": [
    "这两个函数允许我们在不存在所需所有GPU的情况下运行代码"
   ]
  },
  {
   "cell_type": "code",
   "execution_count": 4,
   "id": "67de8d2f",
   "metadata": {
    "execution": {
     "iopub.execute_input": "2023-08-14T18:56:51.373472Z",
     "iopub.status.busy": "2023-08-14T18:56:51.372746Z",
     "iopub.status.idle": "2023-08-14T18:56:51.381710Z",
     "shell.execute_reply": "2023-08-14T18:56:51.380622Z"
    },
    "origin_pos": 20,
    "tab": [
     "pytorch"
    ]
   },
   "outputs": [
    {
     "data": {
      "text/plain": [
       "(device(type='cuda', index=0),\n",
       " device(type='cpu'),\n",
       " [device(type='cuda', index=0), device(type='cuda', index=1)])"
      ]
     },
     "execution_count": 4,
     "metadata": {},
     "output_type": "execute_result"
    }
   ],
   "source": [
    "def try_gpu(i=0):  \n",
    "    \"\"\"如果存在，则返回gpu(i)，否则返回cpu()\"\"\"\n",
    "    if torch.cuda.device_count() >= i + 1:\n",
    "        return torch.device(f'cuda:{i}')\n",
    "    return torch.device('cpu')\n",
    "\n",
    "def try_all_gpus():  \n",
    "    \"\"\"返回所有可用的GPU，如果没有GPU，则返回[cpu(),]\"\"\"\n",
    "    devices = [torch.device(f'cuda:{i}')\n",
    "             for i in range(torch.cuda.device_count())]\n",
    "    return devices if devices else [torch.device('cpu')]\n",
    "\n",
    "try_gpu(), try_gpu(10), try_all_gpus()"
   ]
  },
  {
   "cell_type": "markdown",
   "id": "01149c6c",
   "metadata": {
    "slideshow": {
     "slide_type": "slide"
    }
   },
   "source": [
    "查询张量所在的设备"
   ]
  },
  {
   "cell_type": "code",
   "execution_count": 5,
   "id": "829b3a76",
   "metadata": {
    "execution": {
     "iopub.execute_input": "2023-08-14T18:56:51.385002Z",
     "iopub.status.busy": "2023-08-14T18:56:51.384600Z",
     "iopub.status.idle": "2023-08-14T18:56:51.391193Z",
     "shell.execute_reply": "2023-08-14T18:56:51.390106Z"
    },
    "origin_pos": 25,
    "tab": [
     "pytorch"
    ]
   },
   "outputs": [
    {
     "data": {
      "text/plain": [
       "device(type='cpu')"
      ]
     },
     "execution_count": 5,
     "metadata": {},
     "output_type": "execute_result"
    }
   ],
   "source": [
    "x = torch.tensor([1, 2, 3])\n",
    "x.device"
   ]
  },
  {
   "cell_type": "markdown",
   "id": "24adbebc",
   "metadata": {
    "slideshow": {
     "slide_type": "slide"
    }
   },
   "source": [
    "存储在GPU上"
   ]
  },
  {
   "cell_type": "code",
   "execution_count": 6,
   "id": "8602afec",
   "metadata": {
    "execution": {
     "iopub.execute_input": "2023-08-14T18:56:51.394601Z",
     "iopub.status.busy": "2023-08-14T18:56:51.394090Z",
     "iopub.status.idle": "2023-08-14T18:56:52.641918Z",
     "shell.execute_reply": "2023-08-14T18:56:52.641052Z"
    },
    "origin_pos": 30,
    "tab": [
     "pytorch"
    ]
   },
   "outputs": [
    {
     "data": {
      "text/plain": [
       "tensor([[1., 1., 1.],\n",
       "        [1., 1., 1.]], device='cuda:0')"
      ]
     },
     "execution_count": 6,
     "metadata": {},
     "output_type": "execute_result"
    }
   ],
   "source": [
    "X = torch.ones(2, 3, device=try_gpu())\n",
    "X"
   ]
  },
  {
   "cell_type": "markdown",
   "id": "cd9eff46",
   "metadata": {
    "slideshow": {
     "slide_type": "-"
    }
   },
   "source": [
    "第二个GPU上创建一个随机张量"
   ]
  },
  {
   "cell_type": "code",
   "execution_count": 7,
   "id": "fef00312",
   "metadata": {
    "execution": {
     "iopub.execute_input": "2023-08-14T18:56:52.645635Z",
     "iopub.status.busy": "2023-08-14T18:56:52.644949Z",
     "iopub.status.idle": "2023-08-14T18:56:53.659996Z",
     "shell.execute_reply": "2023-08-14T18:56:53.658898Z"
    },
    "origin_pos": 35,
    "tab": [
     "pytorch"
    ]
   },
   "outputs": [
    {
     "data": {
      "text/plain": [
       "tensor([[0.9096, 0.3335, 0.1122],\n",
       "        [0.1002, 0.8359, 0.1409]], device='cuda:1')"
      ]
     },
     "execution_count": 7,
     "metadata": {},
     "output_type": "execute_result"
    }
   ],
   "source": [
    "Y = torch.rand(2, 3, device=try_gpu(1))\n",
    "Y"
   ]
  },
  {
   "cell_type": "markdown",
   "id": "482bf15f",
   "metadata": {
    "slideshow": {
     "slide_type": "slide"
    }
   },
   "source": [
    "要计算`X + Y`，我们需要决定在哪里执行这个操作"
   ]
  },
  {
   "cell_type": "code",
   "execution_count": 8,
   "id": "280b5712",
   "metadata": {
    "execution": {
     "iopub.execute_input": "2023-08-14T18:56:53.665113Z",
     "iopub.status.busy": "2023-08-14T18:56:53.664266Z",
     "iopub.status.idle": "2023-08-14T18:56:53.672525Z",
     "shell.execute_reply": "2023-08-14T18:56:53.671484Z"
    },
    "origin_pos": 40,
    "tab": [
     "pytorch"
    ]
   },
   "outputs": [
    {
     "name": "stdout",
     "output_type": "stream",
     "text": [
      "tensor([[1., 1., 1.],\n",
      "        [1., 1., 1.]], device='cuda:0')\n",
      "tensor([[1., 1., 1.],\n",
      "        [1., 1., 1.]], device='cuda:1')\n"
     ]
    }
   ],
   "source": [
    "Z = X.cuda(1)\n",
    "print(X)\n",
    "print(Z)"
   ]
  },
  {
   "cell_type": "markdown",
   "id": "a40192e4",
   "metadata": {
    "slideshow": {
     "slide_type": "slide"
    }
   },
   "source": [
    "现在数据在同一个GPU上（`Z`和`Y`都在），我们可以将它们相加"
   ]
  },
  {
   "cell_type": "code",
   "execution_count": 9,
   "id": "7d8e2b74",
   "metadata": {
    "execution": {
     "iopub.execute_input": "2023-08-14T18:56:53.677410Z",
     "iopub.status.busy": "2023-08-14T18:56:53.676623Z",
     "iopub.status.idle": "2023-08-14T18:56:53.683871Z",
     "shell.execute_reply": "2023-08-14T18:56:53.682804Z"
    },
    "origin_pos": 43,
    "tab": [
     "pytorch"
    ]
   },
   "outputs": [
    {
     "data": {
      "text/plain": [
       "tensor([[1.9096, 1.3335, 1.1122],\n",
       "        [1.1002, 1.8359, 1.1409]], device='cuda:1')"
      ]
     },
     "execution_count": 9,
     "metadata": {},
     "output_type": "execute_result"
    }
   ],
   "source": [
    "Y + Z"
   ]
  },
  {
   "cell_type": "code",
   "execution_count": 10,
   "id": "e7f0ff8a",
   "metadata": {
    "execution": {
     "iopub.execute_input": "2023-08-14T18:56:53.688774Z",
     "iopub.status.busy": "2023-08-14T18:56:53.687960Z",
     "iopub.status.idle": "2023-08-14T18:56:53.694202Z",
     "shell.execute_reply": "2023-08-14T18:56:53.693301Z"
    },
    "origin_pos": 48,
    "tab": [
     "pytorch"
    ]
   },
   "outputs": [
    {
     "data": {
      "text/plain": [
       "True"
      ]
     },
     "execution_count": 10,
     "metadata": {},
     "output_type": "execute_result"
    }
   ],
   "source": [
    "Z.cuda(1) is Z"
   ]
  },
  {
   "cell_type": "markdown",
   "id": "2210ce6c",
   "metadata": {
    "slideshow": {
     "slide_type": "slide"
    }
   },
   "source": [
    "神经网络与GPU"
   ]
  },
  {
   "cell_type": "code",
   "execution_count": 12,
   "id": "3f070f27",
   "metadata": {
    "execution": {
     "iopub.execute_input": "2023-08-14T18:56:53.729653Z",
     "iopub.status.busy": "2023-08-14T18:56:53.728815Z",
     "iopub.status.idle": "2023-08-14T18:56:54.289974Z",
     "shell.execute_reply": "2023-08-14T18:56:54.289124Z"
    },
    "origin_pos": 56,
    "tab": [
     "pytorch"
    ]
   },
   "outputs": [
    {
     "data": {
      "text/plain": [
       "tensor([[-0.2766],\n",
       "        [-0.2766]], device='cuda:0', grad_fn=<AddmmBackward0>)"
      ]
     },
     "execution_count": 12,
     "metadata": {},
     "output_type": "execute_result"
    }
   ],
   "source": [
    "net = nn.Sequential(nn.Linear(3, 1))\n",
    "net = net.to(device=try_gpu())\n",
    "\n",
    "net(X)"
   ]
  },
  {
   "cell_type": "markdown",
   "id": "dc7f1af5",
   "metadata": {
    "slideshow": {
     "slide_type": "-"
    }
   },
   "source": [
    "确认模型参数存储在同一个GPU上"
   ]
  },
  {
   "cell_type": "code",
   "execution_count": 13,
   "id": "d9443f9c",
   "metadata": {
    "execution": {
     "iopub.execute_input": "2023-08-14T18:56:54.293937Z",
     "iopub.status.busy": "2023-08-14T18:56:54.293051Z",
     "iopub.status.idle": "2023-08-14T18:56:54.299479Z",
     "shell.execute_reply": "2023-08-14T18:56:54.298492Z"
    },
    "origin_pos": 59,
    "tab": [
     "pytorch"
    ]
   },
   "outputs": [
    {
     "data": {
      "text/plain": [
       "device(type='cuda', index=0)"
      ]
     },
     "execution_count": 13,
     "metadata": {},
     "output_type": "execute_result"
    }
   ],
   "source": [
    "net[0].weight.data.device"
   ]
  }
 ],
 "metadata": {
  "celltoolbar": "Slideshow",
  "language_info": {
   "name": "python"
  },
  "required_libs": [],
  "rise": {
   "autolaunch": true,
   "enable_chalkboard": true,
   "overlay": "<div class='my-top-right'><img height=80px src='http://d2l.ai/_static/logo-with-text.png'/></div><div class='my-top-left'></div>",
   "scroll": true
  }
 },
 "nbformat": 4,
 "nbformat_minor": 5
}