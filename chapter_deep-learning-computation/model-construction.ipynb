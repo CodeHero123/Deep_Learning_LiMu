{
 "cells": [
  {
   "cell_type": "markdown",
   "id": "b60385a9",
   "metadata": {
    "slideshow": {
     "slide_type": "-"
    }
   },
   "source": [
    "# 层和块\n",
    "\n",
    "我们先回顾一下多层感知机"
   ]
  },
  {
   "cell_type": "code",
   "execution_count": 1,
   "id": "9e63be42",
   "metadata": {
    "execution": {
     "iopub.execute_input": "2022-12-05T07:31:53.139022Z",
     "iopub.status.busy": "2022-12-05T07:31:53.138472Z",
     "iopub.status.idle": "2022-12-05T07:31:55.680743Z",
     "shell.execute_reply": "2022-12-05T07:31:55.679952Z"
    },
    "origin_pos": 2,
    "tab": [
     "pytorch"
    ]
   },
   "outputs": [
    {
     "data": {
      "text/plain": [
       "tensor([[ 0.0818,  0.0291,  0.0781,  0.1558,  0.1005,  0.0819, -0.0385,  0.0249,\n",
       "          0.0625,  0.2336],\n",
       "        [ 0.0775, -0.1028,  0.2266,  0.0333,  0.1195,  0.1545, -0.0686,  0.0615,\n",
       "          0.0813,  0.1914]], grad_fn=<AddmmBackward0>)"
      ]
     },
     "execution_count": 1,
     "metadata": {},
     "output_type": "execute_result"
    }
   ],
   "source": [
    "import torch\n",
    "from torch import nn\n",
    "from torch.nn import functional as F\n",
    "\n",
    "net = nn.Sequential(nn.Linear(20, 256), nn.ReLU(), nn.Linear(256, 10))\n",
    "\n",
    "X = torch.rand(2, 20)\n",
    "net(X)"
   ]
  },
  {
   "cell_type": "markdown",
   "id": "d64ce390",
   "metadata": {
    "slideshow": {
     "slide_type": "-"
    }
   },
   "source": [
    "`nn.Sequential`定义了一种特殊的`Module`"
   ]
  },
  {
   "cell_type": "markdown",
   "id": "7d05c752",
   "metadata": {
    "slideshow": {
     "slide_type": "slide"
    }
   },
   "source": [
    "自定义块"
   ]
  },
  {
   "cell_type": "code",
   "execution_count": 2,
   "id": "039b4edc",
   "metadata": {
    "execution": {
     "iopub.execute_input": "2022-12-05T07:31:55.684589Z",
     "iopub.status.busy": "2022-12-05T07:31:55.684062Z",
     "iopub.status.idle": "2022-12-05T07:31:55.689405Z",
     "shell.execute_reply": "2022-12-05T07:31:55.688664Z"
    },
    "origin_pos": 14,
    "tab": [
     "pytorch"
    ]
   },
   "outputs": [],
   "source": [
    "class MLP(nn.Module):\n",
    "    def __init__(self):\n",
    "        super().__init__()\n",
    "        self.hidden = nn.Linear(20, 256)\n",
    "        self.out = nn.Linear(256, 10)\n",
    "\n",
    "    def forward(self, X):\n",
    "        return self.out(F.relu(self.hidden(X)))"
   ]
  },
  {
   "cell_type": "markdown",
   "id": "d817361a",
   "metadata": {
    "slideshow": {
     "slide_type": "slide"
    }
   },
   "source": [
    "实例化多层感知机的层，然后在每次调用前向传播函数时调用这些层"
   ]
  },
  {
   "cell_type": "code",
   "execution_count": 3,
   "id": "61f3a779",
   "metadata": {
    "execution": {
     "iopub.execute_input": "2022-12-05T07:31:55.692584Z",
     "iopub.status.busy": "2022-12-05T07:31:55.692163Z",
     "iopub.status.idle": "2022-12-05T07:31:55.698345Z",
     "shell.execute_reply": "2022-12-05T07:31:55.697631Z"
    },
    "origin_pos": 19,
    "tab": [
     "pytorch"
    ]
   },
   "outputs": [
    {
     "data": {
      "text/plain": [
       "tensor([[ 0.2651, -0.2511, -0.1483,  0.0751,  0.0784,  0.0199, -0.0824, -0.1524,\n",
       "         -0.1370, -0.1382],\n",
       "        [ 0.2771, -0.1852, -0.2076, -0.0133,  0.0793,  0.0183, -0.2449, -0.1861,\n",
       "         -0.2123, -0.2247]], grad_fn=<AddmmBackward0>)"
      ]
     },
     "execution_count": 3,
     "metadata": {},
     "output_type": "execute_result"
    }
   ],
   "source": [
    "net = MLP()\n",
    "net(X)"
   ]
  },
  {
   "cell_type": "markdown",
   "id": "9a436283",
   "metadata": {
    "slideshow": {
     "slide_type": "slide"
    }
   },
   "source": [
    "顺序块"
   ]
  },
  {
   "cell_type": "code",
   "execution_count": 5,
   "id": "b68fa72d",
   "metadata": {
    "execution": {
     "iopub.execute_input": "2022-12-05T07:31:55.709515Z",
     "iopub.status.busy": "2022-12-05T07:31:55.708983Z",
     "iopub.status.idle": "2022-12-05T07:31:55.715707Z",
     "shell.execute_reply": "2022-12-05T07:31:55.714980Z"
    },
    "origin_pos": 31,
    "tab": [
     "pytorch"
    ]
   },
   "outputs": [
    {
     "data": {
      "text/plain": [
       "tensor([[-0.3066, -0.2050, -0.1326, -0.0249, -0.0687, -0.1040,  0.0689, -0.1638,\n",
       "          0.1826, -0.1665],\n",
       "        [-0.2840, -0.1988, -0.1476, -0.0539, -0.2433, -0.0538,  0.0684, -0.1737,\n",
       "          0.1928, -0.0911]], grad_fn=<AddmmBackward0>)"
      ]
     },
     "execution_count": 5,
     "metadata": {},
     "output_type": "execute_result"
    }
   ],
   "source": [
    "class MySequential(nn.Module):\n",
    "    def __init__(self, *args):\n",
    "        super().__init__()\n",
    "        for idx, module in enumerate(args):\n",
    "            self._modules[str(idx)] = module\n",
    "\n",
    "    def forward(self, X):\n",
    "        for block in self._modules.values():\n",
    "            X = block(X)\n",
    "        return X\n",
    "\n",
    "net = MySequential(nn.Linear(20, 256), nn.ReLU(), nn.Linear(256, 10))\n",
    "net(X)"
   ]
  },
  {
   "cell_type": "markdown",
   "id": "531b39e5",
   "metadata": {
    "slideshow": {
     "slide_type": "slide"
    }
   },
   "source": [
    "在前向传播函数中执行代码"
   ]
  },
  {
   "cell_type": "code",
   "execution_count": 7,
   "id": "ab806bb1",
   "metadata": {
    "execution": {
     "iopub.execute_input": "2022-12-05T07:31:55.727470Z",
     "iopub.status.busy": "2022-12-05T07:31:55.726861Z",
     "iopub.status.idle": "2022-12-05T07:31:55.733167Z",
     "shell.execute_reply": "2022-12-05T07:31:55.732443Z"
    },
    "origin_pos": 40,
    "tab": [
     "pytorch"
    ]
   },
   "outputs": [
    {
     "data": {
      "text/plain": [
       "tensor(-0.1726, grad_fn=<SumBackward0>)"
      ]
     },
     "execution_count": 7,
     "metadata": {},
     "output_type": "execute_result"
    }
   ],
   "source": [
    "class FixedHiddenMLP(nn.Module):\n",
    "    def __init__(self):\n",
    "        super().__init__()\n",
    "        self.rand_weight = torch.rand((20, 20), requires_grad=False)\n",
    "        self.linear = nn.Linear(20, 20)\n",
    "\n",
    "    def forward(self, X):\n",
    "        X = self.linear(X)\n",
    "        X = F.relu(torch.mm(X, self.rand_weight) + 1)\n",
    "        X = self.linear(X)\n",
    "        while X.abs().sum() > 1:\n",
    "            X /= 2\n",
    "        return X.sum()\n",
    "\n",
    "net = FixedHiddenMLP()\n",
    "net(X)"
   ]
  },
  {
   "cell_type": "markdown",
   "id": "04be584b",
   "metadata": {
    "slideshow": {
     "slide_type": "slide"
    }
   },
   "source": [
    "混合搭配各种组合块的方法"
   ]
  },
  {
   "cell_type": "code",
   "execution_count": 8,
   "id": "d8940a62",
   "metadata": {
    "execution": {
     "iopub.execute_input": "2022-12-05T07:31:55.736525Z",
     "iopub.status.busy": "2022-12-05T07:31:55.735901Z",
     "iopub.status.idle": "2022-12-05T07:31:55.745496Z",
     "shell.execute_reply": "2022-12-05T07:31:55.744764Z"
    },
    "origin_pos": 43,
    "tab": [
     "pytorch"
    ]
   },
   "outputs": [
    {
     "data": {
      "text/plain": [
       "tensor(-0.0832, grad_fn=<SumBackward0>)"
      ]
     },
     "execution_count": 8,
     "metadata": {},
     "output_type": "execute_result"
    }
   ],
   "source": [
    "class NestMLP(nn.Module):\n",
    "    def __init__(self):\n",
    "        super().__init__()\n",
    "        self.net = nn.Sequential(nn.Linear(20, 64), nn.ReLU(),\n",
    "                                 nn.Linear(64, 32), nn.ReLU())\n",
    "        self.linear = nn.Linear(32, 16)\n",
    "\n",
    "    def forward(self, X):\n",
    "        return self.linear(self.net(X))\n",
    "\n",
    "chimera = nn.Sequential(NestMLP(), nn.Linear(16, 20), FixedHiddenMLP())\n",
    "chimera(X)"
   ]
  }
 ],
 "metadata": {
  "celltoolbar": "Slideshow",
  "language_info": {
   "name": "python"
  },
  "rise": {
   "autolaunch": true,
   "enable_chalkboard": true,
   "overlay": "<div class='my-top-right'><img height=80px src='http://d2l.ai/_static/logo-with-text.png'/></div><div class='my-top-left'></div>",
   "scroll": true
  }
 },
 "nbformat": 4,
 "nbformat_minor": 5
}