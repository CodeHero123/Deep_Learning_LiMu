{
 "cells": [
  {
   "cell_type": "markdown",
   "id": "189a5dc7",
   "metadata": {
    "slideshow": {
     "slide_type": "-"
    }
   },
   "source": [
    "# 层和块\n",
    "\n",
    "我们先回顾一下多层感知机"
   ]
  },
  {
   "cell_type": "code",
   "execution_count": 1,
   "id": "653d88d6",
   "metadata": {
    "execution": {
     "iopub.execute_input": "2023-08-14T18:50:10.331607Z",
     "iopub.status.busy": "2023-08-14T18:50:10.330737Z",
     "iopub.status.idle": "2023-08-14T18:50:11.766948Z",
     "shell.execute_reply": "2023-08-14T18:50:11.765922Z"
    },
    "origin_pos": 2,
    "tab": [
     "pytorch"
    ]
   },
   "outputs": [
    {
     "data": {
      "text/plain": [
       "tensor([[-0.1842, -0.0374,  0.1876, -0.1508, -0.1395,  0.1610,  0.2765,  0.1215,\n",
       "         -0.1455,  0.0184],\n",
       "        [-0.2283,  0.0090,  0.1579, -0.2020, -0.2565,  0.2588,  0.1472,  0.2896,\n",
       "         -0.1379,  0.1174]], grad_fn=<AddmmBackward0>)"
      ]
     },
     "execution_count": 1,
     "metadata": {},
     "output_type": "execute_result"
    }
   ],
   "source": [
    "import torch\n",
    "from torch import nn\n",
    "from torch.nn import functional as F\n",
    "\n",
    "net = nn.Sequential(nn.Linear(20, 256), nn.ReLU(), nn.Linear(256, 10))\n",
    "\n",
    "X = torch.rand(2, 20)\n",
    "net(X)"
   ]
  },
  {
   "cell_type": "markdown",
   "id": "79177030",
   "metadata": {
    "slideshow": {
     "slide_type": "-"
    }
   },
   "source": [
    "`nn.Sequential`定义了一种特殊的`Module`"
   ]
  },
  {
   "cell_type": "markdown",
   "id": "27d1502b",
   "metadata": {
    "slideshow": {
     "slide_type": "slide"
    }
   },
   "source": [
    "自定义块"
   ]
  },
  {
   "cell_type": "code",
   "execution_count": 2,
   "id": "9c9cf7bd",
   "metadata": {
    "execution": {
     "iopub.execute_input": "2023-08-14T18:50:11.772114Z",
     "iopub.status.busy": "2023-08-14T18:50:11.771157Z",
     "iopub.status.idle": "2023-08-14T18:50:11.777571Z",
     "shell.execute_reply": "2023-08-14T18:50:11.776581Z"
    },
    "origin_pos": 14,
    "tab": [
     "pytorch"
    ]
   },
   "outputs": [],
   "source": [
    "class MLP(nn.Module):\n",
    "    def __init__(self):\n",
    "        super().__init__()\n",
    "        self.hidden = nn.Linear(20, 256)\n",
    "        self.out = nn.Linear(256, 10)\n",
    "\n",
    "    def forward(self, X):\n",
    "        return self.out(F.relu(self.hidden(X)))"
   ]
  },
  {
   "cell_type": "markdown",
   "id": "e20e25fb",
   "metadata": {
    "slideshow": {
     "slide_type": "slide"
    }
   },
   "source": [
    "实例化多层感知机的层，然后在每次调用前向传播函数时调用这些层"
   ]
  },
  {
   "cell_type": "code",
   "execution_count": 3,
   "id": "cfe76ffe",
   "metadata": {
    "execution": {
     "iopub.execute_input": "2023-08-14T18:50:11.782200Z",
     "iopub.status.busy": "2023-08-14T18:50:11.781862Z",
     "iopub.status.idle": "2023-08-14T18:50:11.790553Z",
     "shell.execute_reply": "2023-08-14T18:50:11.789398Z"
    },
    "origin_pos": 19,
    "tab": [
     "pytorch"
    ]
   },
   "outputs": [
    {
     "data": {
      "text/plain": [
       "tensor([[-0.0521,  0.0355, -0.1253,  0.0083, -0.2621,  0.2276, -0.1011,  0.0044,\n",
       "         -0.2742, -0.1480],\n",
       "        [ 0.0621,  0.1329, -0.1670,  0.0708, -0.1603,  0.2823, -0.1873,  0.1842,\n",
       "         -0.2576, -0.0846]], grad_fn=<AddmmBackward0>)"
      ]
     },
     "execution_count": 3,
     "metadata": {},
     "output_type": "execute_result"
    }
   ],
   "source": [
    "net = MLP()\n",
    "net(X)"
   ]
  },
  {
   "cell_type": "markdown",
   "id": "945c84ac",
   "metadata": {
    "slideshow": {
     "slide_type": "slide"
    }
   },
   "source": [
    "顺序块"
   ]
  },
  {
   "cell_type": "code",
   "execution_count": 5,
   "id": "035061b6",
   "metadata": {
    "execution": {
     "iopub.execute_input": "2023-08-14T18:50:11.807913Z",
     "iopub.status.busy": "2023-08-14T18:50:11.807049Z",
     "iopub.status.idle": "2023-08-14T18:50:11.816991Z",
     "shell.execute_reply": "2023-08-14T18:50:11.815928Z"
    },
    "origin_pos": 31,
    "tab": [
     "pytorch"
    ]
   },
   "outputs": [
    {
     "data": {
      "text/plain": [
       "tensor([[ 0.1586, -0.0771, -0.1299,  0.1388,  0.1802, -0.1968, -0.0036, -0.0706,\n",
       "         -0.1354,  0.0355],\n",
       "        [ 0.2609,  0.1047,  0.1031,  0.2428,  0.1553, -0.0909, -0.0358, -0.0329,\n",
       "          0.0110,  0.0527]], grad_fn=<AddmmBackward0>)"
      ]
     },
     "execution_count": 5,
     "metadata": {},
     "output_type": "execute_result"
    }
   ],
   "source": [
    "class MySequential(nn.Module):\n",
    "    def __init__(self, *args):\n",
    "        super().__init__()\n",
    "        for idx, module in enumerate(args):\n",
    "            self._modules[str(idx)] = module\n",
    "\n",
    "    def forward(self, X):\n",
    "        for block in self._modules.values():\n",
    "            X = block(X)\n",
    "        return X\n",
    "\n",
    "net = MySequential(nn.Linear(20, 256), nn.ReLU(), nn.Linear(256, 10))\n",
    "net(X)"
   ]
  },
  {
   "cell_type": "markdown",
   "id": "151898a9",
   "metadata": {
    "slideshow": {
     "slide_type": "slide"
    }
   },
   "source": [
    "在前向传播函数中执行代码"
   ]
  },
  {
   "cell_type": "code",
   "execution_count": 7,
   "id": "bf07936d",
   "metadata": {
    "execution": {
     "iopub.execute_input": "2023-08-14T18:50:11.835204Z",
     "iopub.status.busy": "2023-08-14T18:50:11.834632Z",
     "iopub.status.idle": "2023-08-14T18:50:11.841277Z",
     "shell.execute_reply": "2023-08-14T18:50:11.840532Z"
    },
    "origin_pos": 40,
    "tab": [
     "pytorch"
    ]
   },
   "outputs": [
    {
     "data": {
      "text/plain": [
       "tensor(0.0614, grad_fn=<SumBackward0>)"
      ]
     },
     "execution_count": 7,
     "metadata": {},
     "output_type": "execute_result"
    }
   ],
   "source": [
    "class FixedHiddenMLP(nn.Module):\n",
    "    def __init__(self):\n",
    "        super().__init__()\n",
    "        self.rand_weight = torch.rand((20, 20), requires_grad=False)\n",
    "        self.linear = nn.Linear(20, 20)\n",
    "\n",
    "    def forward(self, X):\n",
    "        X = self.linear(X)\n",
    "        X = F.relu(torch.mm(X, self.rand_weight) + 1)\n",
    "        X = self.linear(X)\n",
    "        while X.abs().sum() > 1:\n",
    "            X /= 2\n",
    "        return X.sum()\n",
    "\n",
    "net = FixedHiddenMLP()\n",
    "net(X)"
   ]
  },
  {
   "cell_type": "markdown",
   "id": "b15af151",
   "metadata": {
    "slideshow": {
     "slide_type": "slide"
    }
   },
   "source": [
    "混合搭配各种组合块的方法"
   ]
  },
  {
   "cell_type": "code",
   "execution_count": 8,
   "id": "3932d482",
   "metadata": {
    "execution": {
     "iopub.execute_input": "2023-08-14T18:50:11.844540Z",
     "iopub.status.busy": "2023-08-14T18:50:11.844257Z",
     "iopub.status.idle": "2023-08-14T18:50:11.854617Z",
     "shell.execute_reply": "2023-08-14T18:50:11.853761Z"
    },
    "origin_pos": 43,
    "tab": [
     "pytorch"
    ]
   },
   "outputs": [
    {
     "data": {
      "text/plain": [
       "tensor(-0.1583, grad_fn=<SumBackward0>)"
      ]
     },
     "execution_count": 8,
     "metadata": {},
     "output_type": "execute_result"
    }
   ],
   "source": [
    "class NestMLP(nn.Module):\n",
    "    def __init__(self):\n",
    "        super().__init__()\n",
    "        self.net = nn.Sequential(nn.Linear(20, 64), nn.ReLU(),\n",
    "                                 nn.Linear(64, 32), nn.ReLU())\n",
    "        self.linear = nn.Linear(32, 16)\n",
    "\n",
    "    def forward(self, X):\n",
    "        return self.linear(self.net(X))\n",
    "\n",
    "chimera = nn.Sequential(NestMLP(), nn.Linear(16, 20), FixedHiddenMLP())\n",
    "chimera(X)"
   ]
  }
 ],
 "metadata": {
  "celltoolbar": "Slideshow",
  "language_info": {
   "name": "python"
  },
  "required_libs": [],
  "rise": {
   "autolaunch": true,
   "enable_chalkboard": true,
   "overlay": "<div class='my-top-right'><img height=80px src='http://d2l.ai/_static/logo-with-text.png'/></div><div class='my-top-left'></div>",
   "scroll": true
  }
 },
 "nbformat": 4,
 "nbformat_minor": 5
}