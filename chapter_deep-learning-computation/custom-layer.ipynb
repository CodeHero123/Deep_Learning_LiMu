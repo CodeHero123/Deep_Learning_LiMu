{
 "cells": [
  {
   "cell_type": "markdown",
   "id": "f2274461",
   "metadata": {
    "slideshow": {
     "slide_type": "-"
    }
   },
   "source": [
    "# 自定义层\n",
    "\n",
    "构造一个没有任何参数的自定义层"
   ]
  },
  {
   "cell_type": "code",
   "execution_count": 2,
   "id": "61b68154",
   "metadata": {
    "execution": {
     "iopub.execute_input": "2022-12-05T07:38:37.097322Z",
     "iopub.status.busy": "2022-12-05T07:38:37.096787Z",
     "iopub.status.idle": "2022-12-05T07:38:37.110960Z",
     "shell.execute_reply": "2022-12-05T07:38:37.110186Z"
    },
    "origin_pos": 7,
    "tab": [
     "pytorch"
    ]
   },
   "outputs": [
    {
     "data": {
      "text/plain": [
       "tensor([-2., -1.,  0.,  1.,  2.])"
      ]
     },
     "execution_count": 2,
     "metadata": {},
     "output_type": "execute_result"
    }
   ],
   "source": [
    "import torch\n",
    "import torch.nn.functional as F\n",
    "from torch import nn\n",
    "\n",
    "\n",
    "class CenteredLayer(nn.Module):\n",
    "    def __init__(self):\n",
    "        super().__init__()\n",
    "\n",
    "    def forward(self, X):\n",
    "        return X - X.mean()\n",
    "\n",
    "layer = CenteredLayer()\n",
    "layer(torch.FloatTensor([1, 2, 3, 4, 5]))"
   ]
  },
  {
   "cell_type": "markdown",
   "id": "6c0fe5b5",
   "metadata": {
    "slideshow": {
     "slide_type": "slide"
    }
   },
   "source": [
    "将层作为组件合并到更复杂的模型中"
   ]
  },
  {
   "cell_type": "code",
   "execution_count": 4,
   "id": "b0ead244",
   "metadata": {
    "execution": {
     "iopub.execute_input": "2022-12-05T07:38:37.121456Z",
     "iopub.status.busy": "2022-12-05T07:38:37.121050Z",
     "iopub.status.idle": "2022-12-05T07:38:37.126647Z",
     "shell.execute_reply": "2022-12-05T07:38:37.125965Z"
    },
    "origin_pos": 16,
    "tab": [
     "pytorch"
    ]
   },
   "outputs": [
    {
     "data": {
      "text/plain": [
       "tensor(-6.0536e-09, grad_fn=<MeanBackward0>)"
      ]
     },
     "execution_count": 4,
     "metadata": {},
     "output_type": "execute_result"
    }
   ],
   "source": [
    "net = nn.Sequential(nn.Linear(8, 128), CenteredLayer())\n",
    "\n",
    "Y = net(torch.rand(4, 8))\n",
    "Y.mean()"
   ]
  },
  {
   "cell_type": "markdown",
   "id": "62e9979c",
   "metadata": {
    "slideshow": {
     "slide_type": "slide"
    }
   },
   "source": [
    "带参数的层"
   ]
  },
  {
   "cell_type": "code",
   "execution_count": 6,
   "id": "613eb548",
   "metadata": {
    "execution": {
     "iopub.execute_input": "2022-12-05T07:38:37.137662Z",
     "iopub.status.busy": "2022-12-05T07:38:37.137166Z",
     "iopub.status.idle": "2022-12-05T07:38:37.142800Z",
     "shell.execute_reply": "2022-12-05T07:38:37.142088Z"
    },
    "origin_pos": 28,
    "tab": [
     "pytorch"
    ]
   },
   "outputs": [
    {
     "data": {
      "text/plain": [
       "Parameter containing:\n",
       "tensor([[-0.5139, -0.0592, -0.5610],\n",
       "        [-0.9938,  0.5187,  2.6468],\n",
       "        [-0.6954,  0.2872, -1.7615],\n",
       "        [ 0.2902,  1.2508, -0.2391],\n",
       "        [-0.2601,  0.0279, -0.1672]], requires_grad=True)"
      ]
     },
     "execution_count": 6,
     "metadata": {},
     "output_type": "execute_result"
    }
   ],
   "source": [
    "class MyLinear(nn.Module):\n",
    "    def __init__(self, in_units, units):\n",
    "        super().__init__()\n",
    "        self.weight = nn.Parameter(torch.randn(in_units, units))\n",
    "        self.bias = nn.Parameter(torch.randn(units,))\n",
    "    def forward(self, X):\n",
    "        linear = torch.matmul(X, self.weight.data) + self.bias.data\n",
    "        return F.relu(linear)\n",
    "\n",
    "linear = MyLinear(5, 3)\n",
    "linear.weight"
   ]
  },
  {
   "cell_type": "markdown",
   "id": "6bcd60ff",
   "metadata": {
    "slideshow": {
     "slide_type": "slide"
    }
   },
   "source": [
    "使用自定义层直接执行前向传播计算"
   ]
  },
  {
   "cell_type": "code",
   "execution_count": 7,
   "id": "d28b5c8a",
   "metadata": {
    "execution": {
     "iopub.execute_input": "2022-12-05T07:38:37.146162Z",
     "iopub.status.busy": "2022-12-05T07:38:37.145523Z",
     "iopub.status.idle": "2022-12-05T07:38:37.151161Z",
     "shell.execute_reply": "2022-12-05T07:38:37.150434Z"
    },
    "origin_pos": 32,
    "tab": [
     "pytorch"
    ]
   },
   "outputs": [
    {
     "data": {
      "text/plain": [
       "tensor([[0.0000, 0.4521, 1.2984],\n",
       "        [0.0000, 0.2058, 0.0000]])"
      ]
     },
     "execution_count": 7,
     "metadata": {},
     "output_type": "execute_result"
    }
   ],
   "source": [
    "linear(torch.rand(2, 5))"
   ]
  },
  {
   "cell_type": "markdown",
   "id": "d49ca527",
   "metadata": {
    "slideshow": {
     "slide_type": "-"
    }
   },
   "source": [
    "使用自定义层构建模型"
   ]
  },
  {
   "cell_type": "code",
   "execution_count": 8,
   "id": "4e7f257c",
   "metadata": {
    "execution": {
     "iopub.execute_input": "2022-12-05T07:38:37.154367Z",
     "iopub.status.busy": "2022-12-05T07:38:37.153865Z",
     "iopub.status.idle": "2022-12-05T07:38:37.159974Z",
     "shell.execute_reply": "2022-12-05T07:38:37.159252Z"
    },
    "origin_pos": 37,
    "tab": [
     "pytorch"
    ]
   },
   "outputs": [
    {
     "data": {
      "text/plain": [
       "tensor([[0.8795],\n",
       "        [0.0000]])"
      ]
     },
     "execution_count": 8,
     "metadata": {},
     "output_type": "execute_result"
    }
   ],
   "source": [
    "net = nn.Sequential(MyLinear(64, 8), MyLinear(8, 1))\n",
    "net(torch.rand(2, 64))"
   ]
  }
 ],
 "metadata": {
  "celltoolbar": "Slideshow",
  "language_info": {
   "name": "python"
  },
  "rise": {
   "autolaunch": true,
   "enable_chalkboard": true,
   "overlay": "<div class='my-top-right'><img height=80px src='http://d2l.ai/_static/logo-with-text.png'/></div><div class='my-top-left'></div>",
   "scroll": true
  }
 },
 "nbformat": 4,
 "nbformat_minor": 5
}