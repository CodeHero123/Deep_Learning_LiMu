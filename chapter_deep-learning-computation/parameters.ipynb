{
 "cells": [
  {
   "cell_type": "markdown",
   "id": "2c3cd34b",
   "metadata": {
    "slideshow": {
     "slide_type": "-"
    }
   },
   "source": [
    "# 参数管理\n",
    "\n",
    "我们首先看一下具有单隐藏层的多层感知机"
   ]
  },
  {
   "cell_type": "code",
   "execution_count": 1,
   "id": "e97d6ffe",
   "metadata": {
    "execution": {
     "iopub.execute_input": "2022-12-05T07:46:48.827482Z",
     "iopub.status.busy": "2022-12-05T07:46:48.826850Z",
     "iopub.status.idle": "2022-12-05T07:46:50.102072Z",
     "shell.execute_reply": "2022-12-05T07:46:50.101126Z"
    },
    "origin_pos": 2,
    "tab": [
     "pytorch"
    ]
   },
   "outputs": [
    {
     "data": {
      "text/plain": [
       "tensor([[0.1562],\n",
       "        [0.1295]], grad_fn=<AddmmBackward0>)"
      ]
     },
     "execution_count": 1,
     "metadata": {},
     "output_type": "execute_result"
    }
   ],
   "source": [
    "import torch\n",
    "from torch import nn\n",
    "\n",
    "net = nn.Sequential(nn.Linear(4, 8), nn.ReLU(), nn.Linear(8, 1))\n",
    "X = torch.rand(size=(2, 4))\n",
    "net(X)"
   ]
  },
  {
   "cell_type": "markdown",
   "id": "cf21e74b",
   "metadata": {
    "slideshow": {
     "slide_type": "slide"
    }
   },
   "source": [
    "参数访问"
   ]
  },
  {
   "cell_type": "code",
   "execution_count": 2,
   "id": "a5274cfb",
   "metadata": {
    "execution": {
     "iopub.execute_input": "2022-12-05T07:46:50.106462Z",
     "iopub.status.busy": "2022-12-05T07:46:50.105572Z",
     "iopub.status.idle": "2022-12-05T07:46:50.111872Z",
     "shell.execute_reply": "2022-12-05T07:46:50.111035Z"
    },
    "origin_pos": 7,
    "tab": [
     "pytorch"
    ]
   },
   "outputs": [
    {
     "name": "stdout",
     "output_type": "stream",
     "text": [
      "OrderedDict([('weight', tensor([[ 0.0765, -0.3175,  0.1164, -0.0817,  0.2430,  0.2040,  0.0748, -0.1682]])), ('bias', tensor([0.1081]))])\n"
     ]
    }
   ],
   "source": [
    "print(net[2].state_dict())"
   ]
  },
  {
   "cell_type": "markdown",
   "id": "a824da10",
   "metadata": {
    "slideshow": {
     "slide_type": "slide"
    }
   },
   "source": [
    "目标参数"
   ]
  },
  {
   "cell_type": "code",
   "execution_count": 3,
   "id": "49b4202f",
   "metadata": {
    "execution": {
     "iopub.execute_input": "2022-12-05T07:46:50.115941Z",
     "iopub.status.busy": "2022-12-05T07:46:50.115290Z",
     "iopub.status.idle": "2022-12-05T07:46:50.121159Z",
     "shell.execute_reply": "2022-12-05T07:46:50.120360Z"
    },
    "origin_pos": 11,
    "tab": [
     "pytorch"
    ]
   },
   "outputs": [
    {
     "name": "stdout",
     "output_type": "stream",
     "text": [
      "<class 'torch.nn.parameter.Parameter'>\n",
      "Parameter containing:\n",
      "tensor([0.1081], requires_grad=True)\n",
      "tensor([0.1081])\n"
     ]
    }
   ],
   "source": [
    "print(type(net[2].bias))\n",
    "print(net[2].bias)\n",
    "print(net[2].bias.data)"
   ]
  },
  {
   "cell_type": "code",
   "execution_count": 4,
   "id": "e69d052f",
   "metadata": {
    "execution": {
     "iopub.execute_input": "2022-12-05T07:46:50.124852Z",
     "iopub.status.busy": "2022-12-05T07:46:50.124221Z",
     "iopub.status.idle": "2022-12-05T07:46:50.129611Z",
     "shell.execute_reply": "2022-12-05T07:46:50.128844Z"
    },
    "origin_pos": 16,
    "tab": [
     "pytorch"
    ]
   },
   "outputs": [
    {
     "data": {
      "text/plain": [
       "True"
      ]
     },
     "execution_count": 4,
     "metadata": {},
     "output_type": "execute_result"
    }
   ],
   "source": [
    "net[2].weight.grad == None"
   ]
  },
  {
   "cell_type": "markdown",
   "id": "2bf7b9aa",
   "metadata": {
    "slideshow": {
     "slide_type": "slide"
    }
   },
   "source": [
    "一次性访问所有参数"
   ]
  },
  {
   "cell_type": "code",
   "execution_count": 5,
   "id": "991656d2",
   "metadata": {
    "execution": {
     "iopub.execute_input": "2022-12-05T07:46:50.133297Z",
     "iopub.status.busy": "2022-12-05T07:46:50.132954Z",
     "iopub.status.idle": "2022-12-05T07:46:50.137922Z",
     "shell.execute_reply": "2022-12-05T07:46:50.137131Z"
    },
    "origin_pos": 19,
    "tab": [
     "pytorch"
    ]
   },
   "outputs": [
    {
     "name": "stdout",
     "output_type": "stream",
     "text": [
      "('weight', torch.Size([8, 4])) ('bias', torch.Size([8]))\n",
      "('0.weight', torch.Size([8, 4])) ('0.bias', torch.Size([8])) ('2.weight', torch.Size([1, 8])) ('2.bias', torch.Size([1]))\n"
     ]
    }
   ],
   "source": [
    "print(*[(name, param.shape) for name, param in net[0].named_parameters()])\n",
    "print(*[(name, param.shape) for name, param in net.named_parameters()])"
   ]
  },
  {
   "cell_type": "code",
   "execution_count": 6,
   "id": "5c3ca380",
   "metadata": {
    "execution": {
     "iopub.execute_input": "2022-12-05T07:46:50.141930Z",
     "iopub.status.busy": "2022-12-05T07:46:50.141236Z",
     "iopub.status.idle": "2022-12-05T07:46:50.147190Z",
     "shell.execute_reply": "2022-12-05T07:46:50.146277Z"
    },
    "origin_pos": 23,
    "tab": [
     "pytorch"
    ]
   },
   "outputs": [
    {
     "data": {
      "text/plain": [
       "tensor([0.1081])"
      ]
     },
     "execution_count": 6,
     "metadata": {},
     "output_type": "execute_result"
    }
   ],
   "source": [
    "net.state_dict()['2.bias'].data"
   ]
  },
  {
   "cell_type": "markdown",
   "id": "c00bb371",
   "metadata": {
    "slideshow": {
     "slide_type": "slide"
    }
   },
   "source": [
    "从嵌套块收集参数"
   ]
  },
  {
   "cell_type": "code",
   "execution_count": 7,
   "id": "cc1d8f2c",
   "metadata": {
    "execution": {
     "iopub.execute_input": "2022-12-05T07:46:50.150537Z",
     "iopub.status.busy": "2022-12-05T07:46:50.149869Z",
     "iopub.status.idle": "2022-12-05T07:46:50.161942Z",
     "shell.execute_reply": "2022-12-05T07:46:50.161160Z"
    },
    "origin_pos": 28,
    "tab": [
     "pytorch"
    ]
   },
   "outputs": [
    {
     "data": {
      "text/plain": [
       "tensor([[-0.0296],\n",
       "        [-0.0296]], grad_fn=<AddmmBackward0>)"
      ]
     },
     "execution_count": 7,
     "metadata": {},
     "output_type": "execute_result"
    }
   ],
   "source": [
    "def block1():\n",
    "    return nn.Sequential(nn.Linear(4, 8), nn.ReLU(),\n",
    "                         nn.Linear(8, 4), nn.ReLU())\n",
    "\n",
    "def block2():\n",
    "    net = nn.Sequential()\n",
    "    for i in range(4):\n",
    "        net.add_module(f'block {i}', block1())\n",
    "    return net\n",
    "\n",
    "rgnet = nn.Sequential(block2(), nn.Linear(4, 1))\n",
    "rgnet(X)"
   ]
  },
  {
   "cell_type": "markdown",
   "id": "01f3cf91",
   "metadata": {
    "slideshow": {
     "slide_type": "slide"
    }
   },
   "source": [
    "设计了网络后，我们看看它是如何工作的"
   ]
  },
  {
   "cell_type": "code",
   "execution_count": 8,
   "id": "fdc73e35",
   "metadata": {
    "execution": {
     "iopub.execute_input": "2022-12-05T07:46:50.165790Z",
     "iopub.status.busy": "2022-12-05T07:46:50.165157Z",
     "iopub.status.idle": "2022-12-05T07:46:50.169587Z",
     "shell.execute_reply": "2022-12-05T07:46:50.168676Z"
    },
    "origin_pos": 33,
    "tab": [
     "pytorch"
    ]
   },
   "outputs": [
    {
     "name": "stdout",
     "output_type": "stream",
     "text": [
      "Sequential(\n",
      "  (0): Sequential(\n",
      "    (block 0): Sequential(\n",
      "      (0): Linear(in_features=4, out_features=8, bias=True)\n",
      "      (1): ReLU()\n",
      "      (2): Linear(in_features=8, out_features=4, bias=True)\n",
      "      (3): ReLU()\n",
      "    )\n",
      "    (block 1): Sequential(\n",
      "      (0): Linear(in_features=4, out_features=8, bias=True)\n",
      "      (1): ReLU()\n",
      "      (2): Linear(in_features=8, out_features=4, bias=True)\n",
      "      (3): ReLU()\n",
      "    )\n",
      "    (block 2): Sequential(\n",
      "      (0): Linear(in_features=4, out_features=8, bias=True)\n",
      "      (1): ReLU()\n",
      "      (2): Linear(in_features=8, out_features=4, bias=True)\n",
      "      (3): ReLU()\n",
      "    )\n",
      "    (block 3): Sequential(\n",
      "      (0): Linear(in_features=4, out_features=8, bias=True)\n",
      "      (1): ReLU()\n",
      "      (2): Linear(in_features=8, out_features=4, bias=True)\n",
      "      (3): ReLU()\n",
      "    )\n",
      "  )\n",
      "  (1): Linear(in_features=4, out_features=1, bias=True)\n",
      ")\n"
     ]
    }
   ],
   "source": [
    "print(rgnet)"
   ]
  },
  {
   "cell_type": "code",
   "execution_count": 9,
   "id": "9afaca35",
   "metadata": {
    "execution": {
     "iopub.execute_input": "2022-12-05T07:46:50.173356Z",
     "iopub.status.busy": "2022-12-05T07:46:50.172724Z",
     "iopub.status.idle": "2022-12-05T07:46:50.178786Z",
     "shell.execute_reply": "2022-12-05T07:46:50.177980Z"
    },
    "origin_pos": 37,
    "tab": [
     "pytorch"
    ]
   },
   "outputs": [
    {
     "data": {
      "text/plain": [
       "tensor([ 0.3153, -0.3976, -0.1672,  0.1317,  0.0803, -0.1387, -0.4531, -0.2658])"
      ]
     },
     "execution_count": 9,
     "metadata": {},
     "output_type": "execute_result"
    }
   ],
   "source": [
    "rgnet[0][1][0].bias.data"
   ]
  },
  {
   "cell_type": "markdown",
   "id": "353a13f6",
   "metadata": {
    "slideshow": {
     "slide_type": "slide"
    }
   },
   "source": [
    "内置初始化"
   ]
  },
  {
   "cell_type": "code",
   "execution_count": 10,
   "id": "ae1c95c3",
   "metadata": {
    "execution": {
     "iopub.execute_input": "2022-12-05T07:46:50.182490Z",
     "iopub.status.busy": "2022-12-05T07:46:50.181832Z",
     "iopub.status.idle": "2022-12-05T07:46:50.189817Z",
     "shell.execute_reply": "2022-12-05T07:46:50.189047Z"
    },
    "origin_pos": 47,
    "tab": [
     "pytorch"
    ]
   },
   "outputs": [
    {
     "data": {
      "text/plain": [
       "(tensor([ 0.0057,  0.0215, -0.0059,  0.0080]), tensor(0.))"
      ]
     },
     "execution_count": 10,
     "metadata": {},
     "output_type": "execute_result"
    }
   ],
   "source": [
    "def init_normal(m):\n",
    "    if type(m) == nn.Linear:\n",
    "        nn.init.normal_(m.weight, mean=0, std=0.01)\n",
    "        nn.init.zeros_(m.bias)\n",
    "net.apply(init_normal)\n",
    "net[0].weight.data[0], net[0].bias.data[0]"
   ]
  },
  {
   "cell_type": "code",
   "execution_count": 11,
   "id": "bd386132",
   "metadata": {
    "execution": {
     "iopub.execute_input": "2022-12-05T07:46:50.193144Z",
     "iopub.status.busy": "2022-12-05T07:46:50.192619Z",
     "iopub.status.idle": "2022-12-05T07:46:50.200677Z",
     "shell.execute_reply": "2022-12-05T07:46:50.199776Z"
    },
    "origin_pos": 52,
    "tab": [
     "pytorch"
    ]
   },
   "outputs": [
    {
     "data": {
      "text/plain": [
       "(tensor([1., 1., 1., 1.]), tensor(0.))"
      ]
     },
     "execution_count": 11,
     "metadata": {},
     "output_type": "execute_result"
    }
   ],
   "source": [
    "def init_constant(m):\n",
    "    if type(m) == nn.Linear:\n",
    "        nn.init.constant_(m.weight, 1)\n",
    "        nn.init.zeros_(m.bias)\n",
    "net.apply(init_constant)\n",
    "net[0].weight.data[0], net[0].bias.data[0]"
   ]
  },
  {
   "cell_type": "markdown",
   "id": "f0220eb9",
   "metadata": {
    "slideshow": {
     "slide_type": "slide"
    }
   },
   "source": [
    "对某些块应用不同的初始化方法"
   ]
  },
  {
   "cell_type": "code",
   "execution_count": 12,
   "id": "da325b93",
   "metadata": {
    "execution": {
     "iopub.execute_input": "2022-12-05T07:46:50.204246Z",
     "iopub.status.busy": "2022-12-05T07:46:50.203719Z",
     "iopub.status.idle": "2022-12-05T07:46:50.211399Z",
     "shell.execute_reply": "2022-12-05T07:46:50.210588Z"
    },
    "origin_pos": 57,
    "tab": [
     "pytorch"
    ]
   },
   "outputs": [
    {
     "name": "stdout",
     "output_type": "stream",
     "text": [
      "tensor([-0.0304,  0.0343,  0.3263,  0.3913])\n",
      "tensor([[42., 42., 42., 42., 42., 42., 42., 42.]])\n"
     ]
    }
   ],
   "source": [
    "def init_xavier(m):\n",
    "    if type(m) == nn.Linear:\n",
    "        nn.init.xavier_uniform_(m.weight)\n",
    "def init_42(m):\n",
    "    if type(m) == nn.Linear:\n",
    "        nn.init.constant_(m.weight, 42)\n",
    "\n",
    "net[0].apply(init_xavier)\n",
    "net[2].apply(init_42)\n",
    "print(net[0].weight.data[0])\n",
    "print(net[2].weight.data)"
   ]
  },
  {
   "cell_type": "markdown",
   "id": "f03dcebd",
   "metadata": {
    "slideshow": {
     "slide_type": "slide"
    }
   },
   "source": [
    "自定义初始化"
   ]
  },
  {
   "cell_type": "code",
   "execution_count": 13,
   "id": "58b229ea",
   "metadata": {
    "execution": {
     "iopub.execute_input": "2022-12-05T07:46:50.215213Z",
     "iopub.status.busy": "2022-12-05T07:46:50.214601Z",
     "iopub.status.idle": "2022-12-05T07:46:50.223471Z",
     "shell.execute_reply": "2022-12-05T07:46:50.222520Z"
    },
    "origin_pos": 66,
    "tab": [
     "pytorch"
    ]
   },
   "outputs": [
    {
     "name": "stdout",
     "output_type": "stream",
     "text": [
      "Init weight torch.Size([8, 4])\n",
      "Init weight torch.Size([1, 8])\n"
     ]
    },
    {
     "data": {
      "text/plain": [
       "tensor([[-5.9422, -9.4789, -6.6268,  0.0000],\n",
       "        [-0.0000, -0.0000, -8.9323,  6.0667]], grad_fn=<SliceBackward0>)"
      ]
     },
     "execution_count": 13,
     "metadata": {},
     "output_type": "execute_result"
    }
   ],
   "source": [
    "def my_init(m):\n",
    "    if type(m) == nn.Linear:\n",
    "        print(\"Init\", *[(name, param.shape)\n",
    "                        for name, param in m.named_parameters()][0])\n",
    "        nn.init.uniform_(m.weight, -10, 10)\n",
    "        m.weight.data *= m.weight.data.abs() >= 5\n",
    "\n",
    "net.apply(my_init)\n",
    "net[0].weight[:2]"
   ]
  },
  {
   "cell_type": "code",
   "execution_count": 14,
   "id": "d4d2f0c0",
   "metadata": {
    "execution": {
     "iopub.execute_input": "2022-12-05T07:46:50.227001Z",
     "iopub.status.busy": "2022-12-05T07:46:50.226391Z",
     "iopub.status.idle": "2022-12-05T07:46:50.233053Z",
     "shell.execute_reply": "2022-12-05T07:46:50.232280Z"
    },
    "origin_pos": 71,
    "tab": [
     "pytorch"
    ]
   },
   "outputs": [
    {
     "data": {
      "text/plain": [
       "tensor([42.0000, -8.4789, -5.6268,  1.0000])"
      ]
     },
     "execution_count": 14,
     "metadata": {},
     "output_type": "execute_result"
    }
   ],
   "source": [
    "net[0].weight.data[:] += 1\n",
    "net[0].weight.data[0, 0] = 42\n",
    "net[0].weight.data[0]"
   ]
  },
  {
   "cell_type": "markdown",
   "id": "23a100a1",
   "metadata": {
    "slideshow": {
     "slide_type": "slide"
    }
   },
   "source": [
    "参数绑定"
   ]
  },
  {
   "cell_type": "code",
   "execution_count": 15,
   "id": "efa3c706",
   "metadata": {
    "execution": {
     "iopub.execute_input": "2022-12-05T07:46:50.236348Z",
     "iopub.status.busy": "2022-12-05T07:46:50.235807Z",
     "iopub.status.idle": "2022-12-05T07:46:50.243694Z",
     "shell.execute_reply": "2022-12-05T07:46:50.242912Z"
    },
    "origin_pos": 77,
    "tab": [
     "pytorch"
    ]
   },
   "outputs": [
    {
     "name": "stdout",
     "output_type": "stream",
     "text": [
      "tensor([True, True, True, True, True, True, True, True])\n",
      "tensor([True, True, True, True, True, True, True, True])\n"
     ]
    }
   ],
   "source": [
    "shared = nn.Linear(8, 8)\n",
    "net = nn.Sequential(nn.Linear(4, 8), nn.ReLU(),\n",
    "                    shared, nn.ReLU(),\n",
    "                    shared, nn.ReLU(),\n",
    "                    nn.Linear(8, 1))\n",
    "net(X)\n",
    "print(net[2].weight.data[0] == net[4].weight.data[0])\n",
    "net[2].weight.data[0, 0] = 100\n",
    "print(net[2].weight.data[0] == net[4].weight.data[0])"
   ]
  }
 ],
 "metadata": {
  "celltoolbar": "Slideshow",
  "language_info": {
   "name": "python"
  },
  "rise": {
   "autolaunch": true,
   "enable_chalkboard": true,
   "overlay": "<div class='my-top-right'><img height=80px src='http://d2l.ai/_static/logo-with-text.png'/></div><div class='my-top-left'></div>",
   "scroll": true
  }
 },
 "nbformat": 4,
 "nbformat_minor": 5
}